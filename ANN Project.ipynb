{
 "cells": [
  {
   "cell_type": "markdown",
   "id": "de187e75-2e79-42ce-a2b6-f55a934971f2",
   "metadata": {},
   "source": [
    "# Artificial Neural Network (ANN) Project"
   ]
  },
  {
   "cell_type": "markdown",
   "id": "5bbed062",
   "metadata": {},
   "source": [
    "The data set was extracted from data provided by the US Census Bureau. The task is to \n",
    "find the set of demographic characteristics that can best predict whether or not the \n",
    "individual has an income of over $50,000 per year. For each record, there are fourteen \n",
    "attributes, and one output variable. Further information on the data set follows below. \n",
    "The training data set is USCensusTraining.csv and contains all the fields for 25,000 \n",
    "records. The test data set is USCensusTest.csv; it contains 7561 records, and is missing \n",
    "the income field.\n",
    "\n",
    "Dataset: https://www.kaggle.com/uciml/adult-census-income"
   ]
  },
  {
   "cell_type": "markdown",
   "id": "a8ea3388",
   "metadata": {},
   "source": [
    "General Tasks:\n",
    "\n",
    "* Generate a neural network to predict income using the other attributes.\n",
    " \n",
    "* Identify the most important variables for predicting income.\n",
    " \n",
    "* Assess and interpret the predicted accuracy. \n",
    " \n",
    "* Compare the predicted income with actual income, and interpret the error types.\n",
    " \n",
    "* Identify occupations, education leve,s and ages associated with predicted income over $50,000. \n",
    "\n",
    "* Construct a histogram of important and unimportant numeric variables in the model, with \n",
    "an overlay of income to assess if they support the findings of the neural network.\n",
    "\n",
    "* Use best model for prediction."
   ]
  },
  {
   "cell_type": "markdown",
   "id": "1285b9f6-a93f-47f1-bca4-29af8897294a",
   "metadata": {},
   "source": [
    "### Data Preprocessing"
   ]
  },
  {
   "cell_type": "code",
   "execution_count": 1,
   "id": "61a75731-6cf3-4a98-9cb4-d42b32c539bb",
   "metadata": {},
   "outputs": [],
   "source": [
    "import numpy as np\n",
    "import matplotlib.pyplot as plt\n",
    "import seaborn as sns\n",
    "import pandas as pd"
   ]
  },
  {
   "cell_type": "code",
   "execution_count": 2,
   "id": "59c3094c-721a-4a84-8692-05e88e74467a",
   "metadata": {},
   "outputs": [],
   "source": [
    "df_train = pd.read_csv(\"USCensusTraining.csv\")"
   ]
  },
  {
   "cell_type": "markdown",
   "id": "19e1c47e-6299-42e7-8ac5-b200828001e2",
   "metadata": {},
   "source": [
    "Make a copy for the completely raw dataset for crosstab analysis (without any manipulations)."
   ]
  },
  {
   "cell_type": "code",
   "execution_count": 3,
   "id": "279bbfaa-c348-499b-a49b-8001d3e80cf0",
   "metadata": {},
   "outputs": [],
   "source": [
    "df_crosstab = df_train.copy()"
   ]
  },
  {
   "cell_type": "code",
   "execution_count": 4,
   "id": "0a03642d-9a75-4d26-bb81-c33dba45f72a",
   "metadata": {},
   "outputs": [
    {
     "data": {
      "text/html": [
       "<div>\n",
       "<style scoped>\n",
       "    .dataframe tbody tr th:only-of-type {\n",
       "        vertical-align: middle;\n",
       "    }\n",
       "\n",
       "    .dataframe tbody tr th {\n",
       "        vertical-align: top;\n",
       "    }\n",
       "\n",
       "    .dataframe thead th {\n",
       "        text-align: right;\n",
       "    }\n",
       "</style>\n",
       "<table border=\"1\" class=\"dataframe\">\n",
       "  <thead>\n",
       "    <tr style=\"text-align: right;\">\n",
       "      <th></th>\n",
       "      <th>age</th>\n",
       "      <th>workclass</th>\n",
       "      <th>demogweight</th>\n",
       "      <th>education</th>\n",
       "      <th>education-num</th>\n",
       "      <th>marital-status</th>\n",
       "      <th>occupation</th>\n",
       "      <th>relationship</th>\n",
       "      <th>race</th>\n",
       "      <th>sex</th>\n",
       "      <th>capital-gain</th>\n",
       "      <th>capital-loss</th>\n",
       "      <th>hours-per-week</th>\n",
       "      <th>native-country</th>\n",
       "      <th>income</th>\n",
       "    </tr>\n",
       "  </thead>\n",
       "  <tbody>\n",
       "    <tr>\n",
       "      <th>0</th>\n",
       "      <td>39</td>\n",
       "      <td>State-gov</td>\n",
       "      <td>77516</td>\n",
       "      <td>Bachelors</td>\n",
       "      <td>13</td>\n",
       "      <td>Never-married</td>\n",
       "      <td>Adm-clerical</td>\n",
       "      <td>Not-in-family</td>\n",
       "      <td>White</td>\n",
       "      <td>Male</td>\n",
       "      <td>2174</td>\n",
       "      <td>0</td>\n",
       "      <td>40</td>\n",
       "      <td>United-States</td>\n",
       "      <td>&lt;=50K.</td>\n",
       "    </tr>\n",
       "    <tr>\n",
       "      <th>1</th>\n",
       "      <td>50</td>\n",
       "      <td>Self-emp-not-inc</td>\n",
       "      <td>83311</td>\n",
       "      <td>Bachelors</td>\n",
       "      <td>13</td>\n",
       "      <td>Married-civ-spouse</td>\n",
       "      <td>Exec-managerial</td>\n",
       "      <td>Husband</td>\n",
       "      <td>White</td>\n",
       "      <td>Male</td>\n",
       "      <td>0</td>\n",
       "      <td>0</td>\n",
       "      <td>13</td>\n",
       "      <td>United-States</td>\n",
       "      <td>&lt;=50K.</td>\n",
       "    </tr>\n",
       "    <tr>\n",
       "      <th>2</th>\n",
       "      <td>38</td>\n",
       "      <td>Private</td>\n",
       "      <td>215646</td>\n",
       "      <td>HS-grad</td>\n",
       "      <td>9</td>\n",
       "      <td>Divorced</td>\n",
       "      <td>Handlers-cleaners</td>\n",
       "      <td>Not-in-family</td>\n",
       "      <td>White</td>\n",
       "      <td>Male</td>\n",
       "      <td>0</td>\n",
       "      <td>0</td>\n",
       "      <td>40</td>\n",
       "      <td>United-States</td>\n",
       "      <td>&lt;=50K.</td>\n",
       "    </tr>\n",
       "    <tr>\n",
       "      <th>3</th>\n",
       "      <td>53</td>\n",
       "      <td>Private</td>\n",
       "      <td>234721</td>\n",
       "      <td>11th</td>\n",
       "      <td>7</td>\n",
       "      <td>Married-civ-spouse</td>\n",
       "      <td>Handlers-cleaners</td>\n",
       "      <td>Husband</td>\n",
       "      <td>Black</td>\n",
       "      <td>Male</td>\n",
       "      <td>0</td>\n",
       "      <td>0</td>\n",
       "      <td>40</td>\n",
       "      <td>United-States</td>\n",
       "      <td>&lt;=50K.</td>\n",
       "    </tr>\n",
       "    <tr>\n",
       "      <th>4</th>\n",
       "      <td>28</td>\n",
       "      <td>Private</td>\n",
       "      <td>338409</td>\n",
       "      <td>Bachelors</td>\n",
       "      <td>13</td>\n",
       "      <td>Married-civ-spouse</td>\n",
       "      <td>Prof-specialty</td>\n",
       "      <td>Wife</td>\n",
       "      <td>Black</td>\n",
       "      <td>Female</td>\n",
       "      <td>0</td>\n",
       "      <td>0</td>\n",
       "      <td>40</td>\n",
       "      <td>Cuba</td>\n",
       "      <td>&lt;=50K.</td>\n",
       "    </tr>\n",
       "  </tbody>\n",
       "</table>\n",
       "</div>"
      ],
      "text/plain": [
       "   age         workclass  demogweight  education  education-num  \\\n",
       "0   39         State-gov        77516  Bachelors             13   \n",
       "1   50  Self-emp-not-inc        83311  Bachelors             13   \n",
       "2   38           Private       215646    HS-grad              9   \n",
       "3   53           Private       234721       11th              7   \n",
       "4   28           Private       338409  Bachelors             13   \n",
       "\n",
       "       marital-status         occupation   relationship   race     sex  \\\n",
       "0       Never-married       Adm-clerical  Not-in-family  White    Male   \n",
       "1  Married-civ-spouse    Exec-managerial        Husband  White    Male   \n",
       "2            Divorced  Handlers-cleaners  Not-in-family  White    Male   \n",
       "3  Married-civ-spouse  Handlers-cleaners        Husband  Black    Male   \n",
       "4  Married-civ-spouse     Prof-specialty           Wife  Black  Female   \n",
       "\n",
       "   capital-gain  capital-loss  hours-per-week native-country  income  \n",
       "0          2174             0              40  United-States  <=50K.  \n",
       "1             0             0              13  United-States  <=50K.  \n",
       "2             0             0              40  United-States  <=50K.  \n",
       "3             0             0              40  United-States  <=50K.  \n",
       "4             0             0              40           Cuba  <=50K.  "
      ]
     },
     "execution_count": 4,
     "metadata": {},
     "output_type": "execute_result"
    }
   ],
   "source": [
    "df_train.head()"
   ]
  },
  {
   "cell_type": "code",
   "execution_count": 5,
   "id": "a0d7d10a-3cb2-4c23-ab94-7356ce4d3b0a",
   "metadata": {},
   "outputs": [
    {
     "data": {
      "text/plain": [
       "age               0\n",
       "workclass         0\n",
       "demogweight       0\n",
       "education         0\n",
       "education-num     0\n",
       "marital-status    0\n",
       "occupation        0\n",
       "relationship      0\n",
       "race              0\n",
       "sex               0\n",
       "capital-gain      0\n",
       "capital-loss      0\n",
       "hours-per-week    0\n",
       "native-country    0\n",
       "income            0\n",
       "dtype: int64"
      ]
     },
     "execution_count": 5,
     "metadata": {},
     "output_type": "execute_result"
    }
   ],
   "source": [
    "df_train.isnull().sum()"
   ]
  },
  {
   "cell_type": "code",
   "execution_count": 6,
   "id": "993ca05b-e100-4df0-855d-90d5b65bcaa9",
   "metadata": {},
   "outputs": [
    {
     "data": {
      "text/html": [
       "<div>\n",
       "<style scoped>\n",
       "    .dataframe tbody tr th:only-of-type {\n",
       "        vertical-align: middle;\n",
       "    }\n",
       "\n",
       "    .dataframe tbody tr th {\n",
       "        vertical-align: top;\n",
       "    }\n",
       "\n",
       "    .dataframe thead th {\n",
       "        text-align: right;\n",
       "    }\n",
       "</style>\n",
       "<table border=\"1\" class=\"dataframe\">\n",
       "  <thead>\n",
       "    <tr style=\"text-align: right;\">\n",
       "      <th></th>\n",
       "      <th>age</th>\n",
       "      <th>demogweight</th>\n",
       "      <th>education-num</th>\n",
       "      <th>capital-gain</th>\n",
       "      <th>capital-loss</th>\n",
       "      <th>hours-per-week</th>\n",
       "    </tr>\n",
       "  </thead>\n",
       "  <tbody>\n",
       "    <tr>\n",
       "      <th>count</th>\n",
       "      <td>25000.000000</td>\n",
       "      <td>2.500000e+04</td>\n",
       "      <td>25000.000000</td>\n",
       "      <td>25000.000000</td>\n",
       "      <td>25000.00000</td>\n",
       "      <td>25000.000000</td>\n",
       "    </tr>\n",
       "    <tr>\n",
       "      <th>mean</th>\n",
       "      <td>38.606920</td>\n",
       "      <td>1.897418e+05</td>\n",
       "      <td>10.081440</td>\n",
       "      <td>1088.579040</td>\n",
       "      <td>86.49992</td>\n",
       "      <td>40.407440</td>\n",
       "    </tr>\n",
       "    <tr>\n",
       "      <th>std</th>\n",
       "      <td>13.687769</td>\n",
       "      <td>1.052947e+05</td>\n",
       "      <td>2.557035</td>\n",
       "      <td>7486.621197</td>\n",
       "      <td>401.25358</td>\n",
       "      <td>12.299267</td>\n",
       "    </tr>\n",
       "    <tr>\n",
       "      <th>min</th>\n",
       "      <td>17.000000</td>\n",
       "      <td>1.228500e+04</td>\n",
       "      <td>1.000000</td>\n",
       "      <td>0.000000</td>\n",
       "      <td>0.00000</td>\n",
       "      <td>1.000000</td>\n",
       "    </tr>\n",
       "    <tr>\n",
       "      <th>25%</th>\n",
       "      <td>28.000000</td>\n",
       "      <td>1.179630e+05</td>\n",
       "      <td>9.000000</td>\n",
       "      <td>0.000000</td>\n",
       "      <td>0.00000</td>\n",
       "      <td>40.000000</td>\n",
       "    </tr>\n",
       "    <tr>\n",
       "      <th>50%</th>\n",
       "      <td>37.000000</td>\n",
       "      <td>1.783530e+05</td>\n",
       "      <td>10.000000</td>\n",
       "      <td>0.000000</td>\n",
       "      <td>0.00000</td>\n",
       "      <td>40.000000</td>\n",
       "    </tr>\n",
       "    <tr>\n",
       "      <th>75%</th>\n",
       "      <td>48.000000</td>\n",
       "      <td>2.368610e+05</td>\n",
       "      <td>12.000000</td>\n",
       "      <td>0.000000</td>\n",
       "      <td>0.00000</td>\n",
       "      <td>45.000000</td>\n",
       "    </tr>\n",
       "    <tr>\n",
       "      <th>max</th>\n",
       "      <td>90.000000</td>\n",
       "      <td>1.484705e+06</td>\n",
       "      <td>16.000000</td>\n",
       "      <td>99999.000000</td>\n",
       "      <td>4356.00000</td>\n",
       "      <td>99.000000</td>\n",
       "    </tr>\n",
       "  </tbody>\n",
       "</table>\n",
       "</div>"
      ],
      "text/plain": [
       "                age   demogweight  education-num  capital-gain  capital-loss  \\\n",
       "count  25000.000000  2.500000e+04   25000.000000  25000.000000   25000.00000   \n",
       "mean      38.606920  1.897418e+05      10.081440   1088.579040      86.49992   \n",
       "std       13.687769  1.052947e+05       2.557035   7486.621197     401.25358   \n",
       "min       17.000000  1.228500e+04       1.000000      0.000000       0.00000   \n",
       "25%       28.000000  1.179630e+05       9.000000      0.000000       0.00000   \n",
       "50%       37.000000  1.783530e+05      10.000000      0.000000       0.00000   \n",
       "75%       48.000000  2.368610e+05      12.000000      0.000000       0.00000   \n",
       "max       90.000000  1.484705e+06      16.000000  99999.000000    4356.00000   \n",
       "\n",
       "       hours-per-week  \n",
       "count    25000.000000  \n",
       "mean        40.407440  \n",
       "std         12.299267  \n",
       "min          1.000000  \n",
       "25%         40.000000  \n",
       "50%         40.000000  \n",
       "75%         45.000000  \n",
       "max         99.000000  "
      ]
     },
     "execution_count": 6,
     "metadata": {},
     "output_type": "execute_result"
    }
   ],
   "source": [
    "df_train.describe()"
   ]
  },
  {
   "cell_type": "code",
   "execution_count": 7,
   "id": "f1fff83c-2d2d-43fa-96e1-dd0b986cd419",
   "metadata": {},
   "outputs": [
    {
     "data": {
      "text/plain": [
       "Index(['age', 'workclass', 'demogweight', 'education', 'education-num',\n",
       "       'marital-status', 'occupation', 'relationship', 'race', 'sex',\n",
       "       'capital-gain', 'capital-loss', 'hours-per-week', 'native-country',\n",
       "       'income'],\n",
       "      dtype='object')"
      ]
     },
     "execution_count": 7,
     "metadata": {},
     "output_type": "execute_result"
    }
   ],
   "source": [
    "df_train.columns"
   ]
  },
  {
   "cell_type": "code",
   "execution_count": 8,
   "id": "cbf9e764-1182-4120-8d8f-d243d7714204",
   "metadata": {},
   "outputs": [
    {
     "name": "stdout",
     "output_type": "stream",
     "text": [
      "<class 'pandas.core.frame.DataFrame'>\n",
      "RangeIndex: 25000 entries, 0 to 24999\n",
      "Data columns (total 15 columns):\n",
      " #   Column          Non-Null Count  Dtype \n",
      "---  ------          --------------  ----- \n",
      " 0   age             25000 non-null  int64 \n",
      " 1   workclass       25000 non-null  object\n",
      " 2   demogweight     25000 non-null  int64 \n",
      " 3   education       25000 non-null  object\n",
      " 4   education-num   25000 non-null  int64 \n",
      " 5   marital-status  25000 non-null  object\n",
      " 6   occupation      25000 non-null  object\n",
      " 7   relationship    25000 non-null  object\n",
      " 8   race            25000 non-null  object\n",
      " 9   sex             25000 non-null  object\n",
      " 10  capital-gain    25000 non-null  int64 \n",
      " 11  capital-loss    25000 non-null  int64 \n",
      " 12  hours-per-week  25000 non-null  int64 \n",
      " 13  native-country  25000 non-null  object\n",
      " 14  income          25000 non-null  object\n",
      "dtypes: int64(6), object(9)\n",
      "memory usage: 2.9+ MB\n"
     ]
    }
   ],
   "source": [
    "df_train.info()"
   ]
  },
  {
   "cell_type": "markdown",
   "id": "16401dc4-4f8d-4178-b711-7f8cdfa7d355",
   "metadata": {},
   "source": [
    "### Part One\n",
    "(a) Generate a neural network to predict income using the other attributes. You may need to ignore one of the attributes. Describe the topology of the resulting network and draw a detailed picture of the network topology, labeling the input and output layers."
   ]
  },
  {
   "cell_type": "markdown",
   "id": "3d1f370a-b584-4f02-9636-e8d4379f7aa7",
   "metadata": {},
   "source": [
    "## Data Preparation"
   ]
  },
  {
   "cell_type": "code",
   "execution_count": 9,
   "id": "88b86dc9-0bb9-41cf-bd9d-f9083a8f8833",
   "metadata": {},
   "outputs": [],
   "source": [
    "from sklearn import preprocessing"
   ]
  },
  {
   "cell_type": "code",
   "execution_count": 10,
   "id": "6ab44d4b-7684-40f2-9cb1-40753d612681",
   "metadata": {},
   "outputs": [
    {
     "data": {
      "text/plain": [
       "<=50K.    19016\n",
       ">50K.      5984\n",
       "Name: income, dtype: int64"
      ]
     },
     "execution_count": 10,
     "metadata": {},
     "output_type": "execute_result"
    }
   ],
   "source": [
    "df_train[\"income\"].value_counts()"
   ]
  },
  {
   "cell_type": "code",
   "execution_count": 11,
   "id": "a2cb2fce-ad60-4a41-9137-db1dc1373d8b",
   "metadata": {},
   "outputs": [
    {
     "data": {
      "image/png": "[encoded data removed]",
      "text/plain": [
       "<Figure size 288x288 with 1 Axes>"
      ]
     },
     "metadata": {
      "needs_background": "light"
     },
     "output_type": "display_data"
    }
   ],
   "source": [
    "plt.figure(figsize=(4,4))\n",
    "plt.hist(df_train[\"income\"], alpha=0.6)\n",
    "ticks = [0.0,1.0]\n",
    "labels = [\"<=50K\",\">50K\"]\n",
    "plt.xticks(ticks, labels, rotation=30)\n",
    "plt.title(\"Income\")\n",
    "plt.show()"
   ]
  },
  {
   "cell_type": "markdown",
   "id": "2896f767-929a-4952-a4f7-711b7a91d35a",
   "metadata": {},
   "source": [
    "- Therefore, we can see that the bottomline classification rate is 19016/25000 = 76.064%"
   ]
  },
  {
   "cell_type": "code",
   "execution_count": 12,
   "id": "2703c5c8-0451-4608-a1b1-edc67edae2a2",
   "metadata": {},
   "outputs": [
    {
     "data": {
      "text/plain": [
       "9     8120\n",
       "10    5597\n",
       "13    4140\n",
       "14    1300\n",
       "11    1059\n",
       "7      909\n",
       "12     801\n",
       "6      721\n",
       "4      491\n",
       "15     430\n",
       "5      394\n",
       "8      323\n",
       "16     315\n",
       "3      244\n",
       "2      120\n",
       "1       36\n",
       "Name: education-num, dtype: int64"
      ]
     },
     "execution_count": 12,
     "metadata": {},
     "output_type": "execute_result"
    }
   ],
   "source": [
    "df_train[\"education-num\"].value_counts()"
   ]
  },
  {
   "cell_type": "code",
   "execution_count": 13,
   "id": "416fba1f-86ee-476e-a9f1-d40d39dd9f1a",
   "metadata": {},
   "outputs": [],
   "source": [
    "df_train = df_train.drop(\"education-num\",axis=1)"
   ]
  },
  {
   "cell_type": "code",
   "execution_count": 15,
   "id": "21a1ba4b-a8bf-4b45-89e2-84f6a29e1760",
   "metadata": {},
   "outputs": [],
   "source": [
    "df_train['occupation'].replace({'?':np.NaN},inplace=True)\n",
    "df_train['workclass'].replace({'?':np.NaN},inplace=True)"
   ]
  },
  {
   "cell_type": "code",
   "execution_count": 16,
   "id": "2a2f2b69-c21b-4df5-a287-5292a0a9a747",
   "metadata": {},
   "outputs": [
    {
     "name": "stdout",
     "output_type": "stream",
     "text": [
      "<class 'pandas.core.frame.DataFrame'>\n",
      "RangeIndex: 25000 entries, 0 to 24999\n",
      "Data columns (total 14 columns):\n",
      " #   Column          Non-Null Count  Dtype \n",
      "---  ------          --------------  ----- \n",
      " 0   age             25000 non-null  int64 \n",
      " 1   workclass       23601 non-null  object\n",
      " 2   demogweight     25000 non-null  int64 \n",
      " 3   education       25000 non-null  object\n",
      " 4   marital-status  25000 non-null  object\n",
      " 5   occupation      23596 non-null  object\n",
      " 6   relationship    25000 non-null  object\n",
      " 7   race            25000 non-null  object\n",
      " 8   sex             25000 non-null  object\n",
      " 9   capital-gain    25000 non-null  int64 \n",
      " 10  capital-loss    25000 non-null  int64 \n",
      " 11  hours-per-week  25000 non-null  int64 \n",
      " 12  native-country  25000 non-null  object\n",
      " 13  income          25000 non-null  object\n",
      "dtypes: int64(5), object(9)\n",
      "memory usage: 2.7+ MB\n"
     ]
    }
   ],
   "source": [
    "df_train.info()"
   ]
  },
  {
   "cell_type": "markdown",
   "id": "06c18bcb-d916-4602-b8d9-e3dc6afff24f",
   "metadata": {},
   "source": [
    "We can observe that there are 1404 occupations missing. There are several options:\n",
    "1. drop all the rows with missing occupations\n",
    "2. KNN imputation (to fill the missing value)\n",
    "3. keep null as another level here. <br>\n",
    "- For now, we will go for option 3."
   ]
  },
  {
   "cell_type": "code",
   "execution_count": 17,
   "id": "e35b142d-d899-4c55-9bbc-ac26f856ac77",
   "metadata": {},
   "outputs": [],
   "source": [
    "df_train['occupation'].replace({np.NaN:'?'},inplace=True)\n",
    "df_train['workclass'].replace({np.NaN:'?'},inplace=True)"
   ]
  },
  {
   "cell_type": "code",
   "execution_count": 18,
   "id": "2743d24e-53bd-4aac-ab5b-b6b0eefe8eaa",
   "metadata": {},
   "outputs": [
    {
     "data": {
      "text/plain": [
       "0"
      ]
     },
     "execution_count": 18,
     "metadata": {},
     "output_type": "execute_result"
    }
   ],
   "source": [
    "df_train['occupation'].isnull().sum()"
   ]
  },
  {
   "cell_type": "code",
   "execution_count": 19,
   "id": "d866a70e-7e1e-40a5-9607-0b9219205c7b",
   "metadata": {},
   "outputs": [
    {
     "data": {
      "text/plain": [
       "Index(['workclass', 'education', 'marital-status', 'occupation',\n",
       "       'relationship', 'race', 'sex', 'native-country', 'income'],\n",
       "      dtype='object')"
      ]
     },
     "execution_count": 19,
     "metadata": {},
     "output_type": "execute_result"
    }
   ],
   "source": [
    "df_train.select_dtypes('object').columns"
   ]
  },
  {
   "cell_type": "code",
   "execution_count": 20,
   "id": "e0020bcc-aa64-4202-ba17-259983f79cda",
   "metadata": {
    "tags": []
   },
   "outputs": [],
   "source": [
    "categorical_cols = list(df_train.select_dtypes('object').columns)[:-1]"
   ]
  },
  {
   "cell_type": "code",
   "execution_count": 21,
   "id": "d7b803e4-adc2-4a8e-a2a8-164bd9a1c443",
   "metadata": {},
   "outputs": [
    {
     "data": {
      "text/plain": [
       "['workclass',\n",
       " 'education',\n",
       " 'marital-status',\n",
       " 'occupation',\n",
       " 'relationship',\n",
       " 'race',\n",
       " 'sex',\n",
       " 'native-country']"
      ]
     },
     "execution_count": 21,
     "metadata": {},
     "output_type": "execute_result"
    }
   ],
   "source": [
    "categorical_cols"
   ]
  },
  {
   "cell_type": "code",
   "execution_count": 22,
   "id": "8cfb75ba-c4e6-4fa4-8f1c-fb524f84de3a",
   "metadata": {},
   "outputs": [],
   "source": [
    "df_train_dum = pd.get_dummies(df_train, columns = categorical_cols)"
   ]
  },
  {
   "cell_type": "code",
   "execution_count": 23,
   "id": "a39505c7-b0a8-48d0-a784-0c7813184383",
   "metadata": {},
   "outputs": [
    {
     "data": {
      "text/html": [
       "<div>\n",
       "<style scoped>\n",
       "    .dataframe tbody tr th:only-of-type {\n",
       "        vertical-align: middle;\n",
       "    }\n",
       "\n",
       "    .dataframe tbody tr th {\n",
       "        vertical-align: top;\n",
       "    }\n",
       "\n",
       "    .dataframe thead th {\n",
       "        text-align: right;\n",
       "    }\n",
       "</style>\n",
       "<table border=\"1\" class=\"dataframe\">\n",
       "  <thead>\n",
       "    <tr style=\"text-align: right;\">\n",
       "      <th></th>\n",
       "      <th>age</th>\n",
       "      <th>demogweight</th>\n",
       "      <th>capital-gain</th>\n",
       "      <th>capital-loss</th>\n",
       "      <th>hours-per-week</th>\n",
       "      <th>income</th>\n",
       "      <th>workclass_?</th>\n",
       "      <th>workclass_Federal-gov</th>\n",
       "      <th>workclass_Local-gov</th>\n",
       "      <th>workclass_Never-worked</th>\n",
       "      <th>...</th>\n",
       "      <th>native-country_Portugal</th>\n",
       "      <th>native-country_Puerto-Rico</th>\n",
       "      <th>native-country_Scotland</th>\n",
       "      <th>native-country_South</th>\n",
       "      <th>native-country_Taiwan</th>\n",
       "      <th>native-country_Thailand</th>\n",
       "      <th>native-country_Trinadad&amp;Tobago</th>\n",
       "      <th>native-country_United-States</th>\n",
       "      <th>native-country_Vietnam</th>\n",
       "      <th>native-country_Yugoslavia</th>\n",
       "    </tr>\n",
       "  </thead>\n",
       "  <tbody>\n",
       "    <tr>\n",
       "      <th>0</th>\n",
       "      <td>39</td>\n",
       "      <td>77516</td>\n",
       "      <td>2174</td>\n",
       "      <td>0</td>\n",
       "      <td>40</td>\n",
       "      <td>&lt;=50K.</td>\n",
       "      <td>0</td>\n",
       "      <td>0</td>\n",
       "      <td>0</td>\n",
       "      <td>0</td>\n",
       "      <td>...</td>\n",
       "      <td>0</td>\n",
       "      <td>0</td>\n",
       "      <td>0</td>\n",
       "      <td>0</td>\n",
       "      <td>0</td>\n",
       "      <td>0</td>\n",
       "      <td>0</td>\n",
       "      <td>1</td>\n",
       "      <td>0</td>\n",
       "      <td>0</td>\n",
       "    </tr>\n",
       "    <tr>\n",
       "      <th>1</th>\n",
       "      <td>50</td>\n",
       "      <td>83311</td>\n",
       "      <td>0</td>\n",
       "      <td>0</td>\n",
       "      <td>13</td>\n",
       "      <td>&lt;=50K.</td>\n",
       "      <td>0</td>\n",
       "      <td>0</td>\n",
       "      <td>0</td>\n",
       "      <td>0</td>\n",
       "      <td>...</td>\n",
       "      <td>0</td>\n",
       "      <td>0</td>\n",
       "      <td>0</td>\n",
       "      <td>0</td>\n",
       "      <td>0</td>\n",
       "      <td>0</td>\n",
       "      <td>0</td>\n",
       "      <td>1</td>\n",
       "      <td>0</td>\n",
       "      <td>0</td>\n",
       "    </tr>\n",
       "    <tr>\n",
       "      <th>2</th>\n",
       "      <td>38</td>\n",
       "      <td>215646</td>\n",
       "      <td>0</td>\n",
       "      <td>0</td>\n",
       "      <td>40</td>\n",
       "      <td>&lt;=50K.</td>\n",
       "      <td>0</td>\n",
       "      <td>0</td>\n",
       "      <td>0</td>\n",
       "      <td>0</td>\n",
       "      <td>...</td>\n",
       "      <td>0</td>\n",
       "      <td>0</td>\n",
       "      <td>0</td>\n",
       "      <td>0</td>\n",
       "      <td>0</td>\n",
       "      <td>0</td>\n",
       "      <td>0</td>\n",
       "      <td>1</td>\n",
       "      <td>0</td>\n",
       "      <td>0</td>\n",
       "    </tr>\n",
       "    <tr>\n",
       "      <th>3</th>\n",
       "      <td>53</td>\n",
       "      <td>234721</td>\n",
       "      <td>0</td>\n",
       "      <td>0</td>\n",
       "      <td>40</td>\n",
       "      <td>&lt;=50K.</td>\n",
       "      <td>0</td>\n",
       "      <td>0</td>\n",
       "      <td>0</td>\n",
       "      <td>0</td>\n",
       "      <td>...</td>\n",
       "      <td>0</td>\n",
       "      <td>0</td>\n",
       "      <td>0</td>\n",
       "      <td>0</td>\n",
       "      <td>0</td>\n",
       "      <td>0</td>\n",
       "      <td>0</td>\n",
       "      <td>1</td>\n",
       "      <td>0</td>\n",
       "      <td>0</td>\n",
       "    </tr>\n",
       "    <tr>\n",
       "      <th>4</th>\n",
       "      <td>28</td>\n",
       "      <td>338409</td>\n",
       "      <td>0</td>\n",
       "      <td>0</td>\n",
       "      <td>40</td>\n",
       "      <td>&lt;=50K.</td>\n",
       "      <td>0</td>\n",
       "      <td>0</td>\n",
       "      <td>0</td>\n",
       "      <td>0</td>\n",
       "      <td>...</td>\n",
       "      <td>0</td>\n",
       "      <td>0</td>\n",
       "      <td>0</td>\n",
       "      <td>0</td>\n",
       "      <td>0</td>\n",
       "      <td>0</td>\n",
       "      <td>0</td>\n",
       "      <td>0</td>\n",
       "      <td>0</td>\n",
       "      <td>0</td>\n",
       "    </tr>\n",
       "  </tbody>\n",
       "</table>\n",
       "<p>5 rows × 108 columns</p>\n",
       "</div>"
      ],
      "text/plain": [
       "   age  demogweight  capital-gain  capital-loss  hours-per-week  income  \\\n",
       "0   39        77516          2174             0              40  <=50K.   \n",
       "1   50        83311             0             0              13  <=50K.   \n",
       "2   38       215646             0             0              40  <=50K.   \n",
       "3   53       234721             0             0              40  <=50K.   \n",
       "4   28       338409             0             0              40  <=50K.   \n",
       "\n",
       "   workclass_?  workclass_Federal-gov  workclass_Local-gov  \\\n",
       "0            0                      0                    0   \n",
       "1            0                      0                    0   \n",
       "2            0                      0                    0   \n",
       "3            0                      0                    0   \n",
       "4            0                      0                    0   \n",
       "\n",
       "   workclass_Never-worked  ...  native-country_Portugal  \\\n",
       "0                       0  ...                        0   \n",
       "1                       0  ...                        0   \n",
       "2                       0  ...                        0   \n",
       "3                       0  ...                        0   \n",
       "4                       0  ...                        0   \n",
       "\n",
       "   native-country_Puerto-Rico  native-country_Scotland  native-country_South  \\\n",
       "0                           0                        0                     0   \n",
       "1                           0                        0                     0   \n",
       "2                           0                        0                     0   \n",
       "3                           0                        0                     0   \n",
       "4                           0                        0                     0   \n",
       "\n",
       "   native-country_Taiwan  native-country_Thailand  \\\n",
       "0                      0                        0   \n",
       "1                      0                        0   \n",
       "2                      0                        0   \n",
       "3                      0                        0   \n",
       "4                      0                        0   \n",
       "\n",
       "   native-country_Trinadad&Tobago  native-country_United-States  \\\n",
       "0                               0                             1   \n",
       "1                               0                             1   \n",
       "2                               0                             1   \n",
       "3                               0                             1   \n",
       "4                               0                             0   \n",
       "\n",
       "   native-country_Vietnam  native-country_Yugoslavia  \n",
       "0                       0                          0  \n",
       "1                       0                          0  \n",
       "2                       0                          0  \n",
       "3                       0                          0  \n",
       "4                       0                          0  \n",
       "\n",
       "[5 rows x 108 columns]"
      ]
     },
     "execution_count": 23,
     "metadata": {},
     "output_type": "execute_result"
    }
   ],
   "source": [
    "df_train_dum.head()"
   ]
  },
  {
   "cell_type": "code",
   "execution_count": 24,
   "id": "0953985c-015b-480d-889f-1f00c39d717b",
   "metadata": {},
   "outputs": [],
   "source": [
    "df_train_dum[\"income\"] = df_train_dum[\"income\"].map({'<=50K.':0,'>50K.':1})"
   ]
  },
  {
   "cell_type": "code",
   "execution_count": 25,
   "id": "630ccb2e-a4c8-4e17-9642-c6a6be556ae5",
   "metadata": {},
   "outputs": [
    {
     "data": {
      "text/plain": [
       "0    19016\n",
       "1     5984\n",
       "Name: income, dtype: int64"
      ]
     },
     "execution_count": 25,
     "metadata": {},
     "output_type": "execute_result"
    }
   ],
   "source": [
    "df_train_dum[\"income\"].value_counts()"
   ]
  },
  {
   "cell_type": "code",
   "execution_count": 26,
   "id": "3b96e494-929d-48d6-b0d7-0173080f8d70",
   "metadata": {},
   "outputs": [
    {
     "data": {
      "text/plain": [
       "(25000, 108)"
      ]
     },
     "execution_count": 26,
     "metadata": {},
     "output_type": "execute_result"
    }
   ],
   "source": [
    "df_train_dum.shape"
   ]
  },
  {
   "cell_type": "code",
   "execution_count": 27,
   "id": "fb54a267-4727-4831-8b1b-b8a0d6abcd66",
   "metadata": {},
   "outputs": [],
   "source": [
    "from sklearn.model_selection import train_test_split"
   ]
  },
  {
   "cell_type": "code",
   "execution_count": 28,
   "id": "8e1b5bae-a2c6-4be6-b673-76266d184039",
   "metadata": {},
   "outputs": [],
   "source": [
    "y = df_train_dum[\"income\"]"
   ]
  },
  {
   "cell_type": "code",
   "execution_count": 29,
   "id": "5b8f3f6a-22d7-49f6-a46f-40da2a3489a8",
   "metadata": {},
   "outputs": [],
   "source": [
    "X = df_train_dum.drop(\"income\", axis=1)"
   ]
  },
  {
   "cell_type": "code",
   "execution_count": 30,
   "id": "34094b7e-5e43-4384-8eb5-769c17881f07",
   "metadata": {},
   "outputs": [],
   "source": [
    "seed = 7"
   ]
  },
  {
   "cell_type": "code",
   "execution_count": 31,
   "id": "a27a28b3-17d1-4e52-a474-b737e717e70c",
   "metadata": {},
   "outputs": [],
   "source": [
    "np.random.seed(seed)"
   ]
  },
  {
   "cell_type": "markdown",
   "id": "5c4ed7f3-a923-41b3-83ed-9afb606ae01f",
   "metadata": {},
   "source": [
    "Note: we need to do the train_test_split prior to standardize the whole dataset, as we assume that we don't know the distribution of the holdout dataset. \n",
    "- the \"holdout\" set will also be transformed according to trainset's distribution."
   ]
  },
  {
   "cell_type": "code",
   "execution_count": 32,
   "id": "5075e5dd-f56a-44a0-be3b-020e5f4233b1",
   "metadata": {},
   "outputs": [],
   "source": [
    "X_train, X_val, y_train, y_val = train_test_split(X,y,test_size=0.2,random_state=seed)"
   ]
  },
  {
   "cell_type": "code",
   "execution_count": 33,
   "id": "a021a9e0-b24b-4160-a691-e1f374c7426f",
   "metadata": {},
   "outputs": [],
   "source": [
    "scaler = preprocessing.MinMaxScaler()"
   ]
  },
  {
   "cell_type": "code",
   "execution_count": 34,
   "id": "b4a19001-490e-4dc7-9117-2ce22e59fd73",
   "metadata": {},
   "outputs": [],
   "source": [
    "scaled_X_train = scaler.fit_transform(X_train)"
   ]
  },
  {
   "cell_type": "code",
   "execution_count": 35,
   "id": "eac9f9db-f671-4fa7-8fb9-5f0b0644db5d",
   "metadata": {},
   "outputs": [],
   "source": [
    "scaled_X_val = scaler.transform(X_val)"
   ]
  },
  {
   "cell_type": "code",
   "execution_count": 36,
   "id": "2893aa64-08ec-4068-ad84-fbeec3ecdd64",
   "metadata": {},
   "outputs": [],
   "source": [
    "cols = [x for x in list(df_train_dum.columns) if x !='income' ]"
   ]
  },
  {
   "cell_type": "code",
   "execution_count": 37,
   "id": "cb3375db-fb54-4506-8ca7-8bdc6d66d6f3",
   "metadata": {},
   "outputs": [],
   "source": [
    "scaled_df_train = pd.DataFrame(scaled_X_train, columns=cols)"
   ]
  },
  {
   "cell_type": "code",
   "execution_count": 38,
   "id": "229d0be6-4790-4f3c-8faa-5ebded7fe1b9",
   "metadata": {},
   "outputs": [
    {
     "data": {
      "text/html": [
       "<div>\n",
       "<style scoped>\n",
       "    .dataframe tbody tr th:only-of-type {\n",
       "        vertical-align: middle;\n",
       "    }\n",
       "\n",
       "    .dataframe tbody tr th {\n",
       "        vertical-align: top;\n",
       "    }\n",
       "\n",
       "    .dataframe thead th {\n",
       "        text-align: right;\n",
       "    }\n",
       "</style>\n",
       "<table border=\"1\" class=\"dataframe\">\n",
       "  <thead>\n",
       "    <tr style=\"text-align: right;\">\n",
       "      <th></th>\n",
       "      <th>age</th>\n",
       "      <th>demogweight</th>\n",
       "      <th>capital-gain</th>\n",
       "      <th>capital-loss</th>\n",
       "      <th>hours-per-week</th>\n",
       "      <th>workclass_?</th>\n",
       "      <th>workclass_Federal-gov</th>\n",
       "      <th>workclass_Local-gov</th>\n",
       "      <th>workclass_Never-worked</th>\n",
       "      <th>workclass_Private</th>\n",
       "      <th>...</th>\n",
       "      <th>native-country_Portugal</th>\n",
       "      <th>native-country_Puerto-Rico</th>\n",
       "      <th>native-country_Scotland</th>\n",
       "      <th>native-country_South</th>\n",
       "      <th>native-country_Taiwan</th>\n",
       "      <th>native-country_Thailand</th>\n",
       "      <th>native-country_Trinadad&amp;Tobago</th>\n",
       "      <th>native-country_United-States</th>\n",
       "      <th>native-country_Vietnam</th>\n",
       "      <th>native-country_Yugoslavia</th>\n",
       "    </tr>\n",
       "  </thead>\n",
       "  <tbody>\n",
       "    <tr>\n",
       "      <th>0</th>\n",
       "      <td>0.178082</td>\n",
       "      <td>0.049334</td>\n",
       "      <td>0.00000</td>\n",
       "      <td>0.0</td>\n",
       "      <td>0.551020</td>\n",
       "      <td>0.0</td>\n",
       "      <td>0.0</td>\n",
       "      <td>0.0</td>\n",
       "      <td>0.0</td>\n",
       "      <td>1.0</td>\n",
       "      <td>...</td>\n",
       "      <td>0.0</td>\n",
       "      <td>0.0</td>\n",
       "      <td>0.0</td>\n",
       "      <td>0.0</td>\n",
       "      <td>0.0</td>\n",
       "      <td>0.0</td>\n",
       "      <td>0.0</td>\n",
       "      <td>1.0</td>\n",
       "      <td>0.0</td>\n",
       "      <td>0.0</td>\n",
       "    </tr>\n",
       "    <tr>\n",
       "      <th>1</th>\n",
       "      <td>0.356164</td>\n",
       "      <td>0.191264</td>\n",
       "      <td>0.00000</td>\n",
       "      <td>0.0</td>\n",
       "      <td>0.397959</td>\n",
       "      <td>0.0</td>\n",
       "      <td>0.0</td>\n",
       "      <td>0.0</td>\n",
       "      <td>0.0</td>\n",
       "      <td>1.0</td>\n",
       "      <td>...</td>\n",
       "      <td>0.0</td>\n",
       "      <td>0.0</td>\n",
       "      <td>0.0</td>\n",
       "      <td>0.0</td>\n",
       "      <td>0.0</td>\n",
       "      <td>0.0</td>\n",
       "      <td>0.0</td>\n",
       "      <td>1.0</td>\n",
       "      <td>0.0</td>\n",
       "      <td>0.0</td>\n",
       "    </tr>\n",
       "    <tr>\n",
       "      <th>2</th>\n",
       "      <td>0.465753</td>\n",
       "      <td>0.096036</td>\n",
       "      <td>0.00000</td>\n",
       "      <td>0.0</td>\n",
       "      <td>0.397959</td>\n",
       "      <td>0.0</td>\n",
       "      <td>0.0</td>\n",
       "      <td>0.0</td>\n",
       "      <td>0.0</td>\n",
       "      <td>1.0</td>\n",
       "      <td>...</td>\n",
       "      <td>0.0</td>\n",
       "      <td>0.0</td>\n",
       "      <td>0.0</td>\n",
       "      <td>0.0</td>\n",
       "      <td>0.0</td>\n",
       "      <td>0.0</td>\n",
       "      <td>0.0</td>\n",
       "      <td>1.0</td>\n",
       "      <td>0.0</td>\n",
       "      <td>0.0</td>\n",
       "    </tr>\n",
       "    <tr>\n",
       "      <th>3</th>\n",
       "      <td>0.260274</td>\n",
       "      <td>0.009470</td>\n",
       "      <td>0.03325</td>\n",
       "      <td>0.0</td>\n",
       "      <td>0.448980</td>\n",
       "      <td>0.0</td>\n",
       "      <td>0.0</td>\n",
       "      <td>0.0</td>\n",
       "      <td>0.0</td>\n",
       "      <td>1.0</td>\n",
       "      <td>...</td>\n",
       "      <td>0.0</td>\n",
       "      <td>0.0</td>\n",
       "      <td>0.0</td>\n",
       "      <td>0.0</td>\n",
       "      <td>0.0</td>\n",
       "      <td>0.0</td>\n",
       "      <td>0.0</td>\n",
       "      <td>1.0</td>\n",
       "      <td>0.0</td>\n",
       "      <td>0.0</td>\n",
       "    </tr>\n",
       "    <tr>\n",
       "      <th>4</th>\n",
       "      <td>0.260274</td>\n",
       "      <td>0.043603</td>\n",
       "      <td>0.00000</td>\n",
       "      <td>0.0</td>\n",
       "      <td>0.551020</td>\n",
       "      <td>0.0</td>\n",
       "      <td>0.0</td>\n",
       "      <td>0.0</td>\n",
       "      <td>0.0</td>\n",
       "      <td>1.0</td>\n",
       "      <td>...</td>\n",
       "      <td>0.0</td>\n",
       "      <td>0.0</td>\n",
       "      <td>0.0</td>\n",
       "      <td>0.0</td>\n",
       "      <td>0.0</td>\n",
       "      <td>0.0</td>\n",
       "      <td>0.0</td>\n",
       "      <td>0.0</td>\n",
       "      <td>0.0</td>\n",
       "      <td>0.0</td>\n",
       "    </tr>\n",
       "  </tbody>\n",
       "</table>\n",
       "<p>5 rows × 107 columns</p>\n",
       "</div>"
      ],
      "text/plain": [
       "        age  demogweight  capital-gain  capital-loss  hours-per-week  \\\n",
       "0  0.178082     0.049334       0.00000           0.0        0.551020   \n",
       "1  0.356164     0.191264       0.00000           0.0        0.397959   \n",
       "2  0.465753     0.096036       0.00000           0.0        0.397959   \n",
       "3  0.260274     0.009470       0.03325           0.0        0.448980   \n",
       "4  0.260274     0.043603       0.00000           0.0        0.551020   \n",
       "\n",
       "   workclass_?  workclass_Federal-gov  workclass_Local-gov  \\\n",
       "0          0.0                    0.0                  0.0   \n",
       "1          0.0                    0.0                  0.0   \n",
       "2          0.0                    0.0                  0.0   \n",
       "3          0.0                    0.0                  0.0   \n",
       "4          0.0                    0.0                  0.0   \n",
       "\n",
       "   workclass_Never-worked  workclass_Private  ...  native-country_Portugal  \\\n",
       "0                     0.0                1.0  ...                      0.0   \n",
       "1                     0.0                1.0  ...                      0.0   \n",
       "2                     0.0                1.0  ...                      0.0   \n",
       "3                     0.0                1.0  ...                      0.0   \n",
       "4                     0.0                1.0  ...                      0.0   \n",
       "\n",
       "   native-country_Puerto-Rico  native-country_Scotland  native-country_South  \\\n",
       "0                         0.0                      0.0                   0.0   \n",
       "1                         0.0                      0.0                   0.0   \n",
       "2                         0.0                      0.0                   0.0   \n",
       "3                         0.0                      0.0                   0.0   \n",
       "4                         0.0                      0.0                   0.0   \n",
       "\n",
       "   native-country_Taiwan  native-country_Thailand  \\\n",
       "0                    0.0                      0.0   \n",
       "1                    0.0                      0.0   \n",
       "2                    0.0                      0.0   \n",
       "3                    0.0                      0.0   \n",
       "4                    0.0                      0.0   \n",
       "\n",
       "   native-country_Trinadad&Tobago  native-country_United-States  \\\n",
       "0                             0.0                           1.0   \n",
       "1                             0.0                           1.0   \n",
       "2                             0.0                           1.0   \n",
       "3                             0.0                           1.0   \n",
       "4                             0.0                           0.0   \n",
       "\n",
       "   native-country_Vietnam  native-country_Yugoslavia  \n",
       "0                     0.0                        0.0  \n",
       "1                     0.0                        0.0  \n",
       "2                     0.0                        0.0  \n",
       "3                     0.0                        0.0  \n",
       "4                     0.0                        0.0  \n",
       "\n",
       "[5 rows x 107 columns]"
      ]
     },
     "execution_count": 38,
     "metadata": {},
     "output_type": "execute_result"
    }
   ],
   "source": [
    "scaled_df_train.head()"
   ]
  },
  {
   "cell_type": "code",
   "execution_count": 39,
   "id": "3c4f8342-ab96-4fb1-94f9-94095595c514",
   "metadata": {},
   "outputs": [
    {
     "data": {
      "text/html": [
       "<div>\n",
       "<style scoped>\n",
       "    .dataframe tbody tr th:only-of-type {\n",
       "        vertical-align: middle;\n",
       "    }\n",
       "\n",
       "    .dataframe tbody tr th {\n",
       "        vertical-align: top;\n",
       "    }\n",
       "\n",
       "    .dataframe thead th {\n",
       "        text-align: right;\n",
       "    }\n",
       "</style>\n",
       "<table border=\"1\" class=\"dataframe\">\n",
       "  <thead>\n",
       "    <tr style=\"text-align: right;\">\n",
       "      <th></th>\n",
       "      <th>age</th>\n",
       "      <th>demogweight</th>\n",
       "      <th>capital-gain</th>\n",
       "      <th>capital-loss</th>\n",
       "      <th>hours-per-week</th>\n",
       "      <th>workclass_?</th>\n",
       "      <th>workclass_Federal-gov</th>\n",
       "      <th>workclass_Local-gov</th>\n",
       "      <th>workclass_Never-worked</th>\n",
       "      <th>workclass_Private</th>\n",
       "      <th>...</th>\n",
       "      <th>native-country_Portugal</th>\n",
       "      <th>native-country_Puerto-Rico</th>\n",
       "      <th>native-country_Scotland</th>\n",
       "      <th>native-country_South</th>\n",
       "      <th>native-country_Taiwan</th>\n",
       "      <th>native-country_Thailand</th>\n",
       "      <th>native-country_Trinadad&amp;Tobago</th>\n",
       "      <th>native-country_United-States</th>\n",
       "      <th>native-country_Vietnam</th>\n",
       "      <th>native-country_Yugoslavia</th>\n",
       "    </tr>\n",
       "  </thead>\n",
       "  <tbody>\n",
       "    <tr>\n",
       "      <th>count</th>\n",
       "      <td>20000.000000</td>\n",
       "      <td>20000.000000</td>\n",
       "      <td>20000.000000</td>\n",
       "      <td>20000.000000</td>\n",
       "      <td>20000.000000</td>\n",
       "      <td>20000.00000</td>\n",
       "      <td>20000.000000</td>\n",
       "      <td>20000.000000</td>\n",
       "      <td>20000.00000</td>\n",
       "      <td>20000.000000</td>\n",
       "      <td>...</td>\n",
       "      <td>20000.000000</td>\n",
       "      <td>20000.000000</td>\n",
       "      <td>20000.000000</td>\n",
       "      <td>20000.000000</td>\n",
       "      <td>20000.000000</td>\n",
       "      <td>20000.000000</td>\n",
       "      <td>20000.000000</td>\n",
       "      <td>20000.000000</td>\n",
       "      <td>20000.000000</td>\n",
       "      <td>20000.000000</td>\n",
       "    </tr>\n",
       "    <tr>\n",
       "      <th>mean</th>\n",
       "      <td>0.296053</td>\n",
       "      <td>0.116492</td>\n",
       "      <td>0.011183</td>\n",
       "      <td>0.020009</td>\n",
       "      <td>0.401937</td>\n",
       "      <td>0.05565</td>\n",
       "      <td>0.029950</td>\n",
       "      <td>0.065850</td>\n",
       "      <td>0.00025</td>\n",
       "      <td>0.693500</td>\n",
       "      <td>...</td>\n",
       "      <td>0.000900</td>\n",
       "      <td>0.004000</td>\n",
       "      <td>0.000300</td>\n",
       "      <td>0.002650</td>\n",
       "      <td>0.001750</td>\n",
       "      <td>0.000550</td>\n",
       "      <td>0.000500</td>\n",
       "      <td>0.897600</td>\n",
       "      <td>0.002050</td>\n",
       "      <td>0.000450</td>\n",
       "    </tr>\n",
       "    <tr>\n",
       "      <th>std</th>\n",
       "      <td>0.187518</td>\n",
       "      <td>0.071724</td>\n",
       "      <td>0.076586</td>\n",
       "      <td>0.092371</td>\n",
       "      <td>0.125983</td>\n",
       "      <td>0.22925</td>\n",
       "      <td>0.170454</td>\n",
       "      <td>0.248026</td>\n",
       "      <td>0.01581</td>\n",
       "      <td>0.461051</td>\n",
       "      <td>...</td>\n",
       "      <td>0.029987</td>\n",
       "      <td>0.063121</td>\n",
       "      <td>0.017318</td>\n",
       "      <td>0.051411</td>\n",
       "      <td>0.041797</td>\n",
       "      <td>0.023446</td>\n",
       "      <td>0.022356</td>\n",
       "      <td>0.303181</td>\n",
       "      <td>0.045232</td>\n",
       "      <td>0.021209</td>\n",
       "    </tr>\n",
       "    <tr>\n",
       "      <th>min</th>\n",
       "      <td>0.000000</td>\n",
       "      <td>0.000000</td>\n",
       "      <td>0.000000</td>\n",
       "      <td>0.000000</td>\n",
       "      <td>0.000000</td>\n",
       "      <td>0.00000</td>\n",
       "      <td>0.000000</td>\n",
       "      <td>0.000000</td>\n",
       "      <td>0.00000</td>\n",
       "      <td>0.000000</td>\n",
       "      <td>...</td>\n",
       "      <td>0.000000</td>\n",
       "      <td>0.000000</td>\n",
       "      <td>0.000000</td>\n",
       "      <td>0.000000</td>\n",
       "      <td>0.000000</td>\n",
       "      <td>0.000000</td>\n",
       "      <td>0.000000</td>\n",
       "      <td>0.000000</td>\n",
       "      <td>0.000000</td>\n",
       "      <td>0.000000</td>\n",
       "    </tr>\n",
       "    <tr>\n",
       "      <th>25%</th>\n",
       "      <td>0.150685</td>\n",
       "      <td>0.067613</td>\n",
       "      <td>0.000000</td>\n",
       "      <td>0.000000</td>\n",
       "      <td>0.397959</td>\n",
       "      <td>0.00000</td>\n",
       "      <td>0.000000</td>\n",
       "      <td>0.000000</td>\n",
       "      <td>0.00000</td>\n",
       "      <td>0.000000</td>\n",
       "      <td>...</td>\n",
       "      <td>0.000000</td>\n",
       "      <td>0.000000</td>\n",
       "      <td>0.000000</td>\n",
       "      <td>0.000000</td>\n",
       "      <td>0.000000</td>\n",
       "      <td>0.000000</td>\n",
       "      <td>0.000000</td>\n",
       "      <td>1.000000</td>\n",
       "      <td>0.000000</td>\n",
       "      <td>0.000000</td>\n",
       "    </tr>\n",
       "    <tr>\n",
       "      <th>50%</th>\n",
       "      <td>0.273973</td>\n",
       "      <td>0.108680</td>\n",
       "      <td>0.000000</td>\n",
       "      <td>0.000000</td>\n",
       "      <td>0.397959</td>\n",
       "      <td>0.00000</td>\n",
       "      <td>0.000000</td>\n",
       "      <td>0.000000</td>\n",
       "      <td>0.00000</td>\n",
       "      <td>1.000000</td>\n",
       "      <td>...</td>\n",
       "      <td>0.000000</td>\n",
       "      <td>0.000000</td>\n",
       "      <td>0.000000</td>\n",
       "      <td>0.000000</td>\n",
       "      <td>0.000000</td>\n",
       "      <td>0.000000</td>\n",
       "      <td>0.000000</td>\n",
       "      <td>1.000000</td>\n",
       "      <td>0.000000</td>\n",
       "      <td>0.000000</td>\n",
       "    </tr>\n",
       "    <tr>\n",
       "      <th>75%</th>\n",
       "      <td>0.424658</td>\n",
       "      <td>0.148651</td>\n",
       "      <td>0.000000</td>\n",
       "      <td>0.000000</td>\n",
       "      <td>0.448980</td>\n",
       "      <td>0.00000</td>\n",
       "      <td>0.000000</td>\n",
       "      <td>0.000000</td>\n",
       "      <td>0.00000</td>\n",
       "      <td>1.000000</td>\n",
       "      <td>...</td>\n",
       "      <td>0.000000</td>\n",
       "      <td>0.000000</td>\n",
       "      <td>0.000000</td>\n",
       "      <td>0.000000</td>\n",
       "      <td>0.000000</td>\n",
       "      <td>0.000000</td>\n",
       "      <td>0.000000</td>\n",
       "      <td>1.000000</td>\n",
       "      <td>0.000000</td>\n",
       "      <td>0.000000</td>\n",
       "    </tr>\n",
       "    <tr>\n",
       "      <th>max</th>\n",
       "      <td>1.000000</td>\n",
       "      <td>1.000000</td>\n",
       "      <td>1.000000</td>\n",
       "      <td>1.000000</td>\n",
       "      <td>1.000000</td>\n",
       "      <td>1.00000</td>\n",
       "      <td>1.000000</td>\n",
       "      <td>1.000000</td>\n",
       "      <td>1.00000</td>\n",
       "      <td>1.000000</td>\n",
       "      <td>...</td>\n",
       "      <td>1.000000</td>\n",
       "      <td>1.000000</td>\n",
       "      <td>1.000000</td>\n",
       "      <td>1.000000</td>\n",
       "      <td>1.000000</td>\n",
       "      <td>1.000000</td>\n",
       "      <td>1.000000</td>\n",
       "      <td>1.000000</td>\n",
       "      <td>1.000000</td>\n",
       "      <td>1.000000</td>\n",
       "    </tr>\n",
       "  </tbody>\n",
       "</table>\n",
       "<p>8 rows × 107 columns</p>\n",
       "</div>"
      ],
      "text/plain": [
       "                age   demogweight  capital-gain  capital-loss  hours-per-week  \\\n",
       "count  20000.000000  20000.000000  20000.000000  20000.000000    20000.000000   \n",
       "mean       0.296053      0.116492      0.011183      0.020009        0.401937   \n",
       "std        0.187518      0.071724      0.076586      0.092371        0.125983   \n",
       "min        0.000000      0.000000      0.000000      0.000000        0.000000   \n",
       "25%        0.150685      0.067613      0.000000      0.000000        0.397959   \n",
       "50%        0.273973      0.108680      0.000000      0.000000        0.397959   \n",
       "75%        0.424658      0.148651      0.000000      0.000000        0.448980   \n",
       "max        1.000000      1.000000      1.000000      1.000000        1.000000   \n",
       "\n",
       "       workclass_?  workclass_Federal-gov  workclass_Local-gov  \\\n",
       "count  20000.00000           20000.000000         20000.000000   \n",
       "mean       0.05565               0.029950             0.065850   \n",
       "std        0.22925               0.170454             0.248026   \n",
       "min        0.00000               0.000000             0.000000   \n",
       "25%        0.00000               0.000000             0.000000   \n",
       "50%        0.00000               0.000000             0.000000   \n",
       "75%        0.00000               0.000000             0.000000   \n",
       "max        1.00000               1.000000             1.000000   \n",
       "\n",
       "       workclass_Never-worked  workclass_Private  ...  \\\n",
       "count             20000.00000       20000.000000  ...   \n",
       "mean                  0.00025           0.693500  ...   \n",
       "std                   0.01581           0.461051  ...   \n",
       "min                   0.00000           0.000000  ...   \n",
       "25%                   0.00000           0.000000  ...   \n",
       "50%                   0.00000           1.000000  ...   \n",
       "75%                   0.00000           1.000000  ...   \n",
       "max                   1.00000           1.000000  ...   \n",
       "\n",
       "       native-country_Portugal  native-country_Puerto-Rico  \\\n",
       "count             20000.000000                20000.000000   \n",
       "mean                  0.000900                    0.004000   \n",
       "std                   0.029987                    0.063121   \n",
       "min                   0.000000                    0.000000   \n",
       "25%                   0.000000                    0.000000   \n",
       "50%                   0.000000                    0.000000   \n",
       "75%                   0.000000                    0.000000   \n",
       "max                   1.000000                    1.000000   \n",
       "\n",
       "       native-country_Scotland  native-country_South  native-country_Taiwan  \\\n",
       "count             20000.000000          20000.000000           20000.000000   \n",
       "mean                  0.000300              0.002650               0.001750   \n",
       "std                   0.017318              0.051411               0.041797   \n",
       "min                   0.000000              0.000000               0.000000   \n",
       "25%                   0.000000              0.000000               0.000000   \n",
       "50%                   0.000000              0.000000               0.000000   \n",
       "75%                   0.000000              0.000000               0.000000   \n",
       "max                   1.000000              1.000000               1.000000   \n",
       "\n",
       "       native-country_Thailand  native-country_Trinadad&Tobago  \\\n",
       "count             20000.000000                    20000.000000   \n",
       "mean                  0.000550                        0.000500   \n",
       "std                   0.023446                        0.022356   \n",
       "min                   0.000000                        0.000000   \n",
       "25%                   0.000000                        0.000000   \n",
       "50%                   0.000000                        0.000000   \n",
       "75%                   0.000000                        0.000000   \n",
       "max                   1.000000                        1.000000   \n",
       "\n",
       "       native-country_United-States  native-country_Vietnam  \\\n",
       "count                  20000.000000            20000.000000   \n",
       "mean                       0.897600                0.002050   \n",
       "std                        0.303181                0.045232   \n",
       "min                        0.000000                0.000000   \n",
       "25%                        1.000000                0.000000   \n",
       "50%                        1.000000                0.000000   \n",
       "75%                        1.000000                0.000000   \n",
       "max                        1.000000                1.000000   \n",
       "\n",
       "       native-country_Yugoslavia  \n",
       "count               20000.000000  \n",
       "mean                    0.000450  \n",
       "std                     0.021209  \n",
       "min                     0.000000  \n",
       "25%                     0.000000  \n",
       "50%                     0.000000  \n",
       "75%                     0.000000  \n",
       "max                     1.000000  \n",
       "\n",
       "[8 rows x 107 columns]"
      ]
     },
     "execution_count": 39,
     "metadata": {},
     "output_type": "execute_result"
    }
   ],
   "source": [
    "scaled_df_train.describe()"
   ]
  },
  {
   "cell_type": "markdown",
   "id": "81909810-9d26-47dc-aabd-00fe5ae329a7",
   "metadata": {},
   "source": [
    "## Exploratory Data Analysis (EDA)"
   ]
  },
  {
   "cell_type": "code",
   "execution_count": 40,
   "id": "8c5dd43b-a909-4390-9dce-36d05918452d",
   "metadata": {},
   "outputs": [],
   "source": [
    "import seaborn as sns"
   ]
  },
  {
   "cell_type": "code",
   "execution_count": 41,
   "id": "a18c486c-e7ea-48c1-aa8a-88fc234d9ca3",
   "metadata": {},
   "outputs": [
    {
     "data": {
      "image/png": "[encoded data removed]",
      "text/plain": [
       "<Figure size 720x288 with 1 Axes>"
      ]
     },
     "metadata": {
      "needs_background": "light"
     },
     "output_type": "display_data"
    }
   ],
   "source": [
    "crosstab = pd.crosstab(df_crosstab[\"workclass\"], df_crosstab[\"income\"],normalize='index')\n",
    "crosstab.plot(kind=\"bar\", stacked=True, title=\"Work Class vs. Income\", alpha=0.5,figsize=(10,4))\n",
    "plt.xticks(rotation=45)\n",
    "plt.legend(loc=4)\n",
    "plt.show()"
   ]
  },
  {
   "cell_type": "code",
   "execution_count": 42,
   "id": "f8419a13-9e6f-4bc1-bef8-cfc2040dc9ff",
   "metadata": {},
   "outputs": [
    {
     "data": {
      "image/png": "[encoded data removed]",
      "text/plain": [
       "<Figure size 576x288 with 1 Axes>"
      ]
     },
     "metadata": {
      "needs_background": "light"
     },
     "output_type": "display_data"
    }
   ],
   "source": [
    "crosstab = pd.crosstab(df_crosstab[\"marital-status\"], df_crosstab[\"income\"],normalize='index')\n",
    "crosstab.plot(kind=\"bar\", stacked=True, title=\"Marital Status vs. Income\", alpha=0.5,figsize=(8,4))\n",
    "plt.xticks(rotation=45)\n",
    "plt.legend(loc=4)\n",
    "plt.show()"
   ]
  },
  {
   "cell_type": "code",
   "execution_count": 43,
   "id": "0baec1cc-b008-4047-b850-55c6ccf8df42",
   "metadata": {},
   "outputs": [
    {
     "data": {
      "image/png": "[encoded data removed]",
      "text/plain": [
       "<Figure size 720x288 with 1 Axes>"
      ]
     },
     "metadata": {
      "needs_background": "light"
     },
     "output_type": "display_data"
    }
   ],
   "source": [
    "crosstab = pd.crosstab(df_crosstab[\"occupation\"], df_crosstab[\"income\"],normalize='index')\n",
    "crosstab.plot(kind=\"bar\", stacked=True, title=\"Occupation vs. Income\", alpha=0.5,figsize=(10,4))\n",
    "plt.xticks(rotation=45)\n",
    "plt.show()"
   ]
  },
  {
   "cell_type": "code",
   "execution_count": 44,
   "id": "16548cef-887e-4bec-b664-2e5459e42817",
   "metadata": {},
   "outputs": [
    {
     "data": {
      "image/png": "[encoded data removed]",
      "text/plain": [
       "<Figure size 720x288 with 1 Axes>"
      ]
     },
     "metadata": {
      "needs_background": "light"
     },
     "output_type": "display_data"
    }
   ],
   "source": [
    "crosstab = pd.crosstab(df_crosstab[\"education\"], df_crosstab[\"income\"],normalize='index')\n",
    "crosstab.plot(kind=\"bar\", stacked=True, title=\"Education vs. Income\", alpha=0.5,figsize=(10,4))\n",
    "plt.xticks(rotation=45)\n",
    "plt.show()"
   ]
  },
  {
   "cell_type": "code",
   "execution_count": 45,
   "id": "dbec1d3e-4c84-47fe-9abc-8c65977a0080",
   "metadata": {},
   "outputs": [
    {
     "data": {
      "image/png": "[encoded data removed]",
      "text/plain": [
       "<Figure size 432x288 with 1 Axes>"
      ]
     },
     "metadata": {
      "needs_background": "light"
     },
     "output_type": "display_data"
    }
   ],
   "source": [
    "crosstab = pd.crosstab(df_crosstab[\"relationship\"], df_crosstab[\"income\"],normalize='index')\n",
    "crosstab.plot(kind=\"bar\", stacked=True, title= \"Relationship vs. Income\", alpha=0.5,figsize=(6,4))\n",
    "plt.xticks(rotation=45)\n",
    "plt.legend(loc=4)\n",
    "plt.show()"
   ]
  },
  {
   "cell_type": "code",
   "execution_count": 46,
   "id": "030208e4-ee97-44c2-a12a-d96fe9cff8c6",
   "metadata": {},
   "outputs": [
    {
     "data": {
      "image/png": "[encoded data removed]",
      "text/plain": [
       "<Figure size 576x288 with 1 Axes>"
      ]
     },
     "metadata": {
      "needs_background": "light"
     },
     "output_type": "display_data"
    }
   ],
   "source": [
    "crosstab = pd.crosstab(df_crosstab[\"race\"], df_crosstab[\"income\"],normalize='index')\n",
    "crosstab.plot(kind=\"bar\", stacked=True, title=\"Race vs. Income\", alpha=0.5,figsize=(8,4))\n",
    "plt.xticks(rotation=45)\n",
    "plt.legend(loc=4)\n",
    "plt.show()"
   ]
  },
  {
   "cell_type": "code",
   "execution_count": 47,
   "id": "1f09c733-c139-42e4-a877-4ed62711b7a5",
   "metadata": {},
   "outputs": [
    {
     "data": {
      "image/png": "[encoded data removed]",
      "text/plain": [
       "<Figure size 288x288 with 1 Axes>"
      ]
     },
     "metadata": {
      "needs_background": "light"
     },
     "output_type": "display_data"
    }
   ],
   "source": [
    "crosstab = pd.crosstab(df_crosstab[\"sex\"], df_crosstab[\"income\"],normalize='index')\n",
    "crosstab.plot(kind=\"bar\", stacked=True, title=\"Sex vs. Income\", alpha=0.5,figsize=(4,4))\n",
    "plt.xticks(rotation=45)\n",
    "plt.legend(loc=4)\n",
    "plt.show()"
   ]
  },
  {
   "cell_type": "code",
   "execution_count": 48,
   "id": "b8ce33da-2f64-4b5f-a86c-902b984e850e",
   "metadata": {},
   "outputs": [
    {
     "data": {
      "image/png": "[encoded data removed]",
      "text/plain": [
       "<Figure size 1440x288 with 1 Axes>"
      ]
     },
     "metadata": {
      "needs_background": "light"
     },
     "output_type": "display_data"
    }
   ],
   "source": [
    "crosstab = pd.crosstab(df_crosstab[\"native-country\"], df_crosstab[\"income\"],normalize='index')\n",
    "crosstab.plot(kind=\"bar\", stacked=True, title=\"Native Country vs. Income\", alpha=0.5,figsize=(20,4))\n",
    "plt.xticks(rotation=45)\n",
    "plt.legend(loc=4)\n",
    "plt.show()"
   ]
  },
  {
   "cell_type": "code",
   "execution_count": 49,
   "id": "37be889b-f37a-4eda-87ce-9f9be1e3a5ed",
   "metadata": {},
   "outputs": [
    {
     "data": {
      "image/png": "[encoded data removed]",
      "text/plain": [
       "<Figure size 1152x432 with 1 Axes>"
      ]
     },
     "metadata": {
      "needs_background": "light"
     },
     "output_type": "display_data"
    }
   ],
   "source": [
    "crosstab = pd.crosstab(df_crosstab[\"age\"], df_crosstab[\"income\"],normalize='index')\n",
    "crosstab.plot(kind=\"bar\", stacked=True, title=\"Age vs. Income\", alpha=0.5,figsize=(16,6))\n",
    "plt.xticks(rotation=45)\n",
    "plt.legend(loc=4)\n",
    "plt.show()"
   ]
  },
  {
   "cell_type": "code",
   "execution_count": 50,
   "id": "aba79749-7680-4466-9eb2-81596de39257",
   "metadata": {},
   "outputs": [],
   "source": [
    "df_crosstab[\"income\"] = df_crosstab[\"income\"].map({'<=50K.':0,'>50K.':1})"
   ]
  },
  {
   "cell_type": "code",
   "execution_count": 51,
   "id": "8720fe4f-8bbd-416e-b0b2-08761d1db103",
   "metadata": {},
   "outputs": [
    {
     "data": {
      "image/png": "[encoded data removed]",
      "text/plain": [
       "<Figure size 432x432 with 2 Axes>"
      ]
     },
     "metadata": {
      "needs_background": "light"
     },
     "output_type": "display_data"
    }
   ],
   "source": [
    "plt.figure(figsize=(6,6))\n",
    "sns.heatmap(df_crosstab.corr(method='pearson'),cmap=\"YlGnBu\", annot=True)\n",
    "plt.show()"
   ]
  },
  {
   "cell_type": "markdown",
   "id": "7c7e3cdb-5a18-4869-9d63-313c26918c66",
   "metadata": {},
   "source": [
    "- According to the last row of the heatmap, we can see that most numerical variables are somewhat correlated with the income except for `demogweight`."
   ]
  },
  {
   "cell_type": "code",
   "execution_count": 52,
   "id": "728e7c0b-cc55-4e88-88de-7523dd3356b0",
   "metadata": {},
   "outputs": [
    {
     "data": {
      "text/plain": [
       "0    15187\n",
       "1     4813\n",
       "Name: income, dtype: int64"
      ]
     },
     "execution_count": 52,
     "metadata": {},
     "output_type": "execute_result"
    }
   ],
   "source": [
    "y_train.value_counts()"
   ]
  },
  {
   "cell_type": "markdown",
   "id": "40372e87-6414-469d-ae81-0e64aa53d179",
   "metadata": {},
   "source": [
    "Check the amount of data that we can fully used. "
   ]
  },
  {
   "cell_type": "code",
   "execution_count": 53,
   "id": "1959d455-135b-4368-aded-9ffa67e39eed",
   "metadata": {},
   "outputs": [],
   "source": [
    "df_crosstab.replace({'?':np.NaN},inplace=True)"
   ]
  },
  {
   "cell_type": "code",
   "execution_count": 54,
   "id": "d8aea8a9-9444-4c9e-8d14-ca5ffea150ca",
   "metadata": {},
   "outputs": [
    {
     "data": {
      "text/plain": [
       "1829"
      ]
     },
     "execution_count": 54,
     "metadata": {},
     "output_type": "execute_result"
    }
   ],
   "source": [
    "df_crosstab.isnull().any(axis=1).sum()"
   ]
  },
  {
   "cell_type": "markdown",
   "id": "d35fc7b6-d59a-4bbf-8a7b-862f747fb9be",
   "metadata": {},
   "source": [
    "- naive model will give an classification rate of 75.93%"
   ]
  },
  {
   "cell_type": "markdown",
   "id": "5afc6658-2f67-414f-b9c5-37e380d860d0",
   "metadata": {},
   "source": [
    "## Model\n",
    "- baseline model (logistic regression)\n",
    "- initial model\n",
    "- hyperparameter tuning through grid search + cross validation"
   ]
  },
  {
   "cell_type": "markdown",
   "id": "1a5af16e-de85-4c01-bdf8-c58ea689eaaf",
   "metadata": {},
   "source": [
    "### Baseline Model \n",
    "- logisitic regression"
   ]
  },
  {
   "cell_type": "code",
   "execution_count": 55,
   "id": "7412f99f-f2ce-43a7-8370-ad690b28a7eb",
   "metadata": {},
   "outputs": [],
   "source": [
    "from sklearn.linear_model import LogisticRegression"
   ]
  },
  {
   "cell_type": "code",
   "execution_count": 56,
   "id": "81fb09c6-f8a7-4350-a3dd-1259753c4ef2",
   "metadata": {},
   "outputs": [],
   "source": [
    "from sklearn.metrics import accuracy_score, roc_auc_score\n",
    "from sklearn.metrics import confusion_matrix"
   ]
  },
  {
   "cell_type": "code",
   "execution_count": 57,
   "id": "6c361eb4-0412-4da7-a72b-7b74e292f050",
   "metadata": {},
   "outputs": [],
   "source": [
    "from sklearn.metrics import confusion_matrix\n",
    "import seaborn as sns"
   ]
  },
  {
   "cell_type": "code",
   "execution_count": 58,
   "id": "4c7f9d2a-c9d5-4cb4-aa4d-f158ba98215d",
   "metadata": {},
   "outputs": [],
   "source": [
    "log_reg = LogisticRegression()"
   ]
  },
  {
   "cell_type": "code",
   "execution_count": 59,
   "id": "891ae514-c20f-4afd-8eda-7b7aa1a33baf",
   "metadata": {},
   "outputs": [
    {
     "name": "stderr",
     "output_type": "stream",
     "text": [
      "/Users/apple/opt/anaconda3/lib/python3.8/site-packages/sklearn/linear_model/_logistic.py:763: ConvergenceWarning: lbfgs failed to converge (status=1):\n",
      "STOP: TOTAL NO. of ITERATIONS REACHED LIMIT.\n",
      "\n",
      "Increase the number of iterations (max_iter) or scale the data as shown in:\n",
      "    https://scikit-learn.org/stable/modules/preprocessing.html\n",
      "Please also refer to the documentation for alternative solver options:\n",
      "    https://scikit-learn.org/stable/modules/linear_model.html#logistic-regression\n",
      "  n_iter_i = _check_optimize_result(\n"
     ]
    },
    {
     "data": {
      "text/plain": [
       "LogisticRegression()"
      ]
     },
     "execution_count": 59,
     "metadata": {},
     "output_type": "execute_result"
    }
   ],
   "source": [
    "log_reg.fit(scaled_X_train,y_train)"
   ]
  },
  {
   "cell_type": "code",
   "execution_count": 60,
   "id": "5174ca32-2533-43fe-9615-0fcc88c01220",
   "metadata": {},
   "outputs": [],
   "source": [
    "y_pred = log_reg.predict(scaled_X_val)"
   ]
  },
  {
   "cell_type": "code",
   "execution_count": 61,
   "id": "7c54a5a3-0ddc-450f-9dfb-5e9879f1b61b",
   "metadata": {},
   "outputs": [
    {
     "data": {
      "text/plain": [
       "0.8494"
      ]
     },
     "execution_count": 61,
     "metadata": {},
     "output_type": "execute_result"
    }
   ],
   "source": [
    "accuracy_score(y_val,y_pred)"
   ]
  },
  {
   "cell_type": "code",
   "execution_count": 62,
   "id": "fb519b7f-ee80-43ee-8346-f65980aeda30",
   "metadata": {},
   "outputs": [
    {
     "data": {
      "text/plain": [
       "0.7519878967625155"
      ]
     },
     "execution_count": 62,
     "metadata": {},
     "output_type": "execute_result"
    }
   ],
   "source": [
    "roc_auc_score(y_val,y_pred)"
   ]
  },
  {
   "cell_type": "code",
   "execution_count": 63,
   "id": "c1c24195-d40c-42d5-8819-16bbb6b8c829",
   "metadata": {},
   "outputs": [
    {
     "data": {
      "text/plain": [
       "<AxesSubplot:>"
      ]
     },
     "execution_count": 63,
     "metadata": {},
     "output_type": "execute_result"
    },
    {
     "data": {
      "image/png": "[encoded data removed]",
      "text/plain": [
       "<Figure size 432x288 with 2 Axes>"
      ]
     },
     "metadata": {
      "needs_background": "light"
     },
     "output_type": "display_data"
    }
   ],
   "source": [
    "sns.heatmap(confusion_matrix(y_val,y_pred), annot=True, cmap='Blues', fmt='d')"
   ]
  },
  {
   "cell_type": "code",
   "execution_count": 64,
   "id": "4a58050b-8e73-43cb-8a92-cf59988d5fbb",
   "metadata": {},
   "outputs": [],
   "source": [
    "lgr_matrix = confusion_matrix(y_val,y_pred)"
   ]
  },
  {
   "cell_type": "code",
   "execution_count": 65,
   "id": "16325fae-cfe3-4323-a66b-ad4e6999875d",
   "metadata": {},
   "outputs": [
    {
     "data": {
      "text/plain": [
       "<AxesSubplot:>"
      ]
     },
     "execution_count": 65,
     "metadata": {},
     "output_type": "execute_result"
    },
    {
     "data": {
      "image/png": "[encoded data removed]",
      "text/plain": [
       "<Figure size 432x288 with 2 Axes>"
      ]
     },
     "metadata": {
      "needs_background": "light"
     },
     "output_type": "display_data"
    }
   ],
   "source": [
    "sns.heatmap(lgr_matrix/np.sum(lgr_matrix), annot=True, \n",
    "            fmt='.2%', cmap='Blues')"
   ]
  },
  {
   "cell_type": "markdown",
   "id": "f44adca4-e3ed-4613-acb3-d8508e4a1c8d",
   "metadata": {},
   "source": [
    "### Initial Model\n",
    "- figure out the basic neural network structure\n",
    "- test on the heldout dataset\n",
    "    - accuracy\n",
    "    - auc score (for imbalanced dataset)"
   ]
  },
  {
   "cell_type": "code",
   "execution_count": 66,
   "id": "90115a6b-f494-4336-b803-e23604e0b829",
   "metadata": {},
   "outputs": [],
   "source": [
    "from keras.models import Sequential"
   ]
  },
  {
   "cell_type": "code",
   "execution_count": 67,
   "id": "2c9710e8-b176-46c8-bb7e-7db8d2ecb931",
   "metadata": {},
   "outputs": [],
   "source": [
    "from keras.layers import Dense\n",
    "from keras.layers import Dropout"
   ]
  },
  {
   "cell_type": "code",
   "execution_count": 68,
   "id": "768b9b2c-fe7f-4a4b-acc7-c011f62899f2",
   "metadata": {},
   "outputs": [],
   "source": [
    "import keras.backend as K"
   ]
  },
  {
   "cell_type": "code",
   "execution_count": 69,
   "id": "6b06b581-6088-49dc-b508-3626447752a5",
   "metadata": {},
   "outputs": [],
   "source": [
    "import keras\n",
    "import tensorflow as tf"
   ]
  },
  {
   "cell_type": "code",
   "execution_count": 70,
   "id": "cb280b01-6c25-4d74-8178-860ea876770c",
   "metadata": {},
   "outputs": [],
   "source": [
    "metrics = [\n",
    "      keras.metrics.BinaryAccuracy(name='accuracy'),\n",
    "      keras.metrics.Precision(name='precision'),\n",
    "      keras.metrics.Recall(name='recall'),\n",
    "      keras.metrics.AUC(name='auc'),\n",
    "      keras.metrics.AUC(name='prc', curve='PR'), \n",
    "]"
   ]
  },
  {
   "cell_type": "code",
   "execution_count": 71,
   "id": "8a1f0a7c-5906-4d02-98b9-9ce48dc32996",
   "metadata": {},
   "outputs": [],
   "source": [
    "input_dim = scaled_X_train.shape[1]"
   ]
  },
  {
   "cell_type": "code",
   "execution_count": 72,
   "id": "becbca8f-a5ce-46da-b30b-89344d99de7f",
   "metadata": {},
   "outputs": [],
   "source": [
    "model = Sequential()"
   ]
  },
  {
   "cell_type": "code",
   "execution_count": 73,
   "id": "a2803af2-4355-4498-bb0c-2595f8b128c4",
   "metadata": {},
   "outputs": [],
   "source": [
    "model.add(Dense(input_dim*2,input_dim=input_dim,kernel_initializer='uniform', activation='relu'))"
   ]
  },
  {
   "cell_type": "code",
   "execution_count": 74,
   "id": "9eb9e866-f84e-42f6-93d9-977368982f91",
   "metadata": {},
   "outputs": [],
   "source": [
    "# model.add(Dropout(0.1))"
   ]
  },
  {
   "cell_type": "code",
   "execution_count": 75,
   "id": "276a4d3d-2fb9-4135-8712-5186b32145da",
   "metadata": {},
   "outputs": [],
   "source": [
    "# model.add(Dense(100,input_dim=input_dim,kernel_initializer='uniform', activation='relu'))"
   ]
  },
  {
   "cell_type": "code",
   "execution_count": 76,
   "id": "20c5f3ba-37af-4862-b75b-a75ffbee4b17",
   "metadata": {},
   "outputs": [],
   "source": [
    "# model.add(Dense(50,input_dim=200,kernel_initializer='uniform', activation='relu'))"
   ]
  },
  {
   "cell_type": "code",
   "execution_count": 77,
   "id": "36bed3cb-e208-45a3-9fee-03da3cee26e1",
   "metadata": {},
   "outputs": [],
   "source": [
    "# model.add(Dropout(0.1))"
   ]
  },
  {
   "cell_type": "code",
   "execution_count": 78,
   "id": "24436785-dd74-4d5b-9bd8-7e8c8e1dd546",
   "metadata": {},
   "outputs": [],
   "source": [
    "model.add(Dense(input_dim,input_dim=input_dim*2,kernel_initializer='uniform', activation='relu'))"
   ]
  },
  {
   "cell_type": "code",
   "execution_count": 79,
   "id": "6a33c498-5b9e-4bcb-90a0-de58ff263e7e",
   "metadata": {},
   "outputs": [],
   "source": [
    "# model.add(Dense(30,input_dim=92,kernel_initializer='uniform', activation='relu'))"
   ]
  },
  {
   "cell_type": "code",
   "execution_count": 80,
   "id": "b6a3a69e-4a98-4477-8ebd-b993321209a5",
   "metadata": {},
   "outputs": [],
   "source": [
    "# model.add(Dense(10,input_dim=input_dim,kernel_initializer='uniform', activation='relu'))"
   ]
  },
  {
   "cell_type": "code",
   "execution_count": 81,
   "id": "44ed2fe9-3c0b-4134-b4f6-f22487b4a793",
   "metadata": {},
   "outputs": [],
   "source": [
    "model.add(Dense(1,kernel_initializer='uniform',activation='sigmoid'))"
   ]
  },
  {
   "cell_type": "markdown",
   "id": "c261b390-6239-4adc-8910-7f304be716a7",
   "metadata": {},
   "source": [
    "- probably reassign the weight for the binary cross entropy function(like pytorch)"
   ]
  },
  {
   "cell_type": "markdown",
   "id": "c67d8078-dbad-4f3a-8ce9-9a37e71b0c7f",
   "metadata": {},
   "source": [
    "For adam, the default lr is 0.001."
   ]
  },
  {
   "cell_type": "code",
   "execution_count": 82,
   "id": "e6aadc8a-7751-42bc-bcaf-5b9dca2219b4",
   "metadata": {},
   "outputs": [],
   "source": [
    "lr=5e-4"
   ]
  },
  {
   "cell_type": "code",
   "execution_count": 83,
   "id": "224cfcaf-8215-4ab9-a528-2ac6b28cbd56",
   "metadata": {},
   "outputs": [],
   "source": [
    "model.compile(loss='binary_crossentropy',optimizer=tf.keras.optimizers.Adam(learning_rate=lr),metrics=metrics)"
   ]
  },
  {
   "cell_type": "code",
   "execution_count": 84,
   "id": "45461daa-5270-48ff-94f8-b303ea9c53a2",
   "metadata": {},
   "outputs": [
    {
     "name": "stdout",
     "output_type": "stream",
     "text": [
      "Model: \"sequential\"\n",
      "_________________________________________________________________\n",
      " Layer (type)                Output Shape              Param #   \n",
      "=================================================================\n",
      " dense (Dense)               (None, 214)               23112     \n",
      "                                                                 \n",
      " dense_1 (Dense)             (None, 107)               23005     \n",
      "                                                                 \n",
      " dense_2 (Dense)             (None, 1)                 108       \n",
      "                                                                 \n",
      "=================================================================\n",
      "Total params: 46,225\n",
      "Trainable params: 46,225\n",
      "Non-trainable params: 0\n",
      "_________________________________________________________________\n"
     ]
    }
   ],
   "source": [
    "model.summary()"
   ]
  },
  {
   "cell_type": "markdown",
   "id": "85f5e378-280c-4e81-9733-87c5bfe8fa9a",
   "metadata": {},
   "source": [
    "- customize weight to solve the imbalanced dataset issue. "
   ]
  },
  {
   "cell_type": "code",
   "execution_count": 85,
   "id": "9ba00668-c295-4e14-96b2-ca143ffe3d94",
   "metadata": {},
   "outputs": [],
   "source": [
    "class_weight = {0: 1.,\n",
    "                1: 3.}"
   ]
  },
  {
   "cell_type": "code",
   "execution_count": 86,
   "id": "7d3d8b24-33cd-4406-9950-604d5d851e5c",
   "metadata": {},
   "outputs": [
    {
     "name": "stdout",
     "output_type": "stream",
     "text": [
      "Epoch 1/100\n",
      "1000/1000 [==============================] - 2s 1ms/step - loss: 0.6551 - accuracy: 0.7757 - precision: 0.5216 - recall: 0.8244 - auc: 0.8722 - prc: 0.6826\n",
      "Epoch 2/100\n",
      "1000/1000 [==============================] - 1s 1ms/step - loss: 0.5919 - accuracy: 0.7962 - precision: 0.5498 - recall: 0.8442 - auc: 0.8967 - prc: 0.7351\n",
      "Epoch 3/100\n",
      "1000/1000 [==============================] - 1s 1ms/step - loss: 0.5729 - accuracy: 0.8017 - precision: 0.5578 - recall: 0.8498 - auc: 0.9030 - prc: 0.7506\n",
      "Epoch 4/100\n",
      "1000/1000 [==============================] - 1s 1ms/step - loss: 0.5582 - accuracy: 0.8069 - precision: 0.5655 - recall: 0.8539 - auc: 0.9078 - prc: 0.7604\n",
      "Epoch 5/100\n",
      "1000/1000 [==============================] - 1s 1ms/step - loss: 0.5490 - accuracy: 0.8112 - precision: 0.5719 - recall: 0.8562 - auc: 0.9109 - prc: 0.7687\n",
      "Epoch 6/100\n",
      "1000/1000 [==============================] - 1s 1ms/step - loss: 0.5435 - accuracy: 0.8132 - precision: 0.5751 - recall: 0.8571 - auc: 0.9127 - prc: 0.7735\n",
      "Epoch 7/100\n",
      "1000/1000 [==============================] - 1s 1ms/step - loss: 0.5353 - accuracy: 0.8152 - precision: 0.5777 - recall: 0.8631 - auc: 0.9151 - prc: 0.7775\n",
      "Epoch 8/100\n",
      "1000/1000 [==============================] - 1s 1ms/step - loss: 0.5281 - accuracy: 0.8181 - precision: 0.5820 - recall: 0.8660 - auc: 0.9173 - prc: 0.7811\n",
      "Epoch 9/100\n",
      "1000/1000 [==============================] - 1s 1ms/step - loss: 0.5218 - accuracy: 0.8187 - precision: 0.5825 - recall: 0.8710 - auc: 0.9189 - prc: 0.7856\n",
      "Epoch 10/100\n",
      "1000/1000 [==============================] - 1s 1ms/step - loss: 0.5159 - accuracy: 0.8201 - precision: 0.5845 - recall: 0.8733 - auc: 0.9210 - prc: 0.7897\n",
      "Epoch 11/100\n",
      "1000/1000 [==============================] - 1s 1ms/step - loss: 0.5080 - accuracy: 0.8238 - precision: 0.5901 - recall: 0.8766 - auc: 0.9231 - prc: 0.7950\n",
      "Epoch 12/100\n",
      "1000/1000 [==============================] - 1s 1ms/step - loss: 0.5019 - accuracy: 0.8238 - precision: 0.5897 - recall: 0.8801 - auc: 0.9250 - prc: 0.7991\n",
      "Epoch 13/100\n",
      "1000/1000 [==============================] - 1s 1ms/step - loss: 0.4955 - accuracy: 0.8255 - precision: 0.5929 - recall: 0.8768 - auc: 0.9267 - prc: 0.8014\n",
      "Epoch 14/100\n",
      "1000/1000 [==============================] - 1s 1ms/step - loss: 0.4874 - accuracy: 0.8275 - precision: 0.5953 - recall: 0.8847 - auc: 0.9291 - prc: 0.8088\n",
      "Epoch 15/100\n",
      "1000/1000 [==============================] - 1s 1ms/step - loss: 0.4800 - accuracy: 0.8299 - precision: 0.5989 - recall: 0.8868 - auc: 0.9310 - prc: 0.8109\n",
      "Epoch 16/100\n",
      "1000/1000 [==============================] - 1s 1ms/step - loss: 0.4762 - accuracy: 0.8296 - precision: 0.5985 - recall: 0.8859 - auc: 0.9318 - prc: 0.8136\n",
      "Epoch 17/100\n",
      "1000/1000 [==============================] - 1s 1ms/step - loss: 0.4713 - accuracy: 0.8321 - precision: 0.6022 - recall: 0.8915 - auc: 0.9333 - prc: 0.8174\n",
      "Epoch 18/100\n",
      "1000/1000 [==============================] - 1s 1ms/step - loss: 0.4646 - accuracy: 0.8324 - precision: 0.6024 - recall: 0.8922 - auc: 0.9348 - prc: 0.8213\n",
      "Epoch 19/100\n",
      "1000/1000 [==============================] - 1s 1ms/step - loss: 0.4581 - accuracy: 0.8339 - precision: 0.6040 - recall: 0.8992 - auc: 0.9364 - prc: 0.8242\n",
      "Epoch 20/100\n",
      "1000/1000 [==============================] - 1s 1ms/step - loss: 0.4536 - accuracy: 0.8352 - precision: 0.6065 - recall: 0.8969 - auc: 0.9376 - prc: 0.8278\n",
      "Epoch 21/100\n",
      "1000/1000 [==============================] - 1s 1ms/step - loss: 0.4469 - accuracy: 0.8392 - precision: 0.6124 - recall: 0.9036 - auc: 0.9395 - prc: 0.8316\n",
      "Epoch 22/100\n",
      "1000/1000 [==============================] - 1s 1ms/step - loss: 0.4447 - accuracy: 0.8380 - precision: 0.6105 - recall: 0.9026 - auc: 0.9400 - prc: 0.8338\n",
      "Epoch 23/100\n",
      "1000/1000 [==============================] - 1s 1ms/step - loss: 0.4371 - accuracy: 0.8407 - precision: 0.6149 - recall: 0.9048 - auc: 0.9414 - prc: 0.8361\n",
      "Epoch 24/100\n",
      "1000/1000 [==============================] - 1s 1ms/step - loss: 0.4341 - accuracy: 0.8430 - precision: 0.6184 - recall: 0.9080 - auc: 0.9428 - prc: 0.8397\n",
      "Epoch 25/100\n",
      "1000/1000 [==============================] - 1s 1ms/step - loss: 0.4301 - accuracy: 0.8428 - precision: 0.6184 - recall: 0.9048 - auc: 0.9437 - prc: 0.8435\n",
      "Epoch 26/100\n",
      "1000/1000 [==============================] - 1s 1ms/step - loss: 0.4232 - accuracy: 0.8457 - precision: 0.6225 - recall: 0.9115 - auc: 0.9452 - prc: 0.8463\n",
      "Epoch 27/100\n",
      "1000/1000 [==============================] - 1s 1ms/step - loss: 0.4181 - accuracy: 0.8485 - precision: 0.6273 - recall: 0.9129 - auc: 0.9464 - prc: 0.8480\n",
      "Epoch 28/100\n",
      "1000/1000 [==============================] - 1s 1ms/step - loss: 0.4126 - accuracy: 0.8497 - precision: 0.6296 - recall: 0.9119 - auc: 0.9477 - prc: 0.8524\n",
      "Epoch 29/100\n",
      "1000/1000 [==============================] - 1s 1ms/step - loss: 0.4107 - accuracy: 0.8500 - precision: 0.6295 - recall: 0.9150 - auc: 0.9481 - prc: 0.8533\n",
      "Epoch 30/100\n",
      "1000/1000 [==============================] - 1s 1ms/step - loss: 0.4060 - accuracy: 0.8518 - precision: 0.6332 - recall: 0.9134 - auc: 0.9492 - prc: 0.8566\n",
      "Epoch 31/100\n",
      "1000/1000 [==============================] - 1s 1ms/step - loss: 0.4030 - accuracy: 0.8514 - precision: 0.6320 - recall: 0.9159 - auc: 0.9496 - prc: 0.8582\n",
      "Epoch 32/100\n",
      "1000/1000 [==============================] - 1s 1ms/step - loss: 0.3985 - accuracy: 0.8531 - precision: 0.6347 - recall: 0.9177 - auc: 0.9506 - prc: 0.8595\n",
      "Epoch 33/100\n",
      "1000/1000 [==============================] - 1s 1ms/step - loss: 0.3959 - accuracy: 0.8554 - precision: 0.6394 - recall: 0.9154 - auc: 0.9517 - prc: 0.8630\n",
      "Epoch 34/100\n",
      "1000/1000 [==============================] - 1s 1ms/step - loss: 0.3927 - accuracy: 0.8551 - precision: 0.6378 - recall: 0.9206 - auc: 0.9522 - prc: 0.8655\n",
      "Epoch 35/100\n",
      "1000/1000 [==============================] - 1s 1ms/step - loss: 0.3881 - accuracy: 0.8572 - precision: 0.6418 - recall: 0.9202 - auc: 0.9533 - prc: 0.8679\n",
      "Epoch 36/100\n",
      "1000/1000 [==============================] - 1s 1ms/step - loss: 0.3856 - accuracy: 0.8573 - precision: 0.6419 - recall: 0.9213 - auc: 0.9538 - prc: 0.8687\n",
      "Epoch 37/100\n",
      "1000/1000 [==============================] - 1s 1ms/step - loss: 0.3842 - accuracy: 0.8558 - precision: 0.6402 - recall: 0.9154 - auc: 0.9534 - prc: 0.8690\n",
      "Epoch 38/100\n",
      "1000/1000 [==============================] - 1s 1ms/step - loss: 0.3827 - accuracy: 0.8573 - precision: 0.6412 - recall: 0.9248 - auc: 0.9543 - prc: 0.8713\n",
      "Epoch 39/100\n",
      "1000/1000 [==============================] - 1s 1ms/step - loss: 0.3798 - accuracy: 0.8600 - precision: 0.6464 - recall: 0.9233 - auc: 0.9548 - prc: 0.8713\n",
      "Epoch 40/100\n",
      "1000/1000 [==============================] - 1s 1ms/step - loss: 0.3755 - accuracy: 0.8595 - precision: 0.6454 - recall: 0.9237 - auc: 0.9557 - prc: 0.8753\n",
      "Epoch 41/100\n",
      "1000/1000 [==============================] - 1s 1ms/step - loss: 0.3755 - accuracy: 0.8590 - precision: 0.6447 - recall: 0.9229 - auc: 0.9558 - prc: 0.8754\n",
      "Epoch 42/100\n",
      "1000/1000 [==============================] - 1s 1ms/step - loss: 0.3712 - accuracy: 0.8619 - precision: 0.6495 - recall: 0.9250 - auc: 0.9569 - prc: 0.8775\n",
      "Epoch 43/100\n",
      "1000/1000 [==============================] - 1s 1ms/step - loss: 0.3693 - accuracy: 0.8593 - precision: 0.6444 - recall: 0.9269 - auc: 0.9574 - prc: 0.8800\n",
      "Epoch 44/100\n",
      "1000/1000 [==============================] - 1s 1ms/step - loss: 0.3669 - accuracy: 0.8605 - precision: 0.6472 - recall: 0.9235 - auc: 0.9577 - prc: 0.8801\n",
      "Epoch 45/100\n",
      "1000/1000 [==============================] - 1s 1ms/step - loss: 0.3648 - accuracy: 0.8627 - precision: 0.6508 - recall: 0.9273 - auc: 0.9583 - prc: 0.8826\n",
      "Epoch 46/100\n",
      "1000/1000 [==============================] - 1s 1ms/step - loss: 0.3621 - accuracy: 0.8643 - precision: 0.6540 - recall: 0.9260 - auc: 0.9589 - prc: 0.8832\n",
      "Epoch 47/100\n",
      "1000/1000 [==============================] - 1s 1ms/step - loss: 0.3603 - accuracy: 0.8659 - precision: 0.6565 - recall: 0.9292 - auc: 0.9592 - prc: 0.8842\n",
      "Epoch 48/100\n",
      "1000/1000 [==============================] - 1s 1ms/step - loss: 0.3605 - accuracy: 0.8630 - precision: 0.6512 - recall: 0.9277 - auc: 0.9592 - prc: 0.8849\n",
      "Epoch 49/100\n",
      "1000/1000 [==============================] - 1s 1ms/step - loss: 0.3582 - accuracy: 0.8657 - precision: 0.6563 - recall: 0.9279 - auc: 0.9598 - prc: 0.8866\n",
      "Epoch 50/100\n",
      "1000/1000 [==============================] - 1s 1ms/step - loss: 0.3529 - accuracy: 0.8666 - precision: 0.6573 - recall: 0.9314 - auc: 0.9606 - prc: 0.8879\n",
      "Epoch 51/100\n",
      "1000/1000 [==============================] - 1s 1ms/step - loss: 0.3504 - accuracy: 0.8662 - precision: 0.6572 - recall: 0.9277 - auc: 0.9611 - prc: 0.8903\n",
      "Epoch 52/100\n",
      "1000/1000 [==============================] - 1s 1ms/step - loss: 0.3538 - accuracy: 0.8661 - precision: 0.6564 - recall: 0.9308 - auc: 0.9606 - prc: 0.8890\n",
      "Epoch 53/100\n",
      "1000/1000 [==============================] - 1s 1ms/step - loss: 0.3486 - accuracy: 0.8674 - precision: 0.6593 - recall: 0.9294 - auc: 0.9617 - prc: 0.8921\n",
      "Epoch 54/100\n",
      "1000/1000 [==============================] - 1s 1ms/step - loss: 0.3491 - accuracy: 0.8663 - precision: 0.6569 - recall: 0.9308 - auc: 0.9613 - prc: 0.8908\n",
      "Epoch 55/100\n",
      "1000/1000 [==============================] - 1s 1ms/step - loss: 0.3445 - accuracy: 0.8695 - precision: 0.6624 - recall: 0.9333 - auc: 0.9627 - prc: 0.8947\n",
      "Epoch 56/100\n",
      "1000/1000 [==============================] - 1s 1ms/step - loss: 0.3451 - accuracy: 0.8694 - precision: 0.6623 - recall: 0.9333 - auc: 0.9625 - prc: 0.8934\n",
      "Epoch 57/100\n",
      "1000/1000 [==============================] - 1s 1ms/step - loss: 0.3430 - accuracy: 0.8684 - precision: 0.6605 - recall: 0.9321 - auc: 0.9627 - prc: 0.8940\n",
      "Epoch 58/100\n",
      "1000/1000 [==============================] - 1s 1ms/step - loss: 0.3392 - accuracy: 0.8714 - precision: 0.6654 - recall: 0.9366 - auc: 0.9638 - prc: 0.8966\n",
      "Epoch 59/100\n",
      "1000/1000 [==============================] - 1s 1ms/step - loss: 0.3390 - accuracy: 0.8701 - precision: 0.6634 - recall: 0.9341 - auc: 0.9636 - prc: 0.8972\n",
      "Epoch 60/100\n",
      "1000/1000 [==============================] - 1s 1ms/step - loss: 0.3386 - accuracy: 0.8711 - precision: 0.6644 - recall: 0.9381 - auc: 0.9637 - prc: 0.8969\n",
      "Epoch 61/100\n",
      "1000/1000 [==============================] - 1s 1ms/step - loss: 0.3356 - accuracy: 0.8731 - precision: 0.6687 - recall: 0.9368 - auc: 0.9642 - prc: 0.8982\n",
      "Epoch 62/100\n",
      "1000/1000 [==============================] - 1s 1ms/step - loss: 0.3358 - accuracy: 0.8698 - precision: 0.6627 - recall: 0.9348 - auc: 0.9641 - prc: 0.8988\n",
      "Epoch 63/100\n",
      "1000/1000 [==============================] - 1s 1ms/step - loss: 0.3321 - accuracy: 0.8734 - precision: 0.6693 - recall: 0.9364 - auc: 0.9650 - prc: 0.9008\n",
      "Epoch 64/100\n",
      "1000/1000 [==============================] - 1s 1ms/step - loss: 0.3326 - accuracy: 0.8712 - precision: 0.6650 - recall: 0.9370 - auc: 0.9649 - prc: 0.9001\n",
      "Epoch 65/100\n",
      "1000/1000 [==============================] - 1s 1ms/step - loss: 0.3303 - accuracy: 0.8726 - precision: 0.6679 - recall: 0.9358 - auc: 0.9651 - prc: 0.9009\n",
      "Epoch 66/100\n",
      "1000/1000 [==============================] - 1s 1ms/step - loss: 0.3276 - accuracy: 0.8745 - precision: 0.6710 - recall: 0.9391 - auc: 0.9658 - prc: 0.9029\n",
      "Epoch 67/100\n",
      "1000/1000 [==============================] - 1s 1ms/step - loss: 0.3274 - accuracy: 0.8744 - precision: 0.6711 - recall: 0.9370 - auc: 0.9660 - prc: 0.9032\n",
      "Epoch 68/100\n",
      "1000/1000 [==============================] - 1s 1ms/step - loss: 0.3257 - accuracy: 0.8770 - precision: 0.6769 - recall: 0.9358 - auc: 0.9664 - prc: 0.9049\n",
      "Epoch 69/100\n",
      "1000/1000 [==============================] - 1s 1ms/step - loss: 0.3240 - accuracy: 0.8759 - precision: 0.6735 - recall: 0.9400 - auc: 0.9666 - prc: 0.9048\n",
      "Epoch 70/100\n",
      "1000/1000 [==============================] - 1s 1ms/step - loss: 0.3255 - accuracy: 0.8759 - precision: 0.6736 - recall: 0.9393 - auc: 0.9664 - prc: 0.9043\n",
      "Epoch 71/100\n",
      "1000/1000 [==============================] - 1s 1ms/step - loss: 0.3207 - accuracy: 0.8761 - precision: 0.6733 - recall: 0.9424 - auc: 0.9673 - prc: 0.9066\n",
      "Epoch 72/100\n",
      "1000/1000 [==============================] - 1s 1ms/step - loss: 0.3202 - accuracy: 0.8777 - precision: 0.6776 - recall: 0.9383 - auc: 0.9673 - prc: 0.9069\n",
      "Epoch 73/100\n",
      "1000/1000 [==============================] - 1s 1ms/step - loss: 0.3202 - accuracy: 0.8761 - precision: 0.6729 - recall: 0.9439 - auc: 0.9675 - prc: 0.9076\n",
      "Epoch 74/100\n",
      "1000/1000 [==============================] - 1s 1ms/step - loss: 0.3179 - accuracy: 0.8794 - precision: 0.6805 - recall: 0.9400 - auc: 0.9681 - prc: 0.9091\n",
      "Epoch 75/100\n",
      "1000/1000 [==============================] - 1s 1ms/step - loss: 0.3160 - accuracy: 0.8794 - precision: 0.6796 - recall: 0.9437 - auc: 0.9683 - prc: 0.9090\n",
      "Epoch 76/100\n",
      "1000/1000 [==============================] - 1s 1ms/step - loss: 0.3180 - accuracy: 0.8773 - precision: 0.6763 - recall: 0.9400 - auc: 0.9678 - prc: 0.9087\n",
      "Epoch 77/100\n",
      "1000/1000 [==============================] - 1s 1ms/step - loss: 0.3134 - accuracy: 0.8809 - precision: 0.6832 - recall: 0.9422 - auc: 0.9687 - prc: 0.9106\n",
      "Epoch 78/100\n",
      "1000/1000 [==============================] - 1s 1ms/step - loss: 0.3127 - accuracy: 0.8804 - precision: 0.6809 - recall: 0.9466 - auc: 0.9687 - prc: 0.9104\n",
      "Epoch 79/100\n",
      "1000/1000 [==============================] - 1s 1ms/step - loss: 0.3140 - accuracy: 0.8802 - precision: 0.6818 - recall: 0.9416 - auc: 0.9686 - prc: 0.9107\n",
      "Epoch 80/100\n",
      "1000/1000 [==============================] - 1s 1ms/step - loss: 0.3085 - accuracy: 0.8803 - precision: 0.6809 - recall: 0.9460 - auc: 0.9696 - prc: 0.9131\n",
      "Epoch 81/100\n",
      "1000/1000 [==============================] - 1s 1ms/step - loss: 0.3118 - accuracy: 0.8802 - precision: 0.6813 - recall: 0.9439 - auc: 0.9691 - prc: 0.9122\n",
      "Epoch 82/100\n",
      "1000/1000 [==============================] - 1s 1ms/step - loss: 0.3089 - accuracy: 0.8805 - precision: 0.6825 - recall: 0.9414 - auc: 0.9694 - prc: 0.9129\n",
      "Epoch 83/100\n",
      "1000/1000 [==============================] - 1s 1ms/step - loss: 0.3040 - accuracy: 0.8797 - precision: 0.6795 - recall: 0.9464 - auc: 0.9700 - prc: 0.9147\n",
      "Epoch 84/100\n",
      "1000/1000 [==============================] - 1s 1ms/step - loss: 0.3076 - accuracy: 0.8806 - precision: 0.6823 - recall: 0.9427 - auc: 0.9698 - prc: 0.9140\n",
      "Epoch 85/100\n",
      "1000/1000 [==============================] - 1s 1ms/step - loss: 0.3052 - accuracy: 0.8832 - precision: 0.6883 - recall: 0.9406 - auc: 0.9699 - prc: 0.9141\n",
      "Epoch 86/100\n",
      "1000/1000 [==============================] - 1s 1ms/step - loss: 0.3036 - accuracy: 0.8831 - precision: 0.6875 - recall: 0.9427 - auc: 0.9706 - prc: 0.9170\n",
      "Epoch 87/100\n",
      "1000/1000 [==============================] - 1s 1ms/step - loss: 0.3039 - accuracy: 0.8823 - precision: 0.6842 - recall: 0.9487 - auc: 0.9703 - prc: 0.9150\n",
      "Epoch 88/100\n",
      "1000/1000 [==============================] - 1s 1ms/step - loss: 0.3019 - accuracy: 0.8816 - precision: 0.6836 - recall: 0.9458 - auc: 0.9709 - prc: 0.9174\n",
      "Epoch 89/100\n",
      "1000/1000 [==============================] - 1s 1ms/step - loss: 0.3022 - accuracy: 0.8856 - precision: 0.6920 - recall: 0.9449 - auc: 0.9708 - prc: 0.9159\n",
      "Epoch 90/100\n",
      "1000/1000 [==============================] - 1s 1ms/step - loss: 0.2979 - accuracy: 0.8861 - precision: 0.6920 - recall: 0.9491 - auc: 0.9713 - prc: 0.9168\n",
      "Epoch 91/100\n",
      "1000/1000 [==============================] - 1s 1ms/step - loss: 0.2984 - accuracy: 0.8844 - precision: 0.6889 - recall: 0.9472 - auc: 0.9713 - prc: 0.9178\n",
      "Epoch 92/100\n",
      "1000/1000 [==============================] - 1s 1ms/step - loss: 0.2991 - accuracy: 0.8861 - precision: 0.6923 - recall: 0.9481 - auc: 0.9712 - prc: 0.9174\n",
      "Epoch 93/100\n",
      "1000/1000 [==============================] - 1s 1ms/step - loss: 0.2970 - accuracy: 0.8856 - precision: 0.6923 - recall: 0.9443 - auc: 0.9716 - prc: 0.9190\n",
      "Epoch 94/100\n",
      "1000/1000 [==============================] - 1s 1ms/step - loss: 0.2959 - accuracy: 0.8858 - precision: 0.6918 - recall: 0.9476 - auc: 0.9718 - prc: 0.9190\n",
      "Epoch 95/100\n",
      "1000/1000 [==============================] - 1s 1ms/step - loss: 0.2928 - accuracy: 0.8865 - precision: 0.6933 - recall: 0.9474 - auc: 0.9722 - prc: 0.9200\n",
      "Epoch 96/100\n",
      "1000/1000 [==============================] - 1s 1ms/step - loss: 0.2933 - accuracy: 0.8867 - precision: 0.6940 - recall: 0.9470 - auc: 0.9722 - prc: 0.9206\n",
      "Epoch 97/100\n",
      "1000/1000 [==============================] - 1s 1ms/step - loss: 0.2944 - accuracy: 0.8862 - precision: 0.6922 - recall: 0.9491 - auc: 0.9723 - prc: 0.9209\n",
      "Epoch 98/100\n",
      "1000/1000 [==============================] - 1s 1ms/step - loss: 0.2893 - accuracy: 0.8878 - precision: 0.6951 - recall: 0.9508 - auc: 0.9729 - prc: 0.9225\n",
      "Epoch 99/100\n",
      "1000/1000 [==============================] - 1s 1ms/step - loss: 0.2894 - accuracy: 0.8863 - precision: 0.6921 - recall: 0.9499 - auc: 0.9729 - prc: 0.9225\n",
      "Epoch 100/100\n",
      "1000/1000 [==============================] - 1s 1ms/step - loss: 0.2891 - accuracy: 0.8880 - precision: 0.6967 - recall: 0.9464 - auc: 0.9732 - prc: 0.9225\n"
     ]
    }
   ],
   "source": [
    "baseline_model = model.fit(scaled_X_train,y_train, epochs=100, batch_size=20,class_weight=class_weight,verbose=1)"
   ]
  },
  {
   "cell_type": "code",
   "execution_count": 87,
   "id": "e16794bd-3d7f-4c10-b8ec-397c8181d0ad",
   "metadata": {},
   "outputs": [],
   "source": [
    "from sklearn.metrics import accuracy_score, confusion_matrix, f1_score, roc_auc_score, recall_score"
   ]
  },
  {
   "cell_type": "code",
   "execution_count": 88,
   "id": "b2ca2111-504e-41eb-8425-dd7280ccf7cf",
   "metadata": {},
   "outputs": [],
   "source": [
    "metrics = [\n",
    "      keras.metrics.BinaryAccuracy(name='accuracy'),\n",
    "      keras.metrics.Precision(name='precision'),\n",
    "      keras.metrics.Recall(name='recall'),\n",
    "      keras.metrics.AUC(name='auc'),\n",
    "      keras.metrics.AUC(name='prc', curve='PR'), # precision-recall curve\n",
    "]"
   ]
  },
  {
   "cell_type": "code",
   "execution_count": 89,
   "id": "24c5d794-7e36-4f42-94fa-30f443ee9a98",
   "metadata": {},
   "outputs": [],
   "source": [
    "y_pred = model.predict(scaled_X_val)"
   ]
  },
  {
   "cell_type": "code",
   "execution_count": 90,
   "id": "cf7ba333-9434-4361-8af4-49e6eb262b33",
   "metadata": {},
   "outputs": [],
   "source": [
    "m = tf.keras.metrics.AUC()\n",
    "m.update_state(y_val,y_pred)"
   ]
  },
  {
   "cell_type": "code",
   "execution_count": 91,
   "id": "52ef00b8-4663-4d31-a672-14a8e467afba",
   "metadata": {},
   "outputs": [
    {
     "data": {
      "text/plain": [
       "0.8613279"
      ]
     },
     "execution_count": 91,
     "metadata": {},
     "output_type": "execute_result"
    }
   ],
   "source": [
    "m.result().numpy()"
   ]
  },
  {
   "cell_type": "code",
   "execution_count": 92,
   "id": "ad1c5e62-ab12-494d-821d-be2824eebc88",
   "metadata": {},
   "outputs": [
    {
     "data": {
      "text/plain": [
       "<tf.Variable 'UnreadVariable' shape=() dtype=float32, numpy=1.0>"
      ]
     },
     "execution_count": 92,
     "metadata": {},
     "output_type": "execute_result"
    }
   ],
   "source": [
    "acc = tf.keras.metrics.BinaryAccuracy()\n",
    "acc.update_state(y_val,y_pred)"
   ]
  },
  {
   "cell_type": "code",
   "execution_count": 93,
   "id": "a207e495-a763-4969-9d3e-f97084104173",
   "metadata": {},
   "outputs": [
    {
     "data": {
      "text/plain": [
       "0.8062"
      ]
     },
     "execution_count": 93,
     "metadata": {},
     "output_type": "execute_result"
    }
   ],
   "source": [
    "acc.result().numpy()"
   ]
  },
  {
   "cell_type": "code",
   "execution_count": 94,
   "id": "cd0480fb-6ff3-4f56-bfcf-ec1e1cb5c1c2",
   "metadata": {},
   "outputs": [
    {
     "data": {
      "image/png": "[encoded data removed]",
      "text/plain": [
       "<Figure size 432x288 with 1 Axes>"
      ]
     },
     "metadata": {
      "needs_background": "light"
     },
     "output_type": "display_data"
    }
   ],
   "source": [
    "plt.plot(baseline_model.history['loss'])\n",
    "plt.title('model loss')\n",
    "plt.ylabel('loss')\n",
    "plt.xlabel('epoch')\n",
    "plt.legend(['train', 'dev'], loc='upper left')\n",
    "plt.show()"
   ]
  },
  {
   "cell_type": "code",
   "execution_count": 95,
   "id": "1a6c15f1-2737-41f5-87ec-445c69365697",
   "metadata": {},
   "outputs": [
    {
     "data": {
      "image/png": "[encoded data removed]",
      "text/plain": [
       "<Figure size 432x288 with 1 Axes>"
      ]
     },
     "metadata": {
      "needs_background": "light"
     },
     "output_type": "display_data"
    }
   ],
   "source": [
    "plt.plot(baseline_model.history['accuracy'])\n",
    "plt.title('model accuracy')\n",
    "plt.ylabel('Accuracy')\n",
    "plt.xlabel('epoch')\n",
    "plt.legend(['train', 'dev'], loc='upper left')\n",
    "plt.show()"
   ]
  },
  {
   "cell_type": "code",
   "execution_count": 96,
   "id": "017c7039-833e-4aa6-999c-5cd465b0fc68",
   "metadata": {},
   "outputs": [
    {
     "data": {
      "image/png": "[encoded data removed]",
      "text/plain": [
       "<Figure size 432x288 with 1 Axes>"
      ]
     },
     "metadata": {
      "needs_background": "light"
     },
     "output_type": "display_data"
    }
   ],
   "source": [
    "plt.plot(baseline_model.history['precision'])\n",
    "plt.title('model precision')\n",
    "plt.ylabel('Precision')\n",
    "plt.xlabel('epoch')\n",
    "plt.legend(['train', 'dev'], loc='upper left')\n",
    "plt.show()"
   ]
  },
  {
   "cell_type": "code",
   "execution_count": 97,
   "id": "11741cca-a43f-47f6-90fa-53b7cb23ccbf",
   "metadata": {},
   "outputs": [
    {
     "data": {
      "image/png": "[encoded data removed]",
      "text/plain": [
       "<Figure size 432x288 with 1 Axes>"
      ]
     },
     "metadata": {
      "needs_background": "light"
     },
     "output_type": "display_data"
    }
   ],
   "source": [
    "plt.plot(baseline_model.history['auc'])\n",
    "plt.title('model AUC')\n",
    "plt.ylabel('AUC Score')\n",
    "plt.xlabel('epoch')\n",
    "plt.legend(['train', 'dev'], loc='upper left')\n",
    "plt.show()"
   ]
  },
  {
   "cell_type": "markdown",
   "id": "9e19b679-af66-45e2-af3a-4b1f41c6e39c",
   "metadata": {},
   "source": [
    "### Feature Importance\n",
    "(b) Which are the most important variables for predicting income? \n",
    "- try to find out a feature to extract feature importance here.\n",
    "- probably just answer this question according to commmon sense as neural network is actually hard to interpret.\n",
    "- `SHAP` or `LIME`: two major feature importance visulization APIs."
   ]
  },
  {
   "cell_type": "code",
   "execution_count": 98,
   "id": "83a44a06-11bc-4859-b3fd-37fb2bad40da",
   "metadata": {},
   "outputs": [],
   "source": [
    "import shap\n",
    "\n",
    "# SHAP expects model functions to take a 2D numpy array as input, so we define a wrapper function around the original Keras predict function.\n",
    "def f_wrapper(X):\n",
    "    return model.predict(X).flatten()"
   ]
  },
  {
   "cell_type": "code",
   "execution_count": 99,
   "id": "6204d2fb-35bc-421d-beac-1ac6a3bb96e6",
   "metadata": {},
   "outputs": [],
   "source": [
    "# Too many input data - use a random slice\n",
    "# rather than use the whole training set to estimate expected values, we summarize with\n",
    "# a set of weighted kmeans, each weighted by the number of points they represent. (make sure going over the majority - make it 100)\n",
    "X_train_summary = shap.kmeans(scaled_X_train, 100)"
   ]
  },
  {
   "cell_type": "code",
   "execution_count": 100,
   "id": "557848b6-c5d9-4c3b-89bb-6faae4a0d487",
   "metadata": {},
   "outputs": [],
   "source": [
    "# Compute Shap values\n",
    "explainer = shap.KernelExplainer(f_wrapper,X_train_summary)"
   ]
  },
  {
   "cell_type": "code",
   "execution_count": 101,
   "id": "ae4a4367-7a44-403c-a348-8dea2131c9ab",
   "metadata": {},
   "outputs": [],
   "source": [
    "# random select a number of rows\n",
    "random_indices = np.random.choice(scaled_X_train.shape[0], size=200, replace=False)\n",
    "X_train_sample = scaled_X_train[random_indices, :]"
   ]
  },
  {
   "cell_type": "code",
   "execution_count": 102,
   "id": "9a00a719-ca13-4300-b832-d447a2daa173",
   "metadata": {},
   "outputs": [
    {
     "data": {
      "application/vnd.jupyter.widget-view+json": {
       "model_id": "37057d00ca004110abea019f1c8b4148",
       "version_major": 2,
       "version_minor": 0
      },
      "text/plain": [
       "  0%|          | 0/200 [00:00<?, ?it/s]"
      ]
     },
     "metadata": {},
     "output_type": "display_data"
    }
   ],
   "source": [
    "# Make plot with combined shap values\n",
    "# The training set is too big so let's sample it. We get enough point to draw conclusions\n",
    " \n",
    "shap_values  = explainer.shap_values(X_train_sample)"
   ]
  },
  {
   "cell_type": "code",
   "execution_count": 103,
   "id": "a0dd8cde-8cf3-40a9-8717-e8a8f97afe5e",
   "metadata": {},
   "outputs": [
    {
     "data": {
      "text/plain": [
       "(200, 107)"
      ]
     },
     "execution_count": 103,
     "metadata": {},
     "output_type": "execute_result"
    }
   ],
   "source": [
    "shap_values.shape"
   ]
  },
  {
   "cell_type": "code",
   "execution_count": 104,
   "id": "7c5f074d-290f-4056-970d-a185a4a0a7ae",
   "metadata": {},
   "outputs": [
    {
     "data": {
      "image/png": "[encoded data removed]",
      "text/plain": [
       "<Figure size 576x684 with 2 Axes>"
      ]
     },
     "metadata": {
      "needs_background": "light"
     },
     "output_type": "display_data"
    }
   ],
   "source": [
    "shap.summary_plot(shap_values, X_train_sample,feature_names=X_train.columns)"
   ]
  },
  {
   "cell_type": "code",
   "execution_count": 105,
   "id": "26a564e3-1ff0-47dc-a61f-df2fbcee46c3",
   "metadata": {},
   "outputs": [
    {
     "data": {
      "image/png": "[encoded data removed]",
      "text/plain": [
       "<Figure size 576x684 with 1 Axes>"
      ]
     },
     "metadata": {
      "needs_background": "light"
     },
     "output_type": "display_data"
    }
   ],
   "source": [
    "shap.summary_plot(shap_values, scaled_X_train, plot_type=\"bar\",feature_names=X_train.columns)"
   ]
  },
  {
   "cell_type": "markdown",
   "id": "e92f0302-fb67-4a26-9627-ef92847442ab",
   "metadata": {},
   "source": [
    "The default threshold for keras.metrics.BinaryAccuracy is `0.5`."
   ]
  },
  {
   "cell_type": "code",
   "execution_count": 106,
   "id": "9d788175-5ea6-4eda-8509-26931f1e19cd",
   "metadata": {},
   "outputs": [],
   "source": [
    "y_pred = list(y_pred)"
   ]
  },
  {
   "cell_type": "code",
   "execution_count": 107,
   "id": "d0fab199-c547-4554-bc38-c86d829ef72d",
   "metadata": {},
   "outputs": [],
   "source": [
    "y_pred_label = (model.predict(scaled_X_val) > 0.5).astype(int)"
   ]
  },
  {
   "cell_type": "code",
   "execution_count": 108,
   "id": "7848093f-e9ac-41e7-b2f4-e4641cb34d0f",
   "metadata": {},
   "outputs": [],
   "source": [
    "cf_matrix = confusion_matrix(y_val,y_pred_label)"
   ]
  },
  {
   "cell_type": "code",
   "execution_count": 109,
   "id": "3da61e65-d2aa-4fe3-9dcb-5fe4a8c14418",
   "metadata": {},
   "outputs": [
    {
     "data": {
      "text/plain": [
       "<AxesSubplot:>"
      ]
     },
     "execution_count": 109,
     "metadata": {},
     "output_type": "execute_result"
    },
    {
     "data": {
      "image/png": "[encoded data removed]",
      "text/plain": [
       "<Figure size 432x288 with 2 Axes>"
      ]
     },
     "metadata": {
      "needs_background": "light"
     },
     "output_type": "display_data"
    }
   ],
   "source": [
    "sns.heatmap(cf_matrix, annot=True, cmap='Blues', fmt='d')"
   ]
  },
  {
   "cell_type": "code",
   "execution_count": 110,
   "id": "7166461a-36de-4b24-ac19-7c78846c0943",
   "metadata": {},
   "outputs": [
    {
     "data": {
      "text/plain": [
       "<AxesSubplot:>"
      ]
     },
     "execution_count": 110,
     "metadata": {},
     "output_type": "execute_result"
    },
    {
     "data": {
      "image/png": "[encoded data removed]",
      "text/plain": [
       "<Figure size 432x288 with 2 Axes>"
      ]
     },
     "metadata": {
      "needs_background": "light"
     },
     "output_type": "display_data"
    }
   ],
   "source": [
    "sns.heatmap(cf_matrix/np.sum(cf_matrix), annot=True, \n",
    "            fmt='.2%', cmap='Blues')"
   ]
  },
  {
   "cell_type": "markdown",
   "id": "0e540ab9-176d-4ccd-a340-ec6470b8f913",
   "metadata": {},
   "source": [
    "### Grid Search for Neural Network\n",
    "- for feature importance: do sensitivity analysis according to the mean of the whole dataset (107 rows) - using a for loop\n",
    "- adjust it and feed it into the neural network -- see whether it changes or not. "
   ]
  },
  {
   "cell_type": "code",
   "execution_count": 113,
   "id": "0507cfcb-cac8-4bc2-bb44-0b8a65edb00a",
   "metadata": {},
   "outputs": [],
   "source": [
    "from sklearn.model_selection import GridSearchCV"
   ]
  },
  {
   "cell_type": "code",
   "execution_count": 114,
   "id": "5daa7b33-43b8-4bc2-93ac-dbe351ac4b23",
   "metadata": {},
   "outputs": [],
   "source": [
    "from keras.wrappers.scikit_learn import KerasClassifier"
   ]
  },
  {
   "cell_type": "code",
   "execution_count": 115,
   "id": "860f4402-2005-4c0d-9ee6-5daae790463c",
   "metadata": {},
   "outputs": [],
   "source": [
    "lr = 5e-4"
   ]
  },
  {
   "cell_type": "code",
   "execution_count": 116,
   "id": "d64b296a-d25a-4397-aa3d-771d6444e6fd",
   "metadata": {},
   "outputs": [],
   "source": [
    "adam = tf.keras.optimizers.Adam(learning_rate=lr)"
   ]
  },
  {
   "cell_type": "code",
   "execution_count": 117,
   "id": "63ea2e89-9163-4c4f-bbfa-1ba6ae9c394c",
   "metadata": {},
   "outputs": [],
   "source": [
    "def create_model(neurons=[input_dim,input_dim],init='uniform',optimizer=adam):\n",
    "    model = Sequential()\n",
    "    model.add(Dense(neurons[0],input_dim=input_dim,kernel_initializer=init, activation='relu'))\n",
    "    model.add(Dense(neurons[1],input_dim=neurons[0],kernel_initializer=init, activation='relu'))\n",
    "#     model.add(Dense(neurons[2],input_dim=neurons[1],kernel_initializer=init, activation='relu'))\n",
    "    model.add(Dense(1,kernel_initializer=init,activation='sigmoid'))\n",
    "    model.compile(loss='binary_crossentropy',optimizer=optimizer,metrics=metrics)\n",
    "    return model"
   ]
  },
  {
   "cell_type": "code",
   "execution_count": 118,
   "id": "df28ebbb-a7d4-4de0-ba8e-54ed7ba82fbc",
   "metadata": {},
   "outputs": [],
   "source": [
    "n_epoch = 50\n",
    "batch_size = 20"
   ]
  },
  {
   "cell_type": "code",
   "execution_count": 119,
   "id": "7826b47e-3038-40f3-a8e6-2eee7b0b0558",
   "metadata": {},
   "outputs": [
    {
     "name": "stderr",
     "output_type": "stream",
     "text": [
      "KerasClassifier is deprecated, use Sci-Keras (https://github.com/adriangb/scikeras) instead.\n"
     ]
    }
   ],
   "source": [
    "model = KerasClassifier(build_fn=create_model, verbose=0)"
   ]
  },
  {
   "cell_type": "code",
   "execution_count": 120,
   "id": "2544465b-4d8c-4ef2-8a07-84bfcabcbd2d",
   "metadata": {},
   "outputs": [],
   "source": [
    "rms = tf.keras.optimizers.RMSprop(learning_rate=lr)"
   ]
  },
  {
   "cell_type": "code",
   "execution_count": 121,
   "id": "31a77824-5618-4b2e-9713-b1d6a722e8da",
   "metadata": {},
   "outputs": [],
   "source": [
    "sgd = tf.keras.optimizers.SGD(learning_rate=lr)"
   ]
  },
  {
   "cell_type": "code",
   "execution_count": 122,
   "id": "4d97cb46-7d2d-47d2-864a-e79de263f05f",
   "metadata": {},
   "outputs": [],
   "source": [
    "neurons = [[128, 64], [256, 128],[128,128]]\n",
    "optimizers = [adam,rms,sgd]\n",
    "init = ['normal', 'uniform']\n",
    "epochs = np.array([50,75,100])\n",
    "batch_size = np.array([16,32,64])"
   ]
  },
  {
   "cell_type": "code",
   "execution_count": 123,
   "id": "82315efb-ff0f-48b4-9525-92b87ea8b1ff",
   "metadata": {},
   "outputs": [],
   "source": [
    "param_grid = dict(neurons=neurons,optimizer=optimizers, nb_epoch=epochs, batch_size=batch_size, init=init)"
   ]
  },
  {
   "cell_type": "code",
   "execution_count": 124,
   "id": "0a7715f1-42b9-4ba9-9136-e8d37bf87b88",
   "metadata": {},
   "outputs": [],
   "source": [
    "grid = GridSearchCV(estimator=model,param_grid=param_grid)"
   ]
  },
  {
   "cell_type": "markdown",
   "id": "a50c60e6-1386-4d14-a8a5-b1687db7719c",
   "metadata": {},
   "source": [
    "We will use all the training data in the grid search + cross validation approach."
   ]
  },
  {
   "cell_type": "code",
   "execution_count": 125,
   "id": "e04019c2-494e-4bd5-82cf-5ad8fddcc02c",
   "metadata": {},
   "outputs": [],
   "source": [
    "grid_result = grid.fit(scaled_X_train,y_train)"
   ]
  },
  {
   "cell_type": "code",
   "execution_count": 126,
   "id": "694a8216-ba19-47c3-878a-55f81cc052fd",
   "metadata": {},
   "outputs": [
    {
     "name": "stdout",
     "output_type": "stream",
     "text": [
      "Best: 0.841400 using {'batch_size': 16, 'init': 'normal', 'nb_epoch': 75, 'neurons': [256, 128], 'optimizer': <keras.optimizer_v2.adam.Adam object at 0x7f7c61724850>}\n"
     ]
    }
   ],
   "source": [
    "print(\"Best: %f using %s\" % (grid_result.best_score_, grid_result.best_params_))"
   ]
  },
  {
   "cell_type": "code",
   "execution_count": 128,
   "id": "438b48ed-af71-4668-ab9f-243d60a26338",
   "metadata": {},
   "outputs": [],
   "source": [
    "means = grid_result.cv_results_['mean_test_score']"
   ]
  },
  {
   "cell_type": "code",
   "execution_count": 129,
   "id": "c7ed5b3d-fffd-41f0-8375-6cc921ab243a",
   "metadata": {},
   "outputs": [],
   "source": [
    "stds = grid_result.cv_results_['std_test_score']"
   ]
  },
  {
   "cell_type": "code",
   "execution_count": 130,
   "id": "f43de1b5-6aae-4756-a042-7efe0a1bccc6",
   "metadata": {},
   "outputs": [],
   "source": [
    "params = grid_result.cv_results_['params']"
   ]
  },
  {
   "cell_type": "code",
   "execution_count": 131,
   "id": "69632da1-78d7-4118-b5cf-1a85fc335d54",
   "metadata": {},
   "outputs": [],
   "source": [
    "# for mean, stdev, param in zip(means, stds, params):\n",
    "#     print(\"%f (%f) with %r\" % (mean, stdev, param))"
   ]
  },
  {
   "cell_type": "code",
   "execution_count": 132,
   "id": "806b3d40-b36f-4b28-9632-477644e0d69d",
   "metadata": {},
   "outputs": [
    {
     "data": {
      "text/plain": [
       "{'batch_size': 16,\n",
       " 'init': 'normal',\n",
       " 'nb_epoch': 75,\n",
       " 'neurons': [256, 128],\n",
       " 'optimizer': <keras.optimizer_v2.adam.Adam at 0x7f7c61724850>}"
      ]
     },
     "execution_count": 132,
     "metadata": {},
     "output_type": "execute_result"
    }
   ],
   "source": [
    "grid_result.best_params_"
   ]
  },
  {
   "cell_type": "code",
   "execution_count": 133,
   "id": "f7a24ce2-1638-4cb1-bd50-32b35b555039",
   "metadata": {},
   "outputs": [],
   "source": [
    "best_model = grid.best_estimator_"
   ]
  },
  {
   "cell_type": "markdown",
   "id": "b019fa8b-2263-4051-91c2-9e8d27ab54cd",
   "metadata": {},
   "source": [
    "This gives us the best model according to grid search and cross validation. "
   ]
  },
  {
   "cell_type": "code",
   "execution_count": 134,
   "id": "fe1d477f-c312-49c7-99b6-f10d6da74b46",
   "metadata": {},
   "outputs": [],
   "source": [
    "y_pred2 = best_model.predict(scaled_X_val)"
   ]
  },
  {
   "cell_type": "code",
   "execution_count": 135,
   "id": "8859bdeb-2ef2-4797-a810-c99d872cc21d",
   "metadata": {},
   "outputs": [],
   "source": [
    "y_pred_label2 = (best_model.predict(scaled_X_val) > 0.5).astype(int)"
   ]
  },
  {
   "cell_type": "code",
   "execution_count": 136,
   "id": "0230b5aa-eca1-4bc5-ad19-4c93e320a9a3",
   "metadata": {},
   "outputs": [
    {
     "data": {
      "text/plain": [
       "0.847"
      ]
     },
     "execution_count": 136,
     "metadata": {},
     "output_type": "execute_result"
    }
   ],
   "source": [
    "accuracy_score(y_val,y_pred_label2)"
   ]
  },
  {
   "cell_type": "code",
   "execution_count": 137,
   "id": "60ca93f9-e07f-4d6b-829a-540a4322c5e9",
   "metadata": {},
   "outputs": [
    {
     "data": {
      "text/plain": [
       "0.7610914190526297"
      ]
     },
     "execution_count": 137,
     "metadata": {},
     "output_type": "execute_result"
    }
   ],
   "source": [
    "roc_auc_score(y_val,y_pred_label2)"
   ]
  },
  {
   "cell_type": "code",
   "execution_count": 138,
   "id": "da6261e4-6fd3-4f62-8fe0-10d27c0fd41e",
   "metadata": {},
   "outputs": [
    {
     "data": {
      "text/plain": [
       "0.6473029045643154"
      ]
     },
     "execution_count": 138,
     "metadata": {},
     "output_type": "execute_result"
    }
   ],
   "source": [
    "f1_score(y_val,y_pred_label2)"
   ]
  },
  {
   "cell_type": "code",
   "execution_count": 139,
   "id": "ae579e6d-fe95-4976-a375-36427d512dba",
   "metadata": {},
   "outputs": [],
   "source": [
    "cf_matrix2 = confusion_matrix(y_val,y_pred_label2)"
   ]
  },
  {
   "cell_type": "code",
   "execution_count": 140,
   "id": "ac2b2f00-82d2-4f4c-bb2b-36ee94e27c49",
   "metadata": {},
   "outputs": [
    {
     "data": {
      "text/plain": [
       "<AxesSubplot:>"
      ]
     },
     "execution_count": 140,
     "metadata": {},
     "output_type": "execute_result"
    },
    {
     "data": {
      "image/png": "[encoded data removed]",
      "text/plain": [
       "<Figure size 432x288 with 2 Axes>"
      ]
     },
     "metadata": {
      "needs_background": "light"
     },
     "output_type": "display_data"
    }
   ],
   "source": [
    "sns.heatmap(cf_matrix2, annot=True, cmap='Blues', fmt='d')"
   ]
  },
  {
   "cell_type": "code",
   "execution_count": 141,
   "id": "8989585c-ed17-41a7-9e07-a69521bda92f",
   "metadata": {},
   "outputs": [
    {
     "data": {
      "text/plain": [
       "<AxesSubplot:>"
      ]
     },
     "execution_count": 141,
     "metadata": {},
     "output_type": "execute_result"
    },
    {
     "data": {
      "image/png": "[encoded data removed]",
      "text/plain": [
       "<Figure size 432x288 with 2 Axes>"
      ]
     },
     "metadata": {
      "needs_background": "light"
     },
     "output_type": "display_data"
    }
   ],
   "source": [
    "sns.heatmap(cf_matrix2/np.sum(cf_matrix2), annot=True, \n",
    "            fmt='.2%', cmap='Blues')"
   ]
  },
  {
   "cell_type": "markdown",
   "id": "b7f09b89-2f6f-49e7-ae86-54c703a2269b",
   "metadata": {},
   "source": [
    "**(d). Compare the predicted income with actual income. Which error is the model more \n",
    "prone to making? Is this type of error more protective of, say, banks or loan \n",
    "applicants?**"
   ]
  },
  {
   "cell_type": "code",
   "execution_count": 164,
   "id": "13ed9bbe-2c07-4069-a676-31d2dfefeb18",
   "metadata": {},
   "outputs": [],
   "source": [
    "X_val_pred = pd.DataFrame(X_val, columns=cols)"
   ]
  },
  {
   "cell_type": "code",
   "execution_count": 166,
   "id": "c56098e5-de77-49c4-8251-68452b0bf2ef",
   "metadata": {},
   "outputs": [
    {
     "data": {
      "text/html": [
       "<div>\n",
       "<style scoped>\n",
       "    .dataframe tbody tr th:only-of-type {\n",
       "        vertical-align: middle;\n",
       "    }\n",
       "\n",
       "    .dataframe tbody tr th {\n",
       "        vertical-align: top;\n",
       "    }\n",
       "\n",
       "    .dataframe thead th {\n",
       "        text-align: right;\n",
       "    }\n",
       "</style>\n",
       "<table border=\"1\" class=\"dataframe\">\n",
       "  <thead>\n",
       "    <tr style=\"text-align: right;\">\n",
       "      <th></th>\n",
       "      <th>age</th>\n",
       "      <th>demogweight</th>\n",
       "      <th>capital-gain</th>\n",
       "      <th>capital-loss</th>\n",
       "      <th>hours-per-week</th>\n",
       "      <th>workclass_?</th>\n",
       "      <th>workclass_Federal-gov</th>\n",
       "      <th>workclass_Local-gov</th>\n",
       "      <th>workclass_Never-worked</th>\n",
       "      <th>workclass_Private</th>\n",
       "      <th>...</th>\n",
       "      <th>native-country_Portugal</th>\n",
       "      <th>native-country_Puerto-Rico</th>\n",
       "      <th>native-country_Scotland</th>\n",
       "      <th>native-country_South</th>\n",
       "      <th>native-country_Taiwan</th>\n",
       "      <th>native-country_Thailand</th>\n",
       "      <th>native-country_Trinadad&amp;Tobago</th>\n",
       "      <th>native-country_United-States</th>\n",
       "      <th>native-country_Vietnam</th>\n",
       "      <th>native-country_Yugoslavia</th>\n",
       "    </tr>\n",
       "  </thead>\n",
       "  <tbody>\n",
       "    <tr>\n",
       "      <th>21752</th>\n",
       "      <td>41</td>\n",
       "      <td>194360</td>\n",
       "      <td>0</td>\n",
       "      <td>1887</td>\n",
       "      <td>40</td>\n",
       "      <td>0</td>\n",
       "      <td>0</td>\n",
       "      <td>0</td>\n",
       "      <td>0</td>\n",
       "      <td>1</td>\n",
       "      <td>...</td>\n",
       "      <td>0</td>\n",
       "      <td>0</td>\n",
       "      <td>0</td>\n",
       "      <td>0</td>\n",
       "      <td>0</td>\n",
       "      <td>0</td>\n",
       "      <td>0</td>\n",
       "      <td>1</td>\n",
       "      <td>0</td>\n",
       "      <td>0</td>\n",
       "    </tr>\n",
       "    <tr>\n",
       "      <th>7208</th>\n",
       "      <td>30</td>\n",
       "      <td>151773</td>\n",
       "      <td>0</td>\n",
       "      <td>0</td>\n",
       "      <td>40</td>\n",
       "      <td>0</td>\n",
       "      <td>0</td>\n",
       "      <td>0</td>\n",
       "      <td>0</td>\n",
       "      <td>1</td>\n",
       "      <td>...</td>\n",
       "      <td>0</td>\n",
       "      <td>0</td>\n",
       "      <td>0</td>\n",
       "      <td>0</td>\n",
       "      <td>0</td>\n",
       "      <td>0</td>\n",
       "      <td>0</td>\n",
       "      <td>1</td>\n",
       "      <td>0</td>\n",
       "      <td>0</td>\n",
       "    </tr>\n",
       "    <tr>\n",
       "      <th>17058</th>\n",
       "      <td>28</td>\n",
       "      <td>201954</td>\n",
       "      <td>0</td>\n",
       "      <td>0</td>\n",
       "      <td>65</td>\n",
       "      <td>0</td>\n",
       "      <td>0</td>\n",
       "      <td>0</td>\n",
       "      <td>0</td>\n",
       "      <td>1</td>\n",
       "      <td>...</td>\n",
       "      <td>0</td>\n",
       "      <td>0</td>\n",
       "      <td>0</td>\n",
       "      <td>0</td>\n",
       "      <td>0</td>\n",
       "      <td>0</td>\n",
       "      <td>0</td>\n",
       "      <td>1</td>\n",
       "      <td>0</td>\n",
       "      <td>0</td>\n",
       "    </tr>\n",
       "    <tr>\n",
       "      <th>20754</th>\n",
       "      <td>43</td>\n",
       "      <td>187778</td>\n",
       "      <td>0</td>\n",
       "      <td>0</td>\n",
       "      <td>20</td>\n",
       "      <td>0</td>\n",
       "      <td>0</td>\n",
       "      <td>0</td>\n",
       "      <td>0</td>\n",
       "      <td>0</td>\n",
       "      <td>...</td>\n",
       "      <td>0</td>\n",
       "      <td>0</td>\n",
       "      <td>0</td>\n",
       "      <td>0</td>\n",
       "      <td>0</td>\n",
       "      <td>0</td>\n",
       "      <td>0</td>\n",
       "      <td>1</td>\n",
       "      <td>0</td>\n",
       "      <td>0</td>\n",
       "    </tr>\n",
       "    <tr>\n",
       "      <th>22505</th>\n",
       "      <td>49</td>\n",
       "      <td>219021</td>\n",
       "      <td>0</td>\n",
       "      <td>0</td>\n",
       "      <td>48</td>\n",
       "      <td>0</td>\n",
       "      <td>0</td>\n",
       "      <td>1</td>\n",
       "      <td>0</td>\n",
       "      <td>0</td>\n",
       "      <td>...</td>\n",
       "      <td>0</td>\n",
       "      <td>0</td>\n",
       "      <td>0</td>\n",
       "      <td>0</td>\n",
       "      <td>0</td>\n",
       "      <td>0</td>\n",
       "      <td>0</td>\n",
       "      <td>1</td>\n",
       "      <td>0</td>\n",
       "      <td>0</td>\n",
       "    </tr>\n",
       "  </tbody>\n",
       "</table>\n",
       "<p>5 rows × 107 columns</p>\n",
       "</div>"
      ],
      "text/plain": [
       "       age  demogweight  capital-gain  capital-loss  hours-per-week  \\\n",
       "21752   41       194360             0          1887              40   \n",
       "7208    30       151773             0             0              40   \n",
       "17058   28       201954             0             0              65   \n",
       "20754   43       187778             0             0              20   \n",
       "22505   49       219021             0             0              48   \n",
       "\n",
       "       workclass_?  workclass_Federal-gov  workclass_Local-gov  \\\n",
       "21752            0                      0                    0   \n",
       "7208             0                      0                    0   \n",
       "17058            0                      0                    0   \n",
       "20754            0                      0                    0   \n",
       "22505            0                      0                    1   \n",
       "\n",
       "       workclass_Never-worked  workclass_Private  ...  \\\n",
       "21752                       0                  1  ...   \n",
       "7208                        0                  1  ...   \n",
       "17058                       0                  1  ...   \n",
       "20754                       0                  0  ...   \n",
       "22505                       0                  0  ...   \n",
       "\n",
       "       native-country_Portugal  native-country_Puerto-Rico  \\\n",
       "21752                        0                           0   \n",
       "7208                         0                           0   \n",
       "17058                        0                           0   \n",
       "20754                        0                           0   \n",
       "22505                        0                           0   \n",
       "\n",
       "       native-country_Scotland  native-country_South  native-country_Taiwan  \\\n",
       "21752                        0                     0                      0   \n",
       "7208                         0                     0                      0   \n",
       "17058                        0                     0                      0   \n",
       "20754                        0                     0                      0   \n",
       "22505                        0                     0                      0   \n",
       "\n",
       "       native-country_Thailand  native-country_Trinadad&Tobago  \\\n",
       "21752                        0                               0   \n",
       "7208                         0                               0   \n",
       "17058                        0                               0   \n",
       "20754                        0                               0   \n",
       "22505                        0                               0   \n",
       "\n",
       "       native-country_United-States  native-country_Vietnam  \\\n",
       "21752                             1                       0   \n",
       "7208                              1                       0   \n",
       "17058                             1                       0   \n",
       "20754                             1                       0   \n",
       "22505                             1                       0   \n",
       "\n",
       "       native-country_Yugoslavia  \n",
       "21752                          0  \n",
       "7208                           0  \n",
       "17058                          0  \n",
       "20754                          0  \n",
       "22505                          0  \n",
       "\n",
       "[5 rows x 107 columns]"
      ]
     },
     "execution_count": 166,
     "metadata": {},
     "output_type": "execute_result"
    }
   ],
   "source": [
    "X_val_pred.head()"
   ]
  },
  {
   "cell_type": "code",
   "execution_count": 167,
   "id": "03fe288f-8162-4d78-b9dd-a08ce1847bbb",
   "metadata": {},
   "outputs": [],
   "source": [
    "X_val_pred[\"Predicted_Income\"] = y_pred2"
   ]
  },
  {
   "cell_type": "code",
   "execution_count": 168,
   "id": "066cbb06-1110-4c38-ba7a-2c823986538a",
   "metadata": {},
   "outputs": [
    {
     "data": {
      "text/html": [
       "<div>\n",
       "<style scoped>\n",
       "    .dataframe tbody tr th:only-of-type {\n",
       "        vertical-align: middle;\n",
       "    }\n",
       "\n",
       "    .dataframe tbody tr th {\n",
       "        vertical-align: top;\n",
       "    }\n",
       "\n",
       "    .dataframe thead th {\n",
       "        text-align: right;\n",
       "    }\n",
       "</style>\n",
       "<table border=\"1\" class=\"dataframe\">\n",
       "  <thead>\n",
       "    <tr style=\"text-align: right;\">\n",
       "      <th></th>\n",
       "      <th>age</th>\n",
       "      <th>demogweight</th>\n",
       "      <th>capital-gain</th>\n",
       "      <th>capital-loss</th>\n",
       "      <th>hours-per-week</th>\n",
       "      <th>workclass_?</th>\n",
       "      <th>workclass_Federal-gov</th>\n",
       "      <th>workclass_Local-gov</th>\n",
       "      <th>workclass_Never-worked</th>\n",
       "      <th>workclass_Private</th>\n",
       "      <th>...</th>\n",
       "      <th>native-country_Puerto-Rico</th>\n",
       "      <th>native-country_Scotland</th>\n",
       "      <th>native-country_South</th>\n",
       "      <th>native-country_Taiwan</th>\n",
       "      <th>native-country_Thailand</th>\n",
       "      <th>native-country_Trinadad&amp;Tobago</th>\n",
       "      <th>native-country_United-States</th>\n",
       "      <th>native-country_Vietnam</th>\n",
       "      <th>native-country_Yugoslavia</th>\n",
       "      <th>Predicted_Income</th>\n",
       "    </tr>\n",
       "  </thead>\n",
       "  <tbody>\n",
       "    <tr>\n",
       "      <th>21752</th>\n",
       "      <td>41</td>\n",
       "      <td>194360</td>\n",
       "      <td>0</td>\n",
       "      <td>1887</td>\n",
       "      <td>40</td>\n",
       "      <td>0</td>\n",
       "      <td>0</td>\n",
       "      <td>0</td>\n",
       "      <td>0</td>\n",
       "      <td>1</td>\n",
       "      <td>...</td>\n",
       "      <td>0</td>\n",
       "      <td>0</td>\n",
       "      <td>0</td>\n",
       "      <td>0</td>\n",
       "      <td>0</td>\n",
       "      <td>0</td>\n",
       "      <td>1</td>\n",
       "      <td>0</td>\n",
       "      <td>0</td>\n",
       "      <td>1</td>\n",
       "    </tr>\n",
       "    <tr>\n",
       "      <th>7208</th>\n",
       "      <td>30</td>\n",
       "      <td>151773</td>\n",
       "      <td>0</td>\n",
       "      <td>0</td>\n",
       "      <td>40</td>\n",
       "      <td>0</td>\n",
       "      <td>0</td>\n",
       "      <td>0</td>\n",
       "      <td>0</td>\n",
       "      <td>1</td>\n",
       "      <td>...</td>\n",
       "      <td>0</td>\n",
       "      <td>0</td>\n",
       "      <td>0</td>\n",
       "      <td>0</td>\n",
       "      <td>0</td>\n",
       "      <td>0</td>\n",
       "      <td>1</td>\n",
       "      <td>0</td>\n",
       "      <td>0</td>\n",
       "      <td>0</td>\n",
       "    </tr>\n",
       "    <tr>\n",
       "      <th>17058</th>\n",
       "      <td>28</td>\n",
       "      <td>201954</td>\n",
       "      <td>0</td>\n",
       "      <td>0</td>\n",
       "      <td>65</td>\n",
       "      <td>0</td>\n",
       "      <td>0</td>\n",
       "      <td>0</td>\n",
       "      <td>0</td>\n",
       "      <td>1</td>\n",
       "      <td>...</td>\n",
       "      <td>0</td>\n",
       "      <td>0</td>\n",
       "      <td>0</td>\n",
       "      <td>0</td>\n",
       "      <td>0</td>\n",
       "      <td>0</td>\n",
       "      <td>1</td>\n",
       "      <td>0</td>\n",
       "      <td>0</td>\n",
       "      <td>0</td>\n",
       "    </tr>\n",
       "    <tr>\n",
       "      <th>20754</th>\n",
       "      <td>43</td>\n",
       "      <td>187778</td>\n",
       "      <td>0</td>\n",
       "      <td>0</td>\n",
       "      <td>20</td>\n",
       "      <td>0</td>\n",
       "      <td>0</td>\n",
       "      <td>0</td>\n",
       "      <td>0</td>\n",
       "      <td>0</td>\n",
       "      <td>...</td>\n",
       "      <td>0</td>\n",
       "      <td>0</td>\n",
       "      <td>0</td>\n",
       "      <td>0</td>\n",
       "      <td>0</td>\n",
       "      <td>0</td>\n",
       "      <td>1</td>\n",
       "      <td>0</td>\n",
       "      <td>0</td>\n",
       "      <td>0</td>\n",
       "    </tr>\n",
       "    <tr>\n",
       "      <th>22505</th>\n",
       "      <td>49</td>\n",
       "      <td>219021</td>\n",
       "      <td>0</td>\n",
       "      <td>0</td>\n",
       "      <td>48</td>\n",
       "      <td>0</td>\n",
       "      <td>0</td>\n",
       "      <td>1</td>\n",
       "      <td>0</td>\n",
       "      <td>0</td>\n",
       "      <td>...</td>\n",
       "      <td>0</td>\n",
       "      <td>0</td>\n",
       "      <td>0</td>\n",
       "      <td>0</td>\n",
       "      <td>0</td>\n",
       "      <td>0</td>\n",
       "      <td>1</td>\n",
       "      <td>0</td>\n",
       "      <td>0</td>\n",
       "      <td>0</td>\n",
       "    </tr>\n",
       "  </tbody>\n",
       "</table>\n",
       "<p>5 rows × 108 columns</p>\n",
       "</div>"
      ],
      "text/plain": [
       "       age  demogweight  capital-gain  capital-loss  hours-per-week  \\\n",
       "21752   41       194360             0          1887              40   \n",
       "7208    30       151773             0             0              40   \n",
       "17058   28       201954             0             0              65   \n",
       "20754   43       187778             0             0              20   \n",
       "22505   49       219021             0             0              48   \n",
       "\n",
       "       workclass_?  workclass_Federal-gov  workclass_Local-gov  \\\n",
       "21752            0                      0                    0   \n",
       "7208             0                      0                    0   \n",
       "17058            0                      0                    0   \n",
       "20754            0                      0                    0   \n",
       "22505            0                      0                    1   \n",
       "\n",
       "       workclass_Never-worked  workclass_Private  ...  \\\n",
       "21752                       0                  1  ...   \n",
       "7208                        0                  1  ...   \n",
       "17058                       0                  1  ...   \n",
       "20754                       0                  0  ...   \n",
       "22505                       0                  0  ...   \n",
       "\n",
       "       native-country_Puerto-Rico  native-country_Scotland  \\\n",
       "21752                           0                        0   \n",
       "7208                            0                        0   \n",
       "17058                           0                        0   \n",
       "20754                           0                        0   \n",
       "22505                           0                        0   \n",
       "\n",
       "       native-country_South  native-country_Taiwan  native-country_Thailand  \\\n",
       "21752                     0                      0                        0   \n",
       "7208                      0                      0                        0   \n",
       "17058                     0                      0                        0   \n",
       "20754                     0                      0                        0   \n",
       "22505                     0                      0                        0   \n",
       "\n",
       "       native-country_Trinadad&Tobago  native-country_United-States  \\\n",
       "21752                               0                             1   \n",
       "7208                                0                             1   \n",
       "17058                               0                             1   \n",
       "20754                               0                             1   \n",
       "22505                               0                             1   \n",
       "\n",
       "       native-country_Vietnam  native-country_Yugoslavia  Predicted_Income  \n",
       "21752                       0                          0                 1  \n",
       "7208                        0                          0                 0  \n",
       "17058                       0                          0                 0  \n",
       "20754                       0                          0                 0  \n",
       "22505                       0                          0                 0  \n",
       "\n",
       "[5 rows x 108 columns]"
      ]
     },
     "execution_count": 168,
     "metadata": {},
     "output_type": "execute_result"
    }
   ],
   "source": [
    "X_val_pred.head()"
   ]
  },
  {
   "cell_type": "code",
   "execution_count": 178,
   "id": "40f9cefa-5feb-4e81-8a9f-0de97db901a2",
   "metadata": {},
   "outputs": [],
   "source": [
    "df_wk_pred = X_val_pred[['workclass_?','workclass_Federal-gov','workclass_Local-gov','workclass_Never-worked','workclass_Private','workclass_Self-emp-inc','workclass_Self-emp-not-inc','workclass_State-gov','workclass_Without-pay']]\n",
    "df_wk_pred[\"Predicted_Income\"] = y_pred2"
   ]
  },
  {
   "cell_type": "code",
   "execution_count": 250,
   "id": "4d5366f4-741d-49a4-b007-ac562ad19aaf",
   "metadata": {},
   "outputs": [
    {
     "name": "stderr",
     "output_type": "stream",
     "text": [
      "\n",
      "A value is trying to be set on a copy of a slice from a DataFrame.\n",
      "Try using .loc[row_indexer,col_indexer] = value instead\n",
      "\n",
      "See the caveats in the documentation: https://pandas.pydata.org/pandas-docs/stable/user_guide/indexing.html#returning-a-view-versus-a-copy\n"
     ]
    }
   ],
   "source": [
    "df_edu_pred = X_val_pred[['education_10th','education_11th','education_12th','education_1st-4th','education_5th-6th','education_7th-8th','education_9th','education_Assoc-acdm','education_Assoc-voc','education_Bachelors','education_Doctorate','education_HS-grad','education_Masters','education_Preschool','education_Prof-school','education_Some-college',]]\n",
    "df_edu_pred[\"Predicted_Income\"] = y_pred2"
   ]
  },
  {
   "cell_type": "code",
   "execution_count": 251,
   "id": "5cd2ffc7-b134-4140-9f68-b08f3a207588",
   "metadata": {},
   "outputs": [
    {
     "data": {
      "image/png": "[encoded data removed]",
      "text/plain": [
       "<Figure size 1728x432 with 1 Axes>"
      ]
     },
     "metadata": {
      "needs_background": "light"
     },
     "output_type": "display_data"
    }
   ],
   "source": [
    "df_edu_pred2 = df_edu_pred.idxmax(axis=1)\n",
    "df_edu_pred = pd.DataFrame(df_edu_pred2,columns=[\"education\"])\n",
    "df_edu_pred[\"Predicted_Income\"] = y_pred2\n",
    "crosstab = pd.crosstab(df_edu_pred[\"education\"], df_edu_pred[\"Predicted_Income\"],normalize='index')\n",
    "crosstab.plot(kind=\"bar\", stacked=True, title=\"Predicted Income vs. Education\", alpha=0.5,figsize=(24,6))\n",
    "plt.xticks(rotation=60)\n",
    "plt.legend(loc=4)\n",
    "plt.show()"
   ]
  },
  {
   "cell_type": "code",
   "execution_count": 248,
   "id": "c12f0287-3edf-43a9-b9a4-054e2876a347",
   "metadata": {},
   "outputs": [
    {
     "name": "stderr",
     "output_type": "stream",
     "text": [
      "\n",
      "A value is trying to be set on a copy of a slice from a DataFrame.\n",
      "Try using .loc[row_indexer,col_indexer] = value instead\n",
      "\n",
      "See the caveats in the documentation: https://pandas.pydata.org/pandas-docs/stable/user_guide/indexing.html#returning-a-view-versus-a-copy\n"
     ]
    }
   ],
   "source": [
    "df_marry_pred = X_val_pred[['marital-status_Divorced','marital-status_Married-AF-spouse','marital-status_Married-civ-spouse','marital-status_Married-spouse-absent','marital-status_Never-married','marital-status_Separated','marital-status_Widowed',]]\n",
    "df_marry_pred[\"Predicted_Income\"] = y_pred2"
   ]
  },
  {
   "cell_type": "code",
   "execution_count": 249,
   "id": "a2c43ed2-d1d1-4a8c-a53a-756eb6416484",
   "metadata": {},
   "outputs": [
    {
     "data": {
      "image/png": "[encoded data removed]",
      "text/plain": [
       "<Figure size 1728x432 with 1 Axes>"
      ]
     },
     "metadata": {
      "needs_background": "light"
     },
     "output_type": "display_data"
    }
   ],
   "source": [
    "df_marry_pred2 = df_marry_pred.idxmax(axis=1)\n",
    "df_marry_pred = pd.DataFrame(df_marry_pred2,columns=[\"marital-status\"])\n",
    "df_marry_pred[\"Predicted_Income\"] = y_pred2\n",
    "crosstab = pd.crosstab(df_marry_pred[\"marital-status\"], df_marry_pred[\"Predicted_Income\"],normalize='index')\n",
    "crosstab.plot(kind=\"bar\", stacked=True, title=\"Predicted Income vs. Marital Status\", alpha=0.5,figsize=(24,6))\n",
    "plt.xticks(rotation=60)\n",
    "plt.legend(loc=4)\n",
    "plt.show()"
   ]
  },
  {
   "cell_type": "code",
   "execution_count": 252,
   "id": "566e3db5-73a4-48bb-9724-90966042d78e",
   "metadata": {},
   "outputs": [
    {
     "name": "stderr",
     "output_type": "stream",
     "text": [
      "\n",
      "A value is trying to be set on a copy of a slice from a DataFrame.\n",
      "Try using .loc[row_indexer,col_indexer] = value instead\n",
      "\n",
      "See the caveats in the documentation: https://pandas.pydata.org/pandas-docs/stable/user_guide/indexing.html#returning-a-view-versus-a-copy\n"
     ]
    }
   ],
   "source": [
    "df_occ_pred = X_val_pred[['occupation_?','occupation_Adm-clerical','occupation_Armed-Forces','occupation_Craft-repair','occupation_Exec-managerial','occupation_Farming-fishing','occupation_Handlers-cleaners','occupation_Machine-op-inspct','occupation_Other-service','occupation_Priv-house-serv','occupation_Prof-specialty','occupation_Protective-serv','occupation_Sales','occupation_Tech-support','occupation_Transport-moving']]\n",
    "df_occ_pred[\"Predicted_Income\"] = y_pred2"
   ]
  },
  {
   "cell_type": "code",
   "execution_count": 253,
   "id": "19235aa7-6496-493b-9d11-84d1d31621ed",
   "metadata": {},
   "outputs": [
    {
     "data": {
      "image/png": "[encoded data removed]",
      "text/plain": [
       "<Figure size 1728x432 with 1 Axes>"
      ]
     },
     "metadata": {
      "needs_background": "light"
     },
     "output_type": "display_data"
    }
   ],
   "source": [
    "df_occ_pred2 = df_occ_pred.idxmax(axis=1)\n",
    "df_occ_pred = pd.DataFrame(df_occ_pred2,columns=[\"occupation\"])\n",
    "df_occ_pred[\"Predicted_Income\"] = y_pred2\n",
    "crosstab = pd.crosstab(df_occ_pred[\"occupation\"], df_occ_pred[\"Predicted_Income\"],normalize='index')\n",
    "crosstab.plot(kind=\"bar\", stacked=True, title=\"Predicted Income vs. Occupation\", alpha=0.5,figsize=(24,6))\n",
    "plt.xticks(rotation=20)\n",
    "plt.legend(loc=4)\n",
    "plt.show()"
   ]
  },
  {
   "cell_type": "code",
   "execution_count": 254,
   "id": "bf4fc4de-352a-4c66-a642-d6fa7f21c5ed",
   "metadata": {},
   "outputs": [
    {
     "name": "stderr",
     "output_type": "stream",
     "text": [
      "\n",
      "A value is trying to be set on a copy of a slice from a DataFrame.\n",
      "Try using .loc[row_indexer,col_indexer] = value instead\n",
      "\n",
      "See the caveats in the documentation: https://pandas.pydata.org/pandas-docs/stable/user_guide/indexing.html#returning-a-view-versus-a-copy\n"
     ]
    }
   ],
   "source": [
    "df_race_pred = X_val_pred[['race_Amer-Indian-Eskimo','race_Asian-Pac-Islander','race_Black','race_Other','race_White']]\n",
    "df_race_pred[\"Predicted_Income\"] = y_pred2"
   ]
  },
  {
   "cell_type": "code",
   "execution_count": 256,
   "id": "5b3265a1-2bcc-4d25-85a1-f8c6dfa6172d",
   "metadata": {},
   "outputs": [
    {
     "name": "stderr",
     "output_type": "stream",
     "text": [
      "\n",
      "A value is trying to be set on a copy of a slice from a DataFrame.\n",
      "Try using .loc[row_indexer,col_indexer] = value instead\n",
      "\n",
      "See the caveats in the documentation: https://pandas.pydata.org/pandas-docs/stable/user_guide/indexing.html#returning-a-view-versus-a-copy\n"
     ]
    }
   ],
   "source": [
    "df_sex_pred = X_val_pred[['sex_Female','sex_Male']]\n",
    "df_sex_pred[\"Predicted_Income\"] = y_pred2"
   ]
  },
  {
   "cell_type": "code",
   "execution_count": 259,
   "id": "969b3a45-d827-4ecd-bcc3-f473b6d77ff7",
   "metadata": {},
   "outputs": [
    {
     "name": "stderr",
     "output_type": "stream",
     "text": [
      "\n",
      "A value is trying to be set on a copy of a slice from a DataFrame.\n",
      "Try using .loc[row_indexer,col_indexer] = value instead\n",
      "\n",
      "See the caveats in the documentation: https://pandas.pydata.org/pandas-docs/stable/user_guide/indexing.html#returning-a-view-versus-a-copy\n"
     ]
    }
   ],
   "source": [
    "df_nat_pred = X_val_pred[['native-country_?','native-country_Cambodia','native-country_Canada','native-country_China','native-country_Columbia','native-country_Cuba','native-country_Dominican-Republic','native-country_Ecuador','native-country_El-Salvador','native-country_England','native-country_France','native-country_Germany','native-country_Greece','native-country_Guatemala','native-country_Haiti','native-country_Holand-Netherlands','native-country_Honduras','native-country_Hong','native-country_Hungary','native-country_India','native-country_Iran','native-country_Ireland','native-country_Italy','native-country_Jamaica','native-country_Japan','native-country_Laos','native-country_Mexico','native-country_Nicaragua','native-country_Outlying-US(Guam-USVI-etc)','native-country_Peru','native-country_Philippines','native-country_Poland','native-country_Portugal','native-country_Puerto-Rico','native-country_Scotland','native-country_South','native-country_Taiwan','native-country_Thailand','native-country_Trinadad&Tobago','native-country_United-States','native-country_Vietnam','native-country_Yugoslavia']]\n",
    "df_nat_pred[\"Predicted_Income\"] = y_pred2"
   ]
  },
  {
   "cell_type": "code",
   "execution_count": 341,
   "id": "cfc7c8ec-29a6-4264-b1f1-751e4fbde7b2",
   "metadata": {},
   "outputs": [
    {
     "data": {
      "text/plain": [
       "<AxesSubplot:>"
      ]
     },
     "execution_count": 341,
     "metadata": {},
     "output_type": "execute_result"
    },
    {
     "data": {
      "image/png": "[encoded data removed]",
      "text/plain": [
       "<Figure size 432x288 with 1 Axes>"
      ]
     },
     "metadata": {
      "needs_background": "light"
     },
     "output_type": "display_data"
    }
   ],
   "source": [
    "# equal-size binning\n",
    "X_val_pred['age_bin1'] = X_val_pred['age']\n",
    "X_val_pred.loc[X_val_pred['age_bin1'] <= 20, 'age_bin1'] = 1\n",
    "X_val_pred.loc[(X_val_pred['age_bin1'] > 20) & (X_val_pred['age_bin1'] <= 30), 'age_bin1'] = 2\n",
    "X_val_pred.loc[(X_val_pred['age_bin1'] > 30) & (X_val_pred['age_bin1'] <= 40), 'age_bin1'] = 3\n",
    "X_val_pred.loc[(X_val_pred['age_bin1'] > 40) & (X_val_pred['age_bin1'] <= 50), 'age_bin1'] = 4\n",
    "X_val_pred.loc[(X_val_pred['age_bin1'] > 50) & (X_val_pred['age_bin1'] <= 60), 'age_bin1'] = 5\n",
    "X_val_pred.loc[(X_val_pred['age_bin1'] > 60) & (X_val_pred['age_bin1'] <= 70), 'age_bin1'] = 6\n",
    "X_val_pred.loc[(X_val_pred['age_bin1'] > 70) & (X_val_pred['age_bin1'] <= 80), 'age_bin1'] = 7\n",
    "X_val_pred.loc[(X_val_pred['age_bin1'] > 80), 'age_bin1'] = 8\n",
    "X_val_pred[\"age_bin1\"].hist()"
   ]
  },
  {
   "cell_type": "code",
   "execution_count": 342,
   "id": "e078cbaa-f140-43c6-9b65-7f9a66d76fd8",
   "metadata": {},
   "outputs": [
    {
     "data": {
      "image/png": "[encoded data removed]",
      "text/plain": [
       "<Figure size 1728x432 with 1 Axes>"
      ]
     },
     "metadata": {
      "needs_background": "light"
     },
     "output_type": "display_data"
    }
   ],
   "source": [
    "crosstab = pd.crosstab(X_val_pred[\"age_bin1\"], X_val_pred[\"Predicted_Income\"],normalize='index')\n",
    "crosstab.plot(kind=\"bar\", stacked=True, title=\"Predicted Income vs. Age\", alpha=0.5,figsize=(24,6))\n",
    "plt.xticks(rotation=0)\n",
    "plt.legend(loc=4)\n",
    "plt.show()"
   ]
  },
  {
   "cell_type": "code",
   "execution_count": 346,
   "id": "2561d5b0-c935-4c9f-80b9-5b81fa176245",
   "metadata": {},
   "outputs": [
    {
     "data": {
      "text/plain": [
       "<AxesSubplot:>"
      ]
     },
     "execution_count": 346,
     "metadata": {},
     "output_type": "execute_result"
    },
    {
     "data": {
      "image/png": "[encoded data removed]",
      "text/plain": [
       "<Figure size 432x288 with 1 Axes>"
      ]
     },
     "metadata": {
      "needs_background": "light"
     },
     "output_type": "display_data"
    }
   ],
   "source": [
    "X_val_pred['demogweight_bin1'] = X_val_pred['demogweight']\n",
    "X_val_pred.loc[X_val_pred['demogweight_bin1'] <= 120000, 'demogweight_bin1'] = 1\n",
    "X_val_pred.loc[(X_val_pred['demogweight_bin1'] > 120000) & (X_val_pred['demogweight_bin1'] <= 140000), 'demogweight_bin1'] = 2\n",
    "X_val_pred.loc[(X_val_pred['demogweight_bin1'] > 140000) & (X_val_pred['demogweight_bin1'] <= 160000), 'demogweight_bin1'] = 3\n",
    "X_val_pred.loc[(X_val_pred['demogweight_bin1'] > 160000) & (X_val_pred['demogweight_bin1'] <= 180000), 'demogweight_bin1'] = 4\n",
    "X_val_pred.loc[(X_val_pred['demogweight_bin1'] > 180000) & (X_val_pred['demogweight_bin1'] <= 200000), 'demogweight_bin1'] = 5\n",
    "X_val_pred.loc[(X_val_pred['demogweight_bin1'] > 200000), 'demogweight_bin1'] = 6\n",
    "X_val_pred[\"demogweight_bin1\"].hist()"
   ]
  },
  {
   "cell_type": "code",
   "execution_count": 348,
   "id": "85591cce-6118-4848-8312-db6c9d07002f",
   "metadata": {},
   "outputs": [
    {
     "data": {
      "image/png": "[encoded data removed]",
      "text/plain": [
       "<Figure size 1728x432 with 1 Axes>"
      ]
     },
     "metadata": {
      "needs_background": "light"
     },
     "output_type": "display_data"
    }
   ],
   "source": [
    "crosstab = pd.crosstab(X_val_pred[\"demogweight_bin1\"], X_val_pred[\"Predicted_Income\"],normalize='index')\n",
    "crosstab.plot(kind=\"bar\", stacked=True, title=\"Predicted Income vs. demogweight bins\", alpha=0.5,figsize=(24,6))\n",
    "plt.xticks(rotation=0)\n",
    "plt.legend(loc=4)\n",
    "plt.show()"
   ]
  },
  {
   "cell_type": "code",
   "execution_count": 265,
   "id": "a1d662b6-5af5-4a80-90b5-c7e297ed39d1",
   "metadata": {},
   "outputs": [],
   "source": [
    "misclassified = [i for i in range(len(y_pred_label2)) if y_pred_label2[i] != list(y_val)[i]]"
   ]
  },
  {
   "cell_type": "code",
   "execution_count": 266,
   "id": "4cf2b2aa-7ac6-4f96-80f5-85aca480b4c5",
   "metadata": {},
   "outputs": [],
   "source": [
    "mis_df = pd.DataFrame(scaled_X_val[misclassified],columns=X_train.columns)"
   ]
  },
  {
   "cell_type": "code",
   "execution_count": 267,
   "id": "a8629ad7-8baf-4f91-ac33-02acd4a7203a",
   "metadata": {},
   "outputs": [
    {
     "data": {
      "text/html": [
       "<div>\n",
       "<style scoped>\n",
       "    .dataframe tbody tr th:only-of-type {\n",
       "        vertical-align: middle;\n",
       "    }\n",
       "\n",
       "    .dataframe tbody tr th {\n",
       "        vertical-align: top;\n",
       "    }\n",
       "\n",
       "    .dataframe thead th {\n",
       "        text-align: right;\n",
       "    }\n",
       "</style>\n",
       "<table border=\"1\" class=\"dataframe\">\n",
       "  <thead>\n",
       "    <tr style=\"text-align: right;\">\n",
       "      <th></th>\n",
       "      <th>age</th>\n",
       "      <th>demogweight</th>\n",
       "      <th>capital-gain</th>\n",
       "      <th>capital-loss</th>\n",
       "      <th>hours-per-week</th>\n",
       "      <th>workclass_?</th>\n",
       "      <th>workclass_Federal-gov</th>\n",
       "      <th>workclass_Local-gov</th>\n",
       "      <th>workclass_Never-worked</th>\n",
       "      <th>workclass_Private</th>\n",
       "      <th>...</th>\n",
       "      <th>native-country_Portugal</th>\n",
       "      <th>native-country_Puerto-Rico</th>\n",
       "      <th>native-country_Scotland</th>\n",
       "      <th>native-country_South</th>\n",
       "      <th>native-country_Taiwan</th>\n",
       "      <th>native-country_Thailand</th>\n",
       "      <th>native-country_Trinadad&amp;Tobago</th>\n",
       "      <th>native-country_United-States</th>\n",
       "      <th>native-country_Vietnam</th>\n",
       "      <th>native-country_Yugoslavia</th>\n",
       "    </tr>\n",
       "  </thead>\n",
       "  <tbody>\n",
       "    <tr>\n",
       "      <th>0</th>\n",
       "      <td>0.178082</td>\n",
       "      <td>0.090694</td>\n",
       "      <td>0.0</td>\n",
       "      <td>0.0</td>\n",
       "      <td>0.397959</td>\n",
       "      <td>0.0</td>\n",
       "      <td>0.0</td>\n",
       "      <td>0.0</td>\n",
       "      <td>0.0</td>\n",
       "      <td>1.0</td>\n",
       "      <td>...</td>\n",
       "      <td>0.0</td>\n",
       "      <td>0.0</td>\n",
       "      <td>0.0</td>\n",
       "      <td>0.0</td>\n",
       "      <td>0.0</td>\n",
       "      <td>0.0</td>\n",
       "      <td>0.0</td>\n",
       "      <td>1.0</td>\n",
       "      <td>0.0</td>\n",
       "      <td>0.0</td>\n",
       "    </tr>\n",
       "    <tr>\n",
       "      <th>1</th>\n",
       "      <td>0.150685</td>\n",
       "      <td>0.124926</td>\n",
       "      <td>0.0</td>\n",
       "      <td>0.0</td>\n",
       "      <td>0.653061</td>\n",
       "      <td>0.0</td>\n",
       "      <td>0.0</td>\n",
       "      <td>0.0</td>\n",
       "      <td>0.0</td>\n",
       "      <td>1.0</td>\n",
       "      <td>...</td>\n",
       "      <td>0.0</td>\n",
       "      <td>0.0</td>\n",
       "      <td>0.0</td>\n",
       "      <td>0.0</td>\n",
       "      <td>0.0</td>\n",
       "      <td>0.0</td>\n",
       "      <td>0.0</td>\n",
       "      <td>1.0</td>\n",
       "      <td>0.0</td>\n",
       "      <td>0.0</td>\n",
       "    </tr>\n",
       "    <tr>\n",
       "      <th>2</th>\n",
       "      <td>0.438356</td>\n",
       "      <td>0.136569</td>\n",
       "      <td>0.0</td>\n",
       "      <td>0.0</td>\n",
       "      <td>0.479592</td>\n",
       "      <td>0.0</td>\n",
       "      <td>0.0</td>\n",
       "      <td>1.0</td>\n",
       "      <td>0.0</td>\n",
       "      <td>0.0</td>\n",
       "      <td>...</td>\n",
       "      <td>0.0</td>\n",
       "      <td>0.0</td>\n",
       "      <td>0.0</td>\n",
       "      <td>0.0</td>\n",
       "      <td>0.0</td>\n",
       "      <td>0.0</td>\n",
       "      <td>0.0</td>\n",
       "      <td>1.0</td>\n",
       "      <td>0.0</td>\n",
       "      <td>0.0</td>\n",
       "    </tr>\n",
       "    <tr>\n",
       "      <th>3</th>\n",
       "      <td>0.356164</td>\n",
       "      <td>0.120922</td>\n",
       "      <td>0.0</td>\n",
       "      <td>0.0</td>\n",
       "      <td>0.551020</td>\n",
       "      <td>0.0</td>\n",
       "      <td>0.0</td>\n",
       "      <td>0.0</td>\n",
       "      <td>0.0</td>\n",
       "      <td>1.0</td>\n",
       "      <td>...</td>\n",
       "      <td>0.0</td>\n",
       "      <td>0.0</td>\n",
       "      <td>0.0</td>\n",
       "      <td>0.0</td>\n",
       "      <td>0.0</td>\n",
       "      <td>0.0</td>\n",
       "      <td>0.0</td>\n",
       "      <td>1.0</td>\n",
       "      <td>0.0</td>\n",
       "      <td>0.0</td>\n",
       "    </tr>\n",
       "    <tr>\n",
       "      <th>4</th>\n",
       "      <td>0.301370</td>\n",
       "      <td>0.202871</td>\n",
       "      <td>0.0</td>\n",
       "      <td>0.0</td>\n",
       "      <td>0.397959</td>\n",
       "      <td>0.0</td>\n",
       "      <td>0.0</td>\n",
       "      <td>0.0</td>\n",
       "      <td>0.0</td>\n",
       "      <td>1.0</td>\n",
       "      <td>...</td>\n",
       "      <td>0.0</td>\n",
       "      <td>0.0</td>\n",
       "      <td>0.0</td>\n",
       "      <td>0.0</td>\n",
       "      <td>0.0</td>\n",
       "      <td>0.0</td>\n",
       "      <td>0.0</td>\n",
       "      <td>1.0</td>\n",
       "      <td>0.0</td>\n",
       "      <td>0.0</td>\n",
       "    </tr>\n",
       "  </tbody>\n",
       "</table>\n",
       "<p>5 rows × 107 columns</p>\n",
       "</div>"
      ],
      "text/plain": [
       "        age  demogweight  capital-gain  capital-loss  hours-per-week  \\\n",
       "0  0.178082     0.090694           0.0           0.0        0.397959   \n",
       "1  0.150685     0.124926           0.0           0.0        0.653061   \n",
       "2  0.438356     0.136569           0.0           0.0        0.479592   \n",
       "3  0.356164     0.120922           0.0           0.0        0.551020   \n",
       "4  0.301370     0.202871           0.0           0.0        0.397959   \n",
       "\n",
       "   workclass_?  workclass_Federal-gov  workclass_Local-gov  \\\n",
       "0          0.0                    0.0                  0.0   \n",
       "1          0.0                    0.0                  0.0   \n",
       "2          0.0                    0.0                  1.0   \n",
       "3          0.0                    0.0                  0.0   \n",
       "4          0.0                    0.0                  0.0   \n",
       "\n",
       "   workclass_Never-worked  workclass_Private  ...  native-country_Portugal  \\\n",
       "0                     0.0                1.0  ...                      0.0   \n",
       "1                     0.0                1.0  ...                      0.0   \n",
       "2                     0.0                0.0  ...                      0.0   \n",
       "3                     0.0                1.0  ...                      0.0   \n",
       "4                     0.0                1.0  ...                      0.0   \n",
       "\n",
       "   native-country_Puerto-Rico  native-country_Scotland  native-country_South  \\\n",
       "0                         0.0                      0.0                   0.0   \n",
       "1                         0.0                      0.0                   0.0   \n",
       "2                         0.0                      0.0                   0.0   \n",
       "3                         0.0                      0.0                   0.0   \n",
       "4                         0.0                      0.0                   0.0   \n",
       "\n",
       "   native-country_Taiwan  native-country_Thailand  \\\n",
       "0                    0.0                      0.0   \n",
       "1                    0.0                      0.0   \n",
       "2                    0.0                      0.0   \n",
       "3                    0.0                      0.0   \n",
       "4                    0.0                      0.0   \n",
       "\n",
       "   native-country_Trinadad&Tobago  native-country_United-States  \\\n",
       "0                             0.0                           1.0   \n",
       "1                             0.0                           1.0   \n",
       "2                             0.0                           1.0   \n",
       "3                             0.0                           1.0   \n",
       "4                             0.0                           1.0   \n",
       "\n",
       "   native-country_Vietnam  native-country_Yugoslavia  \n",
       "0                     0.0                        0.0  \n",
       "1                     0.0                        0.0  \n",
       "2                     0.0                        0.0  \n",
       "3                     0.0                        0.0  \n",
       "4                     0.0                        0.0  \n",
       "\n",
       "[5 rows x 107 columns]"
      ]
     },
     "execution_count": 267,
     "metadata": {},
     "output_type": "execute_result"
    }
   ],
   "source": [
    "mis_df.head()"
   ]
  },
  {
   "cell_type": "code",
   "execution_count": 268,
   "id": "a6669ce3-6c4f-4198-ba4d-bd6e4b44a7be",
   "metadata": {},
   "outputs": [],
   "source": [
    "mis_df[\"true_label\"] = np.array(y_val)[misclassified]"
   ]
  },
  {
   "cell_type": "code",
   "execution_count": 269,
   "id": "3976aa11-d4e4-420b-9f78-780a6bc2d9e3",
   "metadata": {},
   "outputs": [
    {
     "data": {
      "text/html": [
       "<div>\n",
       "<style scoped>\n",
       "    .dataframe tbody tr th:only-of-type {\n",
       "        vertical-align: middle;\n",
       "    }\n",
       "\n",
       "    .dataframe tbody tr th {\n",
       "        vertical-align: top;\n",
       "    }\n",
       "\n",
       "    .dataframe thead th {\n",
       "        text-align: right;\n",
       "    }\n",
       "</style>\n",
       "<table border=\"1\" class=\"dataframe\">\n",
       "  <thead>\n",
       "    <tr style=\"text-align: right;\">\n",
       "      <th></th>\n",
       "      <th>age</th>\n",
       "      <th>demogweight</th>\n",
       "      <th>capital-gain</th>\n",
       "      <th>capital-loss</th>\n",
       "      <th>hours-per-week</th>\n",
       "      <th>workclass_?</th>\n",
       "      <th>workclass_Federal-gov</th>\n",
       "      <th>workclass_Local-gov</th>\n",
       "      <th>workclass_Never-worked</th>\n",
       "      <th>workclass_Private</th>\n",
       "      <th>...</th>\n",
       "      <th>native-country_Puerto-Rico</th>\n",
       "      <th>native-country_Scotland</th>\n",
       "      <th>native-country_South</th>\n",
       "      <th>native-country_Taiwan</th>\n",
       "      <th>native-country_Thailand</th>\n",
       "      <th>native-country_Trinadad&amp;Tobago</th>\n",
       "      <th>native-country_United-States</th>\n",
       "      <th>native-country_Vietnam</th>\n",
       "      <th>native-country_Yugoslavia</th>\n",
       "      <th>true_label</th>\n",
       "    </tr>\n",
       "  </thead>\n",
       "  <tbody>\n",
       "    <tr>\n",
       "      <th>0</th>\n",
       "      <td>0.178082</td>\n",
       "      <td>0.090694</td>\n",
       "      <td>0.0</td>\n",
       "      <td>0.0</td>\n",
       "      <td>0.397959</td>\n",
       "      <td>0.0</td>\n",
       "      <td>0.0</td>\n",
       "      <td>0.0</td>\n",
       "      <td>0.0</td>\n",
       "      <td>1.0</td>\n",
       "      <td>...</td>\n",
       "      <td>0.0</td>\n",
       "      <td>0.0</td>\n",
       "      <td>0.0</td>\n",
       "      <td>0.0</td>\n",
       "      <td>0.0</td>\n",
       "      <td>0.0</td>\n",
       "      <td>1.0</td>\n",
       "      <td>0.0</td>\n",
       "      <td>0.0</td>\n",
       "      <td>1</td>\n",
       "    </tr>\n",
       "    <tr>\n",
       "      <th>1</th>\n",
       "      <td>0.150685</td>\n",
       "      <td>0.124926</td>\n",
       "      <td>0.0</td>\n",
       "      <td>0.0</td>\n",
       "      <td>0.653061</td>\n",
       "      <td>0.0</td>\n",
       "      <td>0.0</td>\n",
       "      <td>0.0</td>\n",
       "      <td>0.0</td>\n",
       "      <td>1.0</td>\n",
       "      <td>...</td>\n",
       "      <td>0.0</td>\n",
       "      <td>0.0</td>\n",
       "      <td>0.0</td>\n",
       "      <td>0.0</td>\n",
       "      <td>0.0</td>\n",
       "      <td>0.0</td>\n",
       "      <td>1.0</td>\n",
       "      <td>0.0</td>\n",
       "      <td>0.0</td>\n",
       "      <td>1</td>\n",
       "    </tr>\n",
       "    <tr>\n",
       "      <th>2</th>\n",
       "      <td>0.438356</td>\n",
       "      <td>0.136569</td>\n",
       "      <td>0.0</td>\n",
       "      <td>0.0</td>\n",
       "      <td>0.479592</td>\n",
       "      <td>0.0</td>\n",
       "      <td>0.0</td>\n",
       "      <td>1.0</td>\n",
       "      <td>0.0</td>\n",
       "      <td>0.0</td>\n",
       "      <td>...</td>\n",
       "      <td>0.0</td>\n",
       "      <td>0.0</td>\n",
       "      <td>0.0</td>\n",
       "      <td>0.0</td>\n",
       "      <td>0.0</td>\n",
       "      <td>0.0</td>\n",
       "      <td>1.0</td>\n",
       "      <td>0.0</td>\n",
       "      <td>0.0</td>\n",
       "      <td>1</td>\n",
       "    </tr>\n",
       "    <tr>\n",
       "      <th>3</th>\n",
       "      <td>0.356164</td>\n",
       "      <td>0.120922</td>\n",
       "      <td>0.0</td>\n",
       "      <td>0.0</td>\n",
       "      <td>0.551020</td>\n",
       "      <td>0.0</td>\n",
       "      <td>0.0</td>\n",
       "      <td>0.0</td>\n",
       "      <td>0.0</td>\n",
       "      <td>1.0</td>\n",
       "      <td>...</td>\n",
       "      <td>0.0</td>\n",
       "      <td>0.0</td>\n",
       "      <td>0.0</td>\n",
       "      <td>0.0</td>\n",
       "      <td>0.0</td>\n",
       "      <td>0.0</td>\n",
       "      <td>1.0</td>\n",
       "      <td>0.0</td>\n",
       "      <td>0.0</td>\n",
       "      <td>0</td>\n",
       "    </tr>\n",
       "    <tr>\n",
       "      <th>4</th>\n",
       "      <td>0.301370</td>\n",
       "      <td>0.202871</td>\n",
       "      <td>0.0</td>\n",
       "      <td>0.0</td>\n",
       "      <td>0.397959</td>\n",
       "      <td>0.0</td>\n",
       "      <td>0.0</td>\n",
       "      <td>0.0</td>\n",
       "      <td>0.0</td>\n",
       "      <td>1.0</td>\n",
       "      <td>...</td>\n",
       "      <td>0.0</td>\n",
       "      <td>0.0</td>\n",
       "      <td>0.0</td>\n",
       "      <td>0.0</td>\n",
       "      <td>0.0</td>\n",
       "      <td>0.0</td>\n",
       "      <td>1.0</td>\n",
       "      <td>0.0</td>\n",
       "      <td>0.0</td>\n",
       "      <td>1</td>\n",
       "    </tr>\n",
       "  </tbody>\n",
       "</table>\n",
       "<p>5 rows × 108 columns</p>\n",
       "</div>"
      ],
      "text/plain": [
       "        age  demogweight  capital-gain  capital-loss  hours-per-week  \\\n",
       "0  0.178082     0.090694           0.0           0.0        0.397959   \n",
       "1  0.150685     0.124926           0.0           0.0        0.653061   \n",
       "2  0.438356     0.136569           0.0           0.0        0.479592   \n",
       "3  0.356164     0.120922           0.0           0.0        0.551020   \n",
       "4  0.301370     0.202871           0.0           0.0        0.397959   \n",
       "\n",
       "   workclass_?  workclass_Federal-gov  workclass_Local-gov  \\\n",
       "0          0.0                    0.0                  0.0   \n",
       "1          0.0                    0.0                  0.0   \n",
       "2          0.0                    0.0                  1.0   \n",
       "3          0.0                    0.0                  0.0   \n",
       "4          0.0                    0.0                  0.0   \n",
       "\n",
       "   workclass_Never-worked  workclass_Private  ...  native-country_Puerto-Rico  \\\n",
       "0                     0.0                1.0  ...                         0.0   \n",
       "1                     0.0                1.0  ...                         0.0   \n",
       "2                     0.0                0.0  ...                         0.0   \n",
       "3                     0.0                1.0  ...                         0.0   \n",
       "4                     0.0                1.0  ...                         0.0   \n",
       "\n",
       "   native-country_Scotland  native-country_South  native-country_Taiwan  \\\n",
       "0                      0.0                   0.0                    0.0   \n",
       "1                      0.0                   0.0                    0.0   \n",
       "2                      0.0                   0.0                    0.0   \n",
       "3                      0.0                   0.0                    0.0   \n",
       "4                      0.0                   0.0                    0.0   \n",
       "\n",
       "   native-country_Thailand  native-country_Trinadad&Tobago  \\\n",
       "0                      0.0                             0.0   \n",
       "1                      0.0                             0.0   \n",
       "2                      0.0                             0.0   \n",
       "3                      0.0                             0.0   \n",
       "4                      0.0                             0.0   \n",
       "\n",
       "   native-country_United-States  native-country_Vietnam  \\\n",
       "0                           1.0                     0.0   \n",
       "1                           1.0                     0.0   \n",
       "2                           1.0                     0.0   \n",
       "3                           1.0                     0.0   \n",
       "4                           1.0                     0.0   \n",
       "\n",
       "   native-country_Yugoslavia  true_label  \n",
       "0                        0.0           1  \n",
       "1                        0.0           1  \n",
       "2                        0.0           1  \n",
       "3                        0.0           0  \n",
       "4                        0.0           1  \n",
       "\n",
       "[5 rows x 108 columns]"
      ]
     },
     "execution_count": 269,
     "metadata": {},
     "output_type": "execute_result"
    }
   ],
   "source": [
    "mis_df.head()"
   ]
  },
  {
   "cell_type": "code",
   "execution_count": 270,
   "id": "85f3f095-0045-4320-a215-b9e55f4f8bf6",
   "metadata": {},
   "outputs": [
    {
     "data": {
      "text/plain": [
       "1    469\n",
       "0    296\n",
       "Name: true_label, dtype: int64"
      ]
     },
     "execution_count": 270,
     "metadata": {},
     "output_type": "execute_result"
    }
   ],
   "source": [
    "mis_df[\"true_label\"].value_counts()"
   ]
  },
  {
   "cell_type": "code",
   "execution_count": 271,
   "id": "4792d33d-7b69-4e8f-a494-6e5eeee4e5ac",
   "metadata": {},
   "outputs": [],
   "source": [
    "mis_df_0 = mis_df[mis_df[\"true_label\"]==0]"
   ]
  },
  {
   "cell_type": "code",
   "execution_count": 272,
   "id": "6b3db6ed-b6d2-48ba-8961-d7046e762687",
   "metadata": {},
   "outputs": [],
   "source": [
    "mis_df_1 = mis_df[mis_df[\"true_label\"]==1]"
   ]
  },
  {
   "cell_type": "code",
   "execution_count": 273,
   "id": "644c45bf-e677-4659-9b69-738569b251b4",
   "metadata": {},
   "outputs": [
    {
     "data": {
      "text/html": [
       "<div>\n",
       "<style scoped>\n",
       "    .dataframe tbody tr th:only-of-type {\n",
       "        vertical-align: middle;\n",
       "    }\n",
       "\n",
       "    .dataframe tbody tr th {\n",
       "        vertical-align: top;\n",
       "    }\n",
       "\n",
       "    .dataframe thead th {\n",
       "        text-align: right;\n",
       "    }\n",
       "</style>\n",
       "<table border=\"1\" class=\"dataframe\">\n",
       "  <thead>\n",
       "    <tr style=\"text-align: right;\">\n",
       "      <th></th>\n",
       "      <th>age</th>\n",
       "      <th>demogweight</th>\n",
       "      <th>capital-gain</th>\n",
       "      <th>capital-loss</th>\n",
       "      <th>hours-per-week</th>\n",
       "      <th>workclass_?</th>\n",
       "      <th>workclass_Federal-gov</th>\n",
       "      <th>workclass_Local-gov</th>\n",
       "      <th>workclass_Never-worked</th>\n",
       "      <th>workclass_Private</th>\n",
       "      <th>...</th>\n",
       "      <th>native-country_Puerto-Rico</th>\n",
       "      <th>native-country_Scotland</th>\n",
       "      <th>native-country_South</th>\n",
       "      <th>native-country_Taiwan</th>\n",
       "      <th>native-country_Thailand</th>\n",
       "      <th>native-country_Trinadad&amp;Tobago</th>\n",
       "      <th>native-country_United-States</th>\n",
       "      <th>native-country_Vietnam</th>\n",
       "      <th>native-country_Yugoslavia</th>\n",
       "      <th>true_label</th>\n",
       "    </tr>\n",
       "  </thead>\n",
       "  <tbody>\n",
       "    <tr>\n",
       "      <th>count</th>\n",
       "      <td>296.000000</td>\n",
       "      <td>296.000000</td>\n",
       "      <td>296.000000</td>\n",
       "      <td>296.000000</td>\n",
       "      <td>296.000000</td>\n",
       "      <td>296.000000</td>\n",
       "      <td>296.000000</td>\n",
       "      <td>296.000000</td>\n",
       "      <td>296.0</td>\n",
       "      <td>296.000000</td>\n",
       "      <td>...</td>\n",
       "      <td>296.000000</td>\n",
       "      <td>296.0</td>\n",
       "      <td>296.0</td>\n",
       "      <td>296.000000</td>\n",
       "      <td>296.0</td>\n",
       "      <td>296.0</td>\n",
       "      <td>296.000000</td>\n",
       "      <td>296.0</td>\n",
       "      <td>296.000000</td>\n",
       "      <td>296.0</td>\n",
       "    </tr>\n",
       "    <tr>\n",
       "      <th>mean</th>\n",
       "      <td>0.371529</td>\n",
       "      <td>0.120471</td>\n",
       "      <td>0.003487</td>\n",
       "      <td>0.048767</td>\n",
       "      <td>0.448359</td>\n",
       "      <td>0.016892</td>\n",
       "      <td>0.040541</td>\n",
       "      <td>0.121622</td>\n",
       "      <td>0.0</td>\n",
       "      <td>0.658784</td>\n",
       "      <td>...</td>\n",
       "      <td>0.003378</td>\n",
       "      <td>0.0</td>\n",
       "      <td>0.0</td>\n",
       "      <td>0.006757</td>\n",
       "      <td>0.0</td>\n",
       "      <td>0.0</td>\n",
       "      <td>0.885135</td>\n",
       "      <td>0.0</td>\n",
       "      <td>0.003378</td>\n",
       "      <td>0.0</td>\n",
       "    </tr>\n",
       "    <tr>\n",
       "      <th>std</th>\n",
       "      <td>0.180267</td>\n",
       "      <td>0.067389</td>\n",
       "      <td>0.011680</td>\n",
       "      <td>0.139489</td>\n",
       "      <td>0.117745</td>\n",
       "      <td>0.129085</td>\n",
       "      <td>0.197557</td>\n",
       "      <td>0.327402</td>\n",
       "      <td>0.0</td>\n",
       "      <td>0.474921</td>\n",
       "      <td>...</td>\n",
       "      <td>0.058124</td>\n",
       "      <td>0.0</td>\n",
       "      <td>0.0</td>\n",
       "      <td>0.082060</td>\n",
       "      <td>0.0</td>\n",
       "      <td>0.0</td>\n",
       "      <td>0.319399</td>\n",
       "      <td>0.0</td>\n",
       "      <td>0.058124</td>\n",
       "      <td>0.0</td>\n",
       "    </tr>\n",
       "    <tr>\n",
       "      <th>min</th>\n",
       "      <td>0.054795</td>\n",
       "      <td>0.002332</td>\n",
       "      <td>0.000000</td>\n",
       "      <td>0.000000</td>\n",
       "      <td>0.020408</td>\n",
       "      <td>0.000000</td>\n",
       "      <td>0.000000</td>\n",
       "      <td>0.000000</td>\n",
       "      <td>0.0</td>\n",
       "      <td>0.000000</td>\n",
       "      <td>...</td>\n",
       "      <td>0.000000</td>\n",
       "      <td>0.0</td>\n",
       "      <td>0.0</td>\n",
       "      <td>0.000000</td>\n",
       "      <td>0.0</td>\n",
       "      <td>0.0</td>\n",
       "      <td>0.000000</td>\n",
       "      <td>0.0</td>\n",
       "      <td>0.000000</td>\n",
       "      <td>0.0</td>\n",
       "    </tr>\n",
       "    <tr>\n",
       "      <th>25%</th>\n",
       "      <td>0.219178</td>\n",
       "      <td>0.075843</td>\n",
       "      <td>0.000000</td>\n",
       "      <td>0.000000</td>\n",
       "      <td>0.397959</td>\n",
       "      <td>0.000000</td>\n",
       "      <td>0.000000</td>\n",
       "      <td>0.000000</td>\n",
       "      <td>0.0</td>\n",
       "      <td>0.000000</td>\n",
       "      <td>...</td>\n",
       "      <td>0.000000</td>\n",
       "      <td>0.0</td>\n",
       "      <td>0.0</td>\n",
       "      <td>0.000000</td>\n",
       "      <td>0.0</td>\n",
       "      <td>0.0</td>\n",
       "      <td>1.000000</td>\n",
       "      <td>0.0</td>\n",
       "      <td>0.000000</td>\n",
       "      <td>0.0</td>\n",
       "    </tr>\n",
       "    <tr>\n",
       "      <th>50%</th>\n",
       "      <td>0.335616</td>\n",
       "      <td>0.112408</td>\n",
       "      <td>0.000000</td>\n",
       "      <td>0.000000</td>\n",
       "      <td>0.397959</td>\n",
       "      <td>0.000000</td>\n",
       "      <td>0.000000</td>\n",
       "      <td>0.000000</td>\n",
       "      <td>0.0</td>\n",
       "      <td>1.000000</td>\n",
       "      <td>...</td>\n",
       "      <td>0.000000</td>\n",
       "      <td>0.0</td>\n",
       "      <td>0.0</td>\n",
       "      <td>0.000000</td>\n",
       "      <td>0.0</td>\n",
       "      <td>0.0</td>\n",
       "      <td>1.000000</td>\n",
       "      <td>0.0</td>\n",
       "      <td>0.000000</td>\n",
       "      <td>0.0</td>\n",
       "    </tr>\n",
       "    <tr>\n",
       "      <th>75%</th>\n",
       "      <td>0.479452</td>\n",
       "      <td>0.153507</td>\n",
       "      <td>0.000000</td>\n",
       "      <td>0.000000</td>\n",
       "      <td>0.500000</td>\n",
       "      <td>0.000000</td>\n",
       "      <td>0.000000</td>\n",
       "      <td>0.000000</td>\n",
       "      <td>0.0</td>\n",
       "      <td>1.000000</td>\n",
       "      <td>...</td>\n",
       "      <td>0.000000</td>\n",
       "      <td>0.0</td>\n",
       "      <td>0.0</td>\n",
       "      <td>0.000000</td>\n",
       "      <td>0.0</td>\n",
       "      <td>0.0</td>\n",
       "      <td>1.000000</td>\n",
       "      <td>0.0</td>\n",
       "      <td>0.000000</td>\n",
       "      <td>0.0</td>\n",
       "    </tr>\n",
       "    <tr>\n",
       "      <th>max</th>\n",
       "      <td>1.000000</td>\n",
       "      <td>0.361909</td>\n",
       "      <td>0.050131</td>\n",
       "      <td>0.597567</td>\n",
       "      <td>1.000000</td>\n",
       "      <td>1.000000</td>\n",
       "      <td>1.000000</td>\n",
       "      <td>1.000000</td>\n",
       "      <td>0.0</td>\n",
       "      <td>1.000000</td>\n",
       "      <td>...</td>\n",
       "      <td>1.000000</td>\n",
       "      <td>0.0</td>\n",
       "      <td>0.0</td>\n",
       "      <td>1.000000</td>\n",
       "      <td>0.0</td>\n",
       "      <td>0.0</td>\n",
       "      <td>1.000000</td>\n",
       "      <td>0.0</td>\n",
       "      <td>1.000000</td>\n",
       "      <td>0.0</td>\n",
       "    </tr>\n",
       "  </tbody>\n",
       "</table>\n",
       "<p>8 rows × 108 columns</p>\n",
       "</div>"
      ],
      "text/plain": [
       "              age  demogweight  capital-gain  capital-loss  hours-per-week  \\\n",
       "count  296.000000   296.000000    296.000000    296.000000      296.000000   \n",
       "mean     0.371529     0.120471      0.003487      0.048767        0.448359   \n",
       "std      0.180267     0.067389      0.011680      0.139489        0.117745   \n",
       "min      0.054795     0.002332      0.000000      0.000000        0.020408   \n",
       "25%      0.219178     0.075843      0.000000      0.000000        0.397959   \n",
       "50%      0.335616     0.112408      0.000000      0.000000        0.397959   \n",
       "75%      0.479452     0.153507      0.000000      0.000000        0.500000   \n",
       "max      1.000000     0.361909      0.050131      0.597567        1.000000   \n",
       "\n",
       "       workclass_?  workclass_Federal-gov  workclass_Local-gov  \\\n",
       "count   296.000000             296.000000           296.000000   \n",
       "mean      0.016892               0.040541             0.121622   \n",
       "std       0.129085               0.197557             0.327402   \n",
       "min       0.000000               0.000000             0.000000   \n",
       "25%       0.000000               0.000000             0.000000   \n",
       "50%       0.000000               0.000000             0.000000   \n",
       "75%       0.000000               0.000000             0.000000   \n",
       "max       1.000000               1.000000             1.000000   \n",
       "\n",
       "       workclass_Never-worked  workclass_Private  ...  \\\n",
       "count                   296.0         296.000000  ...   \n",
       "mean                      0.0           0.658784  ...   \n",
       "std                       0.0           0.474921  ...   \n",
       "min                       0.0           0.000000  ...   \n",
       "25%                       0.0           0.000000  ...   \n",
       "50%                       0.0           1.000000  ...   \n",
       "75%                       0.0           1.000000  ...   \n",
       "max                       0.0           1.000000  ...   \n",
       "\n",
       "       native-country_Puerto-Rico  native-country_Scotland  \\\n",
       "count                  296.000000                    296.0   \n",
       "mean                     0.003378                      0.0   \n",
       "std                      0.058124                      0.0   \n",
       "min                      0.000000                      0.0   \n",
       "25%                      0.000000                      0.0   \n",
       "50%                      0.000000                      0.0   \n",
       "75%                      0.000000                      0.0   \n",
       "max                      1.000000                      0.0   \n",
       "\n",
       "       native-country_South  native-country_Taiwan  native-country_Thailand  \\\n",
       "count                 296.0             296.000000                    296.0   \n",
       "mean                    0.0               0.006757                      0.0   \n",
       "std                     0.0               0.082060                      0.0   \n",
       "min                     0.0               0.000000                      0.0   \n",
       "25%                     0.0               0.000000                      0.0   \n",
       "50%                     0.0               0.000000                      0.0   \n",
       "75%                     0.0               0.000000                      0.0   \n",
       "max                     0.0               1.000000                      0.0   \n",
       "\n",
       "       native-country_Trinadad&Tobago  native-country_United-States  \\\n",
       "count                           296.0                    296.000000   \n",
       "mean                              0.0                      0.885135   \n",
       "std                               0.0                      0.319399   \n",
       "min                               0.0                      0.000000   \n",
       "25%                               0.0                      1.000000   \n",
       "50%                               0.0                      1.000000   \n",
       "75%                               0.0                      1.000000   \n",
       "max                               0.0                      1.000000   \n",
       "\n",
       "       native-country_Vietnam  native-country_Yugoslavia  true_label  \n",
       "count                   296.0                 296.000000       296.0  \n",
       "mean                      0.0                   0.003378         0.0  \n",
       "std                       0.0                   0.058124         0.0  \n",
       "min                       0.0                   0.000000         0.0  \n",
       "25%                       0.0                   0.000000         0.0  \n",
       "50%                       0.0                   0.000000         0.0  \n",
       "75%                       0.0                   0.000000         0.0  \n",
       "max                       0.0                   1.000000         0.0  \n",
       "\n",
       "[8 rows x 108 columns]"
      ]
     },
     "execution_count": 273,
     "metadata": {},
     "output_type": "execute_result"
    }
   ],
   "source": [
    "mis_df_0.describe()"
   ]
  },
  {
   "cell_type": "code",
   "execution_count": 274,
   "id": "86c36bab-0d02-49d7-899a-62cac6fa3826",
   "metadata": {},
   "outputs": [
    {
     "data": {
      "text/html": [
       "<div>\n",
       "<style scoped>\n",
       "    .dataframe tbody tr th:only-of-type {\n",
       "        vertical-align: middle;\n",
       "    }\n",
       "\n",
       "    .dataframe tbody tr th {\n",
       "        vertical-align: top;\n",
       "    }\n",
       "\n",
       "    .dataframe thead th {\n",
       "        text-align: right;\n",
       "    }\n",
       "</style>\n",
       "<table border=\"1\" class=\"dataframe\">\n",
       "  <thead>\n",
       "    <tr style=\"text-align: right;\">\n",
       "      <th></th>\n",
       "      <th>age</th>\n",
       "      <th>demogweight</th>\n",
       "      <th>capital-gain</th>\n",
       "      <th>capital-loss</th>\n",
       "      <th>hours-per-week</th>\n",
       "      <th>workclass_?</th>\n",
       "      <th>workclass_Federal-gov</th>\n",
       "      <th>workclass_Local-gov</th>\n",
       "      <th>workclass_Never-worked</th>\n",
       "      <th>workclass_Private</th>\n",
       "      <th>...</th>\n",
       "      <th>native-country_Puerto-Rico</th>\n",
       "      <th>native-country_Scotland</th>\n",
       "      <th>native-country_South</th>\n",
       "      <th>native-country_Taiwan</th>\n",
       "      <th>native-country_Thailand</th>\n",
       "      <th>native-country_Trinadad&amp;Tobago</th>\n",
       "      <th>native-country_United-States</th>\n",
       "      <th>native-country_Vietnam</th>\n",
       "      <th>native-country_Yugoslavia</th>\n",
       "      <th>true_label</th>\n",
       "    </tr>\n",
       "  </thead>\n",
       "  <tbody>\n",
       "    <tr>\n",
       "      <th>count</th>\n",
       "      <td>296.000000</td>\n",
       "      <td>296.000000</td>\n",
       "      <td>296.000000</td>\n",
       "      <td>296.000000</td>\n",
       "      <td>296.000000</td>\n",
       "      <td>296.000000</td>\n",
       "      <td>296.000000</td>\n",
       "      <td>296.000000</td>\n",
       "      <td>296.0</td>\n",
       "      <td>296.000000</td>\n",
       "      <td>...</td>\n",
       "      <td>296.000000</td>\n",
       "      <td>296.0</td>\n",
       "      <td>296.0</td>\n",
       "      <td>296.000000</td>\n",
       "      <td>296.0</td>\n",
       "      <td>296.0</td>\n",
       "      <td>296.000000</td>\n",
       "      <td>296.0</td>\n",
       "      <td>296.000000</td>\n",
       "      <td>296.0</td>\n",
       "    </tr>\n",
       "    <tr>\n",
       "      <th>mean</th>\n",
       "      <td>0.371529</td>\n",
       "      <td>0.120471</td>\n",
       "      <td>0.003487</td>\n",
       "      <td>0.048767</td>\n",
       "      <td>0.448359</td>\n",
       "      <td>0.016892</td>\n",
       "      <td>0.040541</td>\n",
       "      <td>0.121622</td>\n",
       "      <td>0.0</td>\n",
       "      <td>0.658784</td>\n",
       "      <td>...</td>\n",
       "      <td>0.003378</td>\n",
       "      <td>0.0</td>\n",
       "      <td>0.0</td>\n",
       "      <td>0.006757</td>\n",
       "      <td>0.0</td>\n",
       "      <td>0.0</td>\n",
       "      <td>0.885135</td>\n",
       "      <td>0.0</td>\n",
       "      <td>0.003378</td>\n",
       "      <td>0.0</td>\n",
       "    </tr>\n",
       "    <tr>\n",
       "      <th>std</th>\n",
       "      <td>0.180267</td>\n",
       "      <td>0.067389</td>\n",
       "      <td>0.011680</td>\n",
       "      <td>0.139489</td>\n",
       "      <td>0.117745</td>\n",
       "      <td>0.129085</td>\n",
       "      <td>0.197557</td>\n",
       "      <td>0.327402</td>\n",
       "      <td>0.0</td>\n",
       "      <td>0.474921</td>\n",
       "      <td>...</td>\n",
       "      <td>0.058124</td>\n",
       "      <td>0.0</td>\n",
       "      <td>0.0</td>\n",
       "      <td>0.082060</td>\n",
       "      <td>0.0</td>\n",
       "      <td>0.0</td>\n",
       "      <td>0.319399</td>\n",
       "      <td>0.0</td>\n",
       "      <td>0.058124</td>\n",
       "      <td>0.0</td>\n",
       "    </tr>\n",
       "    <tr>\n",
       "      <th>min</th>\n",
       "      <td>0.054795</td>\n",
       "      <td>0.002332</td>\n",
       "      <td>0.000000</td>\n",
       "      <td>0.000000</td>\n",
       "      <td>0.020408</td>\n",
       "      <td>0.000000</td>\n",
       "      <td>0.000000</td>\n",
       "      <td>0.000000</td>\n",
       "      <td>0.0</td>\n",
       "      <td>0.000000</td>\n",
       "      <td>...</td>\n",
       "      <td>0.000000</td>\n",
       "      <td>0.0</td>\n",
       "      <td>0.0</td>\n",
       "      <td>0.000000</td>\n",
       "      <td>0.0</td>\n",
       "      <td>0.0</td>\n",
       "      <td>0.000000</td>\n",
       "      <td>0.0</td>\n",
       "      <td>0.000000</td>\n",
       "      <td>0.0</td>\n",
       "    </tr>\n",
       "    <tr>\n",
       "      <th>25%</th>\n",
       "      <td>0.219178</td>\n",
       "      <td>0.075843</td>\n",
       "      <td>0.000000</td>\n",
       "      <td>0.000000</td>\n",
       "      <td>0.397959</td>\n",
       "      <td>0.000000</td>\n",
       "      <td>0.000000</td>\n",
       "      <td>0.000000</td>\n",
       "      <td>0.0</td>\n",
       "      <td>0.000000</td>\n",
       "      <td>...</td>\n",
       "      <td>0.000000</td>\n",
       "      <td>0.0</td>\n",
       "      <td>0.0</td>\n",
       "      <td>0.000000</td>\n",
       "      <td>0.0</td>\n",
       "      <td>0.0</td>\n",
       "      <td>1.000000</td>\n",
       "      <td>0.0</td>\n",
       "      <td>0.000000</td>\n",
       "      <td>0.0</td>\n",
       "    </tr>\n",
       "    <tr>\n",
       "      <th>50%</th>\n",
       "      <td>0.335616</td>\n",
       "      <td>0.112408</td>\n",
       "      <td>0.000000</td>\n",
       "      <td>0.000000</td>\n",
       "      <td>0.397959</td>\n",
       "      <td>0.000000</td>\n",
       "      <td>0.000000</td>\n",
       "      <td>0.000000</td>\n",
       "      <td>0.0</td>\n",
       "      <td>1.000000</td>\n",
       "      <td>...</td>\n",
       "      <td>0.000000</td>\n",
       "      <td>0.0</td>\n",
       "      <td>0.0</td>\n",
       "      <td>0.000000</td>\n",
       "      <td>0.0</td>\n",
       "      <td>0.0</td>\n",
       "      <td>1.000000</td>\n",
       "      <td>0.0</td>\n",
       "      <td>0.000000</td>\n",
       "      <td>0.0</td>\n",
       "    </tr>\n",
       "    <tr>\n",
       "      <th>75%</th>\n",
       "      <td>0.479452</td>\n",
       "      <td>0.153507</td>\n",
       "      <td>0.000000</td>\n",
       "      <td>0.000000</td>\n",
       "      <td>0.500000</td>\n",
       "      <td>0.000000</td>\n",
       "      <td>0.000000</td>\n",
       "      <td>0.000000</td>\n",
       "      <td>0.0</td>\n",
       "      <td>1.000000</td>\n",
       "      <td>...</td>\n",
       "      <td>0.000000</td>\n",
       "      <td>0.0</td>\n",
       "      <td>0.0</td>\n",
       "      <td>0.000000</td>\n",
       "      <td>0.0</td>\n",
       "      <td>0.0</td>\n",
       "      <td>1.000000</td>\n",
       "      <td>0.0</td>\n",
       "      <td>0.000000</td>\n",
       "      <td>0.0</td>\n",
       "    </tr>\n",
       "    <tr>\n",
       "      <th>max</th>\n",
       "      <td>1.000000</td>\n",
       "      <td>0.361909</td>\n",
       "      <td>0.050131</td>\n",
       "      <td>0.597567</td>\n",
       "      <td>1.000000</td>\n",
       "      <td>1.000000</td>\n",
       "      <td>1.000000</td>\n",
       "      <td>1.000000</td>\n",
       "      <td>0.0</td>\n",
       "      <td>1.000000</td>\n",
       "      <td>...</td>\n",
       "      <td>1.000000</td>\n",
       "      <td>0.0</td>\n",
       "      <td>0.0</td>\n",
       "      <td>1.000000</td>\n",
       "      <td>0.0</td>\n",
       "      <td>0.0</td>\n",
       "      <td>1.000000</td>\n",
       "      <td>0.0</td>\n",
       "      <td>1.000000</td>\n",
       "      <td>0.0</td>\n",
       "    </tr>\n",
       "  </tbody>\n",
       "</table>\n",
       "<p>8 rows × 108 columns</p>\n",
       "</div>"
      ],
      "text/plain": [
       "              age  demogweight  capital-gain  capital-loss  hours-per-week  \\\n",
       "count  296.000000   296.000000    296.000000    296.000000      296.000000   \n",
       "mean     0.371529     0.120471      0.003487      0.048767        0.448359   \n",
       "std      0.180267     0.067389      0.011680      0.139489        0.117745   \n",
       "min      0.054795     0.002332      0.000000      0.000000        0.020408   \n",
       "25%      0.219178     0.075843      0.000000      0.000000        0.397959   \n",
       "50%      0.335616     0.112408      0.000000      0.000000        0.397959   \n",
       "75%      0.479452     0.153507      0.000000      0.000000        0.500000   \n",
       "max      1.000000     0.361909      0.050131      0.597567        1.000000   \n",
       "\n",
       "       workclass_?  workclass_Federal-gov  workclass_Local-gov  \\\n",
       "count   296.000000             296.000000           296.000000   \n",
       "mean      0.016892               0.040541             0.121622   \n",
       "std       0.129085               0.197557             0.327402   \n",
       "min       0.000000               0.000000             0.000000   \n",
       "25%       0.000000               0.000000             0.000000   \n",
       "50%       0.000000               0.000000             0.000000   \n",
       "75%       0.000000               0.000000             0.000000   \n",
       "max       1.000000               1.000000             1.000000   \n",
       "\n",
       "       workclass_Never-worked  workclass_Private  ...  \\\n",
       "count                   296.0         296.000000  ...   \n",
       "mean                      0.0           0.658784  ...   \n",
       "std                       0.0           0.474921  ...   \n",
       "min                       0.0           0.000000  ...   \n",
       "25%                       0.0           0.000000  ...   \n",
       "50%                       0.0           1.000000  ...   \n",
       "75%                       0.0           1.000000  ...   \n",
       "max                       0.0           1.000000  ...   \n",
       "\n",
       "       native-country_Puerto-Rico  native-country_Scotland  \\\n",
       "count                  296.000000                    296.0   \n",
       "mean                     0.003378                      0.0   \n",
       "std                      0.058124                      0.0   \n",
       "min                      0.000000                      0.0   \n",
       "25%                      0.000000                      0.0   \n",
       "50%                      0.000000                      0.0   \n",
       "75%                      0.000000                      0.0   \n",
       "max                      1.000000                      0.0   \n",
       "\n",
       "       native-country_South  native-country_Taiwan  native-country_Thailand  \\\n",
       "count                 296.0             296.000000                    296.0   \n",
       "mean                    0.0               0.006757                      0.0   \n",
       "std                     0.0               0.082060                      0.0   \n",
       "min                     0.0               0.000000                      0.0   \n",
       "25%                     0.0               0.000000                      0.0   \n",
       "50%                     0.0               0.000000                      0.0   \n",
       "75%                     0.0               0.000000                      0.0   \n",
       "max                     0.0               1.000000                      0.0   \n",
       "\n",
       "       native-country_Trinadad&Tobago  native-country_United-States  \\\n",
       "count                           296.0                    296.000000   \n",
       "mean                              0.0                      0.885135   \n",
       "std                               0.0                      0.319399   \n",
       "min                               0.0                      0.000000   \n",
       "25%                               0.0                      1.000000   \n",
       "50%                               0.0                      1.000000   \n",
       "75%                               0.0                      1.000000   \n",
       "max                               0.0                      1.000000   \n",
       "\n",
       "       native-country_Vietnam  native-country_Yugoslavia  true_label  \n",
       "count                   296.0                 296.000000       296.0  \n",
       "mean                      0.0                   0.003378         0.0  \n",
       "std                       0.0                   0.058124         0.0  \n",
       "min                       0.0                   0.000000         0.0  \n",
       "25%                       0.0                   0.000000         0.0  \n",
       "50%                       0.0                   0.000000         0.0  \n",
       "75%                       0.0                   0.000000         0.0  \n",
       "max                       0.0                   1.000000         0.0  \n",
       "\n",
       "[8 rows x 108 columns]"
      ]
     },
     "execution_count": 274,
     "metadata": {},
     "output_type": "execute_result"
    }
   ],
   "source": [
    "mis_df_0.describe()"
   ]
  },
  {
   "cell_type": "code",
   "execution_count": 275,
   "id": "d625f3c3-0c70-4807-a29a-022fe6de2a6c",
   "metadata": {},
   "outputs": [],
   "source": [
    "means_mis = mis_df.describe(include='all').loc['mean']\n",
    "means_val = pd.DataFrame(scaled_X_val,columns=X_train.columns).describe(include='all').loc['mean']"
   ]
  },
  {
   "cell_type": "code",
   "execution_count": 276,
   "id": "61657eff-a81e-40c6-b3bc-a5b3a8834a63",
   "metadata": {},
   "outputs": [],
   "source": [
    "means_df = pd.DataFrame([means_mis,means_val])"
   ]
  },
  {
   "cell_type": "code",
   "execution_count": 277,
   "id": "802c9e3f-4010-4279-95ce-2b845475d1e3",
   "metadata": {},
   "outputs": [
    {
     "data": {
      "text/html": [
       "<div>\n",
       "<style scoped>\n",
       "    .dataframe tbody tr th:only-of-type {\n",
       "        vertical-align: middle;\n",
       "    }\n",
       "\n",
       "    .dataframe tbody tr th {\n",
       "        vertical-align: top;\n",
       "    }\n",
       "\n",
       "    .dataframe thead th {\n",
       "        text-align: right;\n",
       "    }\n",
       "</style>\n",
       "<table border=\"1\" class=\"dataframe\">\n",
       "  <thead>\n",
       "    <tr style=\"text-align: right;\">\n",
       "      <th></th>\n",
       "      <th>age</th>\n",
       "      <th>demogweight</th>\n",
       "      <th>capital-gain</th>\n",
       "      <th>capital-loss</th>\n",
       "      <th>hours-per-week</th>\n",
       "      <th>workclass_?</th>\n",
       "      <th>workclass_Federal-gov</th>\n",
       "      <th>workclass_Local-gov</th>\n",
       "      <th>workclass_Never-worked</th>\n",
       "      <th>workclass_Private</th>\n",
       "      <th>...</th>\n",
       "      <th>native-country_Puerto-Rico</th>\n",
       "      <th>native-country_Scotland</th>\n",
       "      <th>native-country_South</th>\n",
       "      <th>native-country_Taiwan</th>\n",
       "      <th>native-country_Thailand</th>\n",
       "      <th>native-country_Trinadad&amp;Tobago</th>\n",
       "      <th>native-country_United-States</th>\n",
       "      <th>native-country_Vietnam</th>\n",
       "      <th>native-country_Yugoslavia</th>\n",
       "      <th>true_label</th>\n",
       "    </tr>\n",
       "  </thead>\n",
       "  <tbody>\n",
       "    <tr>\n",
       "      <th>mean</th>\n",
       "      <td>0.361859</td>\n",
       "      <td>0.115082</td>\n",
       "      <td>0.008302</td>\n",
       "      <td>0.029096</td>\n",
       "      <td>0.439082</td>\n",
       "      <td>0.035294</td>\n",
       "      <td>0.04183</td>\n",
       "      <td>0.073203</td>\n",
       "      <td>0.0</td>\n",
       "      <td>0.67451</td>\n",
       "      <td>...</td>\n",
       "      <td>0.001307</td>\n",
       "      <td>0.0000</td>\n",
       "      <td>0.002614</td>\n",
       "      <td>0.002614</td>\n",
       "      <td>0.0000</td>\n",
       "      <td>0.0000</td>\n",
       "      <td>0.905882</td>\n",
       "      <td>0.0000</td>\n",
       "      <td>0.002614</td>\n",
       "      <td>0.613072</td>\n",
       "    </tr>\n",
       "    <tr>\n",
       "      <th>mean</th>\n",
       "      <td>0.295715</td>\n",
       "      <td>0.117010</td>\n",
       "      <td>0.009698</td>\n",
       "      <td>0.019253</td>\n",
       "      <td>0.402835</td>\n",
       "      <td>0.057200</td>\n",
       "      <td>0.03020</td>\n",
       "      <td>0.061400</td>\n",
       "      <td>0.0</td>\n",
       "      <td>0.70300</td>\n",
       "      <td>...</td>\n",
       "      <td>0.003200</td>\n",
       "      <td>0.0006</td>\n",
       "      <td>0.002200</td>\n",
       "      <td>0.001400</td>\n",
       "      <td>0.0008</td>\n",
       "      <td>0.0004</td>\n",
       "      <td>0.893800</td>\n",
       "      <td>0.0018</td>\n",
       "      <td>0.000400</td>\n",
       "      <td>NaN</td>\n",
       "    </tr>\n",
       "  </tbody>\n",
       "</table>\n",
       "<p>2 rows × 108 columns</p>\n",
       "</div>"
      ],
      "text/plain": [
       "           age  demogweight  capital-gain  capital-loss  hours-per-week  \\\n",
       "mean  0.361859     0.115082      0.008302      0.029096        0.439082   \n",
       "mean  0.295715     0.117010      0.009698      0.019253        0.402835   \n",
       "\n",
       "      workclass_?  workclass_Federal-gov  workclass_Local-gov  \\\n",
       "mean     0.035294                0.04183             0.073203   \n",
       "mean     0.057200                0.03020             0.061400   \n",
       "\n",
       "      workclass_Never-worked  workclass_Private  ...  \\\n",
       "mean                     0.0            0.67451  ...   \n",
       "mean                     0.0            0.70300  ...   \n",
       "\n",
       "      native-country_Puerto-Rico  native-country_Scotland  \\\n",
       "mean                    0.001307                   0.0000   \n",
       "mean                    0.003200                   0.0006   \n",
       "\n",
       "      native-country_South  native-country_Taiwan  native-country_Thailand  \\\n",
       "mean              0.002614               0.002614                   0.0000   \n",
       "mean              0.002200               0.001400                   0.0008   \n",
       "\n",
       "      native-country_Trinadad&Tobago  native-country_United-States  \\\n",
       "mean                          0.0000                      0.905882   \n",
       "mean                          0.0004                      0.893800   \n",
       "\n",
       "      native-country_Vietnam  native-country_Yugoslavia  true_label  \n",
       "mean                  0.0000                   0.002614    0.613072  \n",
       "mean                  0.0018                   0.000400         NaN  \n",
       "\n",
       "[2 rows x 108 columns]"
      ]
     },
     "execution_count": 277,
     "metadata": {},
     "output_type": "execute_result"
    }
   ],
   "source": [
    "means_df"
   ]
  },
  {
   "cell_type": "code",
   "execution_count": 278,
   "id": "5f176ab3-50fe-4605-8d3f-e6d5cf2febd1",
   "metadata": {},
   "outputs": [],
   "source": [
    "means_df = means_df.T"
   ]
  },
  {
   "cell_type": "markdown",
   "id": "7ad27f71-f56c-4c80-9c1c-82d3465bf9ba",
   "metadata": {},
   "source": [
    "(e) Which occupations are associated with predicted income over $50,000? Which education levels? Which ages? Is this intuitive? Construct graphs of the top three categorical predictors, and their relationship to predicted income. Make sure you fine-tune these graphs, and arrange the graphs so that they are truly helpful\n",
    "\n",
    "- predicted class = `1`."
   ]
  },
  {
   "cell_type": "markdown",
   "id": "4be9e2b0-3df9-4f81-a58e-ed4ac3516a05",
   "metadata": {},
   "source": [
    "## Train the best model using all the training data. \n",
    "\n",
    "### Part 2"
   ]
  },
  {
   "cell_type": "markdown",
   "id": "09db0e66-4214-4fb2-a044-2a17a57b7f72",
   "metadata": {},
   "source": [
    "### Best Neural Network"
   ]
  },
  {
   "cell_type": "code",
   "execution_count": 290,
   "id": "ff1bdfb9-ea6b-4eda-9417-53f3fee02b31",
   "metadata": {},
   "outputs": [],
   "source": [
    "scaler2 = preprocessing.MinMaxScaler()"
   ]
  },
  {
   "cell_type": "code",
   "execution_count": 291,
   "id": "fba9f604-95fa-4d2a-835b-31a7b8f3e30a",
   "metadata": {},
   "outputs": [],
   "source": [
    "scaled_X = scaler2.fit_transform(X)"
   ]
  },
  {
   "cell_type": "code",
   "execution_count": 292,
   "id": "38348437-013f-48bf-b709-b941599cc07d",
   "metadata": {},
   "outputs": [
    {
     "data": {
      "text/plain": [
       "{'batch_size': 16,\n",
       " 'init': 'normal',\n",
       " 'nb_epoch': 75,\n",
       " 'neurons': [256, 128],\n",
       " 'optimizer': <keras.optimizer_v2.adam.Adam at 0x7f7c61724850>}"
      ]
     },
     "execution_count": 292,
     "metadata": {},
     "output_type": "execute_result"
    }
   ],
   "source": [
    "grid_result.best_params_"
   ]
  },
  {
   "cell_type": "code",
   "execution_count": 294,
   "id": "d503fdcc-b76a-4a3d-9dde-203ad56c5386",
   "metadata": {},
   "outputs": [],
   "source": [
    "final_model = create_model([256, 128], init='normal', optimizer=adam)"
   ]
  },
  {
   "cell_type": "code",
   "execution_count": 295,
   "id": "aa1140bd-a1a9-4406-9760-b46a9a37e819",
   "metadata": {},
   "outputs": [
    {
     "name": "stdout",
     "output_type": "stream",
     "text": [
      "Epoch 1/75\n",
      "1563/1563 [==============================] - 3s 1ms/step - loss: 0.3581 - accuracy: 0.8244 - precision: 0.6930 - recall: 0.4812 - auc: 0.8521 - prc: 0.6539\n",
      "Epoch 2/75\n",
      "1563/1563 [==============================] - 2s 1ms/step - loss: 0.3261 - accuracy: 0.8469 - precision: 0.7163 - recall: 0.5969 - auc: 0.9020 - prc: 0.7464\n",
      "Epoch 3/75\n",
      "1563/1563 [==============================] - 2s 1ms/step - loss: 0.3168 - accuracy: 0.8532 - precision: 0.7274 - recall: 0.6188 - auc: 0.9077 - prc: 0.7620\n",
      "Epoch 4/75\n",
      "1563/1563 [==============================] - 2s 1ms/step - loss: 0.3108 - accuracy: 0.8540 - precision: 0.7316 - recall: 0.6160 - auc: 0.9112 - prc: 0.7710\n",
      "Epoch 5/75\n",
      "1563/1563 [==============================] - 2s 1ms/step - loss: 0.3069 - accuracy: 0.8564 - precision: 0.7379 - recall: 0.6205 - auc: 0.9134 - prc: 0.7776\n",
      "Epoch 6/75\n",
      "1563/1563 [==============================] - 2s 1ms/step - loss: 0.3015 - accuracy: 0.8602 - precision: 0.7464 - recall: 0.6300 - auc: 0.9170 - prc: 0.7836\n",
      "Epoch 7/75\n",
      "1563/1563 [==============================] - 2s 1ms/step - loss: 0.2969 - accuracy: 0.8624 - precision: 0.7525 - recall: 0.6335 - auc: 0.9194 - prc: 0.7913\n",
      "Epoch 8/75\n",
      "1563/1563 [==============================] - 2s 1ms/step - loss: 0.2929 - accuracy: 0.8635 - precision: 0.7513 - recall: 0.6425 - auc: 0.9217 - prc: 0.7970\n",
      "Epoch 9/75\n",
      "1563/1563 [==============================] - 2s 1ms/step - loss: 0.2885 - accuracy: 0.8656 - precision: 0.7572 - recall: 0.6452 - auc: 0.9244 - prc: 0.8022\n",
      "Epoch 10/75\n",
      "1563/1563 [==============================] - 2s 1ms/step - loss: 0.2833 - accuracy: 0.8675 - precision: 0.7608 - recall: 0.6511 - auc: 0.9273 - prc: 0.8092\n",
      "Epoch 11/75\n",
      "1563/1563 [==============================] - 2s 1ms/step - loss: 0.2793 - accuracy: 0.8707 - precision: 0.7666 - recall: 0.6609 - auc: 0.9293 - prc: 0.8143\n",
      "Epoch 12/75\n",
      "1563/1563 [==============================] - 2s 1ms/step - loss: 0.2746 - accuracy: 0.8732 - precision: 0.7760 - recall: 0.6613 - auc: 0.9319 - prc: 0.8207\n",
      "Epoch 13/75\n",
      "1563/1563 [==============================] - 2s 1ms/step - loss: 0.2710 - accuracy: 0.8730 - precision: 0.7751 - recall: 0.6616 - auc: 0.9336 - prc: 0.8247\n",
      "Epoch 14/75\n",
      "1563/1563 [==============================] - 2s 1ms/step - loss: 0.2670 - accuracy: 0.8761 - precision: 0.7791 - recall: 0.6731 - auc: 0.9357 - prc: 0.8296\n",
      "Epoch 15/75\n",
      "1563/1563 [==============================] - 2s 1ms/step - loss: 0.2641 - accuracy: 0.8765 - precision: 0.7791 - recall: 0.6755 - auc: 0.9371 - prc: 0.8326\n",
      "Epoch 16/75\n",
      "1563/1563 [==============================] - 2s 1ms/step - loss: 0.2607 - accuracy: 0.8792 - precision: 0.7870 - recall: 0.6793 - auc: 0.9386 - prc: 0.8378\n",
      "Epoch 17/75\n",
      "1563/1563 [==============================] - 2s 1ms/step - loss: 0.2565 - accuracy: 0.8815 - precision: 0.7869 - recall: 0.6923 - auc: 0.9407 - prc: 0.8421\n",
      "Epoch 18/75\n",
      "1563/1563 [==============================] - 2s 1ms/step - loss: 0.2541 - accuracy: 0.8804 - precision: 0.7885 - recall: 0.6840 - auc: 0.9415 - prc: 0.8452\n",
      "Epoch 19/75\n",
      "1563/1563 [==============================] - 2s 1ms/step - loss: 0.2509 - accuracy: 0.8806 - precision: 0.7875 - recall: 0.6863 - auc: 0.9434 - prc: 0.8482\n",
      "Epoch 20/75\n",
      "1563/1563 [==============================] - 2s 1ms/step - loss: 0.2484 - accuracy: 0.8826 - precision: 0.7913 - recall: 0.6920 - auc: 0.9442 - prc: 0.8510\n",
      "Epoch 21/75\n",
      "1563/1563 [==============================] - 2s 1ms/step - loss: 0.2456 - accuracy: 0.8829 - precision: 0.7919 - recall: 0.6930 - auc: 0.9453 - prc: 0.8545\n",
      "Epoch 22/75\n",
      "1563/1563 [==============================] - 2s 1ms/step - loss: 0.2429 - accuracy: 0.8860 - precision: 0.8018 - recall: 0.6955 - auc: 0.9464 - prc: 0.8578\n",
      "Epoch 23/75\n",
      "1563/1563 [==============================] - 2s 1ms/step - loss: 0.2410 - accuracy: 0.8868 - precision: 0.7986 - recall: 0.7045 - auc: 0.9475 - prc: 0.8589\n",
      "Epoch 24/75\n",
      "1563/1563 [==============================] - 2s 1ms/step - loss: 0.2378 - accuracy: 0.8871 - precision: 0.7995 - recall: 0.7050 - auc: 0.9490 - prc: 0.8627\n",
      "Epoch 25/75\n",
      "1563/1563 [==============================] - 2s 1ms/step - loss: 0.2370 - accuracy: 0.8877 - precision: 0.7988 - recall: 0.7094 - auc: 0.9490 - prc: 0.8625\n",
      "Epoch 26/75\n",
      "1563/1563 [==============================] - 2s 1ms/step - loss: 0.2340 - accuracy: 0.8894 - precision: 0.8039 - recall: 0.7112 - auc: 0.9503 - prc: 0.8662\n",
      "Epoch 27/75\n",
      "1563/1563 [==============================] - 2s 1ms/step - loss: 0.2322 - accuracy: 0.8895 - precision: 0.8043 - recall: 0.7114 - auc: 0.9511 - prc: 0.8684\n",
      "Epoch 28/75\n",
      "1563/1563 [==============================] - 2s 1ms/step - loss: 0.2302 - accuracy: 0.8911 - precision: 0.8052 - recall: 0.7189 - auc: 0.9520 - prc: 0.8705\n",
      "Epoch 29/75\n",
      "1563/1563 [==============================] - 2s 2ms/step - loss: 0.2284 - accuracy: 0.8901 - precision: 0.8056 - recall: 0.7131 - auc: 0.9526 - prc: 0.8716\n",
      "Epoch 30/75\n",
      "1563/1563 [==============================] - 2s 1ms/step - loss: 0.2264 - accuracy: 0.8926 - precision: 0.8119 - recall: 0.7176 - auc: 0.9533 - prc: 0.8742\n",
      "Epoch 31/75\n",
      "1563/1563 [==============================] - 2s 1ms/step - loss: 0.2256 - accuracy: 0.8925 - precision: 0.8078 - recall: 0.7228 - auc: 0.9538 - prc: 0.8752\n",
      "Epoch 32/75\n",
      "1563/1563 [==============================] - 2s 1ms/step - loss: 0.2224 - accuracy: 0.8936 - precision: 0.8116 - recall: 0.7234 - auc: 0.9548 - prc: 0.8790\n",
      "Epoch 33/75\n",
      "1563/1563 [==============================] - 2s 1ms/step - loss: 0.2201 - accuracy: 0.8964 - precision: 0.8166 - recall: 0.7315 - auc: 0.9560 - prc: 0.8810\n",
      "Epoch 34/75\n",
      "1563/1563 [==============================] - 2s 1ms/step - loss: 0.2196 - accuracy: 0.8942 - precision: 0.8117 - recall: 0.7268 - auc: 0.9560 - prc: 0.8806\n",
      "Epoch 35/75\n",
      "1563/1563 [==============================] - 2s 1ms/step - loss: 0.2178 - accuracy: 0.8961 - precision: 0.8182 - recall: 0.7274 - auc: 0.9566 - prc: 0.8829\n",
      "Epoch 36/75\n",
      "1563/1563 [==============================] - 2s 1ms/step - loss: 0.2157 - accuracy: 0.8971 - precision: 0.8183 - recall: 0.7330 - auc: 0.9575 - prc: 0.8859\n",
      "Epoch 37/75\n",
      "1563/1563 [==============================] - 2s 1ms/step - loss: 0.2156 - accuracy: 0.8964 - precision: 0.8153 - recall: 0.7335 - auc: 0.9576 - prc: 0.8853\n",
      "Epoch 38/75\n",
      "1563/1563 [==============================] - 2s 1ms/step - loss: 0.2131 - accuracy: 0.8984 - precision: 0.8220 - recall: 0.7348 - auc: 0.9586 - prc: 0.8878\n",
      "Epoch 39/75\n",
      "1563/1563 [==============================] - 2s 1ms/step - loss: 0.2122 - accuracy: 0.8991 - precision: 0.8173 - recall: 0.7452 - auc: 0.9588 - prc: 0.8881\n",
      "Epoch 40/75\n",
      "1563/1563 [==============================] - 2s 1ms/step - loss: 0.2098 - accuracy: 0.8975 - precision: 0.8201 - recall: 0.7326 - auc: 0.9598 - prc: 0.8907\n",
      "Epoch 41/75\n",
      "1563/1563 [==============================] - 2s 1ms/step - loss: 0.2094 - accuracy: 0.8988 - precision: 0.8156 - recall: 0.7460 - auc: 0.9598 - prc: 0.8912\n",
      "Epoch 42/75\n",
      "1563/1563 [==============================] - 2s 1ms/step - loss: 0.2067 - accuracy: 0.9002 - precision: 0.8273 - recall: 0.7366 - auc: 0.9609 - prc: 0.8937\n",
      "Epoch 43/75\n",
      "1563/1563 [==============================] - 2s 1ms/step - loss: 0.2073 - accuracy: 0.8993 - precision: 0.8170 - recall: 0.7467 - auc: 0.9608 - prc: 0.8931\n",
      "Epoch 44/75\n",
      "1563/1563 [==============================] - 2s 1ms/step - loss: 0.2045 - accuracy: 0.9009 - precision: 0.8231 - recall: 0.7463 - auc: 0.9618 - prc: 0.8965\n",
      "Epoch 45/75\n",
      "1563/1563 [==============================] - 2s 1ms/step - loss: 0.2041 - accuracy: 0.9027 - precision: 0.8301 - recall: 0.7463 - auc: 0.9619 - prc: 0.8960\n",
      "Epoch 46/75\n",
      "1563/1563 [==============================] - 2s 1ms/step - loss: 0.2020 - accuracy: 0.9031 - precision: 0.8287 - recall: 0.7503 - auc: 0.9629 - prc: 0.8983\n",
      "Epoch 47/75\n",
      "1563/1563 [==============================] - 2s 1ms/step - loss: 0.2016 - accuracy: 0.9025 - precision: 0.8273 - recall: 0.7492 - auc: 0.9627 - prc: 0.8985\n",
      "Epoch 48/75\n",
      "1563/1563 [==============================] - 2s 1ms/step - loss: 0.2005 - accuracy: 0.9042 - precision: 0.8319 - recall: 0.7518 - auc: 0.9635 - prc: 0.8998\n",
      "Epoch 49/75\n",
      "1563/1563 [==============================] - 2s 1ms/step - loss: 0.1994 - accuracy: 0.9045 - precision: 0.8309 - recall: 0.7545 - auc: 0.9638 - prc: 0.9006\n",
      "Epoch 50/75\n",
      "1563/1563 [==============================] - 2s 1ms/step - loss: 0.1990 - accuracy: 0.9039 - precision: 0.8320 - recall: 0.7500 - auc: 0.9637 - prc: 0.9011\n",
      "Epoch 51/75\n",
      "1563/1563 [==============================] - 2s 1ms/step - loss: 0.1976 - accuracy: 0.9044 - precision: 0.8333 - recall: 0.7510 - auc: 0.9644 - prc: 0.9021\n",
      "Epoch 52/75\n",
      "1563/1563 [==============================] - 2s 1ms/step - loss: 0.1960 - accuracy: 0.9047 - precision: 0.8255 - recall: 0.7630 - auc: 0.9649 - prc: 0.9035\n",
      "Epoch 53/75\n",
      "1563/1563 [==============================] - 2s 1ms/step - loss: 0.1937 - accuracy: 0.9056 - precision: 0.8322 - recall: 0.7584 - auc: 0.9656 - prc: 0.9060\n",
      "Epoch 54/75\n",
      "1563/1563 [==============================] - 2s 1ms/step - loss: 0.1940 - accuracy: 0.9057 - precision: 0.8324 - recall: 0.7589 - auc: 0.9657 - prc: 0.9054\n",
      "Epoch 55/75\n",
      "1563/1563 [==============================] - 2s 1ms/step - loss: 0.1945 - accuracy: 0.9057 - precision: 0.8317 - recall: 0.7599 - auc: 0.9653 - prc: 0.9048\n",
      "Epoch 56/75\n",
      "1563/1563 [==============================] - 2s 1ms/step - loss: 0.1907 - accuracy: 0.9077 - precision: 0.8379 - recall: 0.7619 - auc: 0.9668 - prc: 0.9084\n",
      "Epoch 57/75\n",
      "1563/1563 [==============================] - 2s 1ms/step - loss: 0.1909 - accuracy: 0.9073 - precision: 0.8396 - recall: 0.7575 - auc: 0.9667 - prc: 0.9082\n",
      "Epoch 58/75\n",
      "1563/1563 [==============================] - 2s 1ms/step - loss: 0.1914 - accuracy: 0.9065 - precision: 0.8338 - recall: 0.7612 - auc: 0.9666 - prc: 0.9081\n",
      "Epoch 59/75\n",
      "1563/1563 [==============================] - 2s 1ms/step - loss: 0.1888 - accuracy: 0.9076 - precision: 0.8364 - recall: 0.7635 - auc: 0.9673 - prc: 0.9095\n",
      "Epoch 60/75\n",
      "1563/1563 [==============================] - 2s 1ms/step - loss: 0.1882 - accuracy: 0.9085 - precision: 0.8357 - recall: 0.7691 - auc: 0.9677 - prc: 0.9108\n",
      "Epoch 61/75\n",
      "1563/1563 [==============================] - 2s 1ms/step - loss: 0.1881 - accuracy: 0.9091 - precision: 0.8370 - recall: 0.7704 - auc: 0.9678 - prc: 0.9107\n",
      "Epoch 62/75\n",
      "1563/1563 [==============================] - 2s 1ms/step - loss: 0.1853 - accuracy: 0.9085 - precision: 0.8378 - recall: 0.7659 - auc: 0.9686 - prc: 0.9129\n",
      "Epoch 63/75\n",
      "1563/1563 [==============================] - 2s 1ms/step - loss: 0.1848 - accuracy: 0.9102 - precision: 0.8390 - recall: 0.7731 - auc: 0.9689 - prc: 0.9134\n",
      "Epoch 64/75\n",
      "1563/1563 [==============================] - 2s 1ms/step - loss: 0.1842 - accuracy: 0.9098 - precision: 0.8399 - recall: 0.7699 - auc: 0.9690 - prc: 0.9142\n",
      "Epoch 65/75\n",
      "1563/1563 [==============================] - 2s 1ms/step - loss: 0.1834 - accuracy: 0.9118 - precision: 0.8453 - recall: 0.7727 - auc: 0.9691 - prc: 0.9150\n",
      "Epoch 66/75\n",
      "1563/1563 [==============================] - 2s 1ms/step - loss: 0.1831 - accuracy: 0.9107 - precision: 0.8401 - recall: 0.7742 - auc: 0.9692 - prc: 0.9146\n",
      "Epoch 67/75\n",
      "1563/1563 [==============================] - 2s 1ms/step - loss: 0.1812 - accuracy: 0.9108 - precision: 0.8438 - recall: 0.7701 - auc: 0.9699 - prc: 0.9170\n",
      "Epoch 68/75\n",
      "1563/1563 [==============================] - 2s 1ms/step - loss: 0.1803 - accuracy: 0.9118 - precision: 0.8457 - recall: 0.7724 - auc: 0.9703 - prc: 0.9176\n",
      "Epoch 69/75\n",
      "1563/1563 [==============================] - 2s 1ms/step - loss: 0.1798 - accuracy: 0.9124 - precision: 0.8468 - recall: 0.7739 - auc: 0.9705 - prc: 0.9179\n",
      "Epoch 70/75\n",
      "1563/1563 [==============================] - 2s 1ms/step - loss: 0.1795 - accuracy: 0.9118 - precision: 0.8416 - recall: 0.7781 - auc: 0.9707 - prc: 0.9181\n",
      "Epoch 71/75\n",
      "1563/1563 [==============================] - 2s 1ms/step - loss: 0.1775 - accuracy: 0.9142 - precision: 0.8500 - recall: 0.7791 - auc: 0.9715 - prc: 0.9201\n",
      "Epoch 72/75\n",
      "1563/1563 [==============================] - 2s 1ms/step - loss: 0.1775 - accuracy: 0.9128 - precision: 0.8435 - recall: 0.7802 - auc: 0.9713 - prc: 0.9196\n",
      "Epoch 73/75\n",
      "1563/1563 [==============================] - 2s 1ms/step - loss: 0.1751 - accuracy: 0.9155 - precision: 0.8494 - recall: 0.7863 - auc: 0.9719 - prc: 0.9224\n",
      "Epoch 74/75\n",
      "1563/1563 [==============================] - 2s 1ms/step - loss: 0.1766 - accuracy: 0.9138 - precision: 0.8477 - recall: 0.7797 - auc: 0.9714 - prc: 0.9207\n",
      "Epoch 75/75\n",
      "1563/1563 [==============================] - 2s 1ms/step - loss: 0.1758 - accuracy: 0.9132 - precision: 0.8441 - recall: 0.7816 - auc: 0.9718 - prc: 0.9208\n"
     ]
    },
    {
     "data": {
      "text/plain": [
       "<keras.callbacks.History at 0x7f7b735f0d60>"
      ]
     },
     "execution_count": 295,
     "metadata": {},
     "output_type": "execute_result"
    }
   ],
   "source": [
    "final_model.fit(scaled_X,y,epochs=75, batch_size=16,verbose=1)"
   ]
  },
  {
   "cell_type": "code",
   "execution_count": 303,
   "id": "ca534aa8-ec23-478c-ba2d-3d8491cda522",
   "metadata": {},
   "outputs": [],
   "source": [
    "y_pred_final = final_model.predict(scaled_X)\n",
    "y_pred_final_label = (final_model.predict(scaled_X)>0.5).astype(int)"
   ]
  },
  {
   "cell_type": "code",
   "execution_count": 305,
   "id": "1c91a939-346d-49cd-969f-22ac47f2523b",
   "metadata": {},
   "outputs": [
    {
     "data": {
      "text/plain": [
       "0.9228"
      ]
     },
     "execution_count": 305,
     "metadata": {},
     "output_type": "execute_result"
    }
   ],
   "source": [
    "accuracy_score(y,y_pred_final_label)"
   ]
  },
  {
   "cell_type": "code",
   "execution_count": 306,
   "id": "f6a4cc24-cf0d-434e-bf4a-f35571e5745e",
   "metadata": {},
   "outputs": [
    {
     "data": {
      "text/plain": [
       "0.9772087112049184"
      ]
     },
     "execution_count": 306,
     "metadata": {},
     "output_type": "execute_result"
    }
   ],
   "source": [
    "roc_auc_score(y,y_pred_final)"
   ]
  },
  {
   "cell_type": "code",
   "execution_count": 307,
   "id": "b93ed4b7-a598-49ed-a650-44c4819c329a",
   "metadata": {},
   "outputs": [],
   "source": [
    "cf_best = confusion_matrix(y, y_pred_final_label)"
   ]
  },
  {
   "cell_type": "code",
   "execution_count": 308,
   "id": "10881d01-fe6a-4ee5-8219-038fe0979a82",
   "metadata": {},
   "outputs": [
    {
     "data": {
      "text/plain": [
       "<AxesSubplot:>"
      ]
     },
     "execution_count": 308,
     "metadata": {},
     "output_type": "execute_result"
    },
    {
     "data": {
      "image/png": "[encoded data removed]",
      "text/plain": [
       "<Figure size 432x288 with 2 Axes>"
      ]
     },
     "metadata": {
      "needs_background": "light"
     },
     "output_type": "display_data"
    }
   ],
   "source": [
    "sns.heatmap(cf_best, annot=True, cmap='Blues', fmt='d')"
   ]
  },
  {
   "cell_type": "code",
   "execution_count": 309,
   "id": "cc20d9d6-7470-4b98-914e-f1d3d409bf7a",
   "metadata": {},
   "outputs": [
    {
     "data": {
      "text/plain": [
       "<AxesSubplot:>"
      ]
     },
     "execution_count": 309,
     "metadata": {},
     "output_type": "execute_result"
    },
    {
     "data": {
      "image/png": "[encoded data removed]",
      "text/plain": [
       "<Figure size 432x288 with 2 Axes>"
      ]
     },
     "metadata": {
      "needs_background": "light"
     },
     "output_type": "display_data"
    }
   ],
   "source": [
    "sns.heatmap(cf_best/np.sum(cf_best), annot=True, \n",
    "            fmt='.2%', cmap='Blues')"
   ]
  },
  {
   "cell_type": "code",
   "execution_count": 310,
   "id": "27892b5a-0310-44f3-b0fe-75cd5cbbcd02",
   "metadata": {},
   "outputs": [],
   "source": [
    "df_test = pd.read_csv(\"USCensusTest.csv\")"
   ]
  },
  {
   "cell_type": "code",
   "execution_count": 311,
   "id": "5a05dcb8-51cb-435c-a82a-146ce82d4586",
   "metadata": {},
   "outputs": [
    {
     "data": {
      "text/html": [
       "<div>\n",
       "<style scoped>\n",
       "    .dataframe tbody tr th:only-of-type {\n",
       "        vertical-align: middle;\n",
       "    }\n",
       "\n",
       "    .dataframe tbody tr th {\n",
       "        vertical-align: top;\n",
       "    }\n",
       "\n",
       "    .dataframe thead th {\n",
       "        text-align: right;\n",
       "    }\n",
       "</style>\n",
       "<table border=\"1\" class=\"dataframe\">\n",
       "  <thead>\n",
       "    <tr style=\"text-align: right;\">\n",
       "      <th></th>\n",
       "      <th>age</th>\n",
       "      <th>workclass</th>\n",
       "      <th>demogweight</th>\n",
       "      <th>education</th>\n",
       "      <th>education-num</th>\n",
       "      <th>marital-status</th>\n",
       "      <th>occupation</th>\n",
       "      <th>relationship</th>\n",
       "      <th>race</th>\n",
       "      <th>sex</th>\n",
       "      <th>capital-gain</th>\n",
       "      <th>capital-loss</th>\n",
       "      <th>hours-per-week</th>\n",
       "      <th>native-country</th>\n",
       "    </tr>\n",
       "  </thead>\n",
       "  <tbody>\n",
       "    <tr>\n",
       "      <th>0</th>\n",
       "      <td>44</td>\n",
       "      <td>Private</td>\n",
       "      <td>162028</td>\n",
       "      <td>11th</td>\n",
       "      <td>7</td>\n",
       "      <td>Divorced</td>\n",
       "      <td>Sales</td>\n",
       "      <td>Unmarried</td>\n",
       "      <td>White</td>\n",
       "      <td>Female</td>\n",
       "      <td>0</td>\n",
       "      <td>0</td>\n",
       "      <td>44</td>\n",
       "      <td>United-States</td>\n",
       "    </tr>\n",
       "    <tr>\n",
       "      <th>1</th>\n",
       "      <td>20</td>\n",
       "      <td>Private</td>\n",
       "      <td>197997</td>\n",
       "      <td>Some-college</td>\n",
       "      <td>10</td>\n",
       "      <td>Never-married</td>\n",
       "      <td>Prof-specialty</td>\n",
       "      <td>Own-child</td>\n",
       "      <td>White</td>\n",
       "      <td>Male</td>\n",
       "      <td>0</td>\n",
       "      <td>0</td>\n",
       "      <td>40</td>\n",
       "      <td>United-States</td>\n",
       "    </tr>\n",
       "    <tr>\n",
       "      <th>2</th>\n",
       "      <td>46</td>\n",
       "      <td>Private</td>\n",
       "      <td>98350</td>\n",
       "      <td>10th</td>\n",
       "      <td>6</td>\n",
       "      <td>Married-spouse-absent</td>\n",
       "      <td>Other-service</td>\n",
       "      <td>Not-in-family</td>\n",
       "      <td>Asian-Pac-Islander</td>\n",
       "      <td>Male</td>\n",
       "      <td>0</td>\n",
       "      <td>0</td>\n",
       "      <td>37</td>\n",
       "      <td>China</td>\n",
       "    </tr>\n",
       "    <tr>\n",
       "      <th>3</th>\n",
       "      <td>39</td>\n",
       "      <td>Private</td>\n",
       "      <td>165848</td>\n",
       "      <td>HS-grad</td>\n",
       "      <td>9</td>\n",
       "      <td>Married-civ-spouse</td>\n",
       "      <td>Sales</td>\n",
       "      <td>Husband</td>\n",
       "      <td>White</td>\n",
       "      <td>Male</td>\n",
       "      <td>0</td>\n",
       "      <td>0</td>\n",
       "      <td>50</td>\n",
       "      <td>United-States</td>\n",
       "    </tr>\n",
       "    <tr>\n",
       "      <th>4</th>\n",
       "      <td>34</td>\n",
       "      <td>Private</td>\n",
       "      <td>178615</td>\n",
       "      <td>HS-grad</td>\n",
       "      <td>9</td>\n",
       "      <td>Never-married</td>\n",
       "      <td>Handlers-cleaners</td>\n",
       "      <td>Not-in-family</td>\n",
       "      <td>White</td>\n",
       "      <td>Male</td>\n",
       "      <td>0</td>\n",
       "      <td>0</td>\n",
       "      <td>40</td>\n",
       "      <td>United-States</td>\n",
       "    </tr>\n",
       "  </tbody>\n",
       "</table>\n",
       "</div>"
      ],
      "text/plain": [
       "   age workclass  demogweight     education  education-num  \\\n",
       "0   44   Private       162028          11th              7   \n",
       "1   20   Private       197997  Some-college             10   \n",
       "2   46   Private        98350          10th              6   \n",
       "3   39   Private       165848       HS-grad              9   \n",
       "4   34   Private       178615       HS-grad              9   \n",
       "\n",
       "          marital-status         occupation   relationship  \\\n",
       "0               Divorced              Sales      Unmarried   \n",
       "1          Never-married     Prof-specialty      Own-child   \n",
       "2  Married-spouse-absent      Other-service  Not-in-family   \n",
       "3     Married-civ-spouse              Sales        Husband   \n",
       "4          Never-married  Handlers-cleaners  Not-in-family   \n",
       "\n",
       "                 race     sex  capital-gain  capital-loss  hours-per-week  \\\n",
       "0               White  Female             0             0              44   \n",
       "1               White    Male             0             0              40   \n",
       "2  Asian-Pac-Islander    Male             0             0              37   \n",
       "3               White    Male             0             0              50   \n",
       "4               White    Male             0             0              40   \n",
       "\n",
       "  native-country  \n",
       "0  United-States  \n",
       "1  United-States  \n",
       "2          China  \n",
       "3  United-States  \n",
       "4  United-States  "
      ]
     },
     "execution_count": 311,
     "metadata": {},
     "output_type": "execute_result"
    }
   ],
   "source": [
    "df_test.head()"
   ]
  },
  {
   "cell_type": "code",
   "execution_count": 312,
   "id": "362060f6-b0f6-43b4-91d9-8e4c4225f463",
   "metadata": {},
   "outputs": [
    {
     "data": {
      "text/plain": [
       "(7561, 14)"
      ]
     },
     "execution_count": 312,
     "metadata": {},
     "output_type": "execute_result"
    }
   ],
   "source": [
    "df_test.shape"
   ]
  },
  {
   "cell_type": "code",
   "execution_count": 313,
   "id": "b92fe1fb-fece-4269-97eb-a18320b82373",
   "metadata": {},
   "outputs": [],
   "source": [
    "df_test = df_test.drop(\"education-num\",axis=1)"
   ]
  },
  {
   "cell_type": "code",
   "execution_count": 314,
   "id": "ed30adf8-2637-4389-a81e-d125b0356e20",
   "metadata": {},
   "outputs": [],
   "source": [
    "df_test_dum = pd.get_dummies(df_test, columns = categorical_cols)"
   ]
  },
  {
   "cell_type": "code",
   "execution_count": 315,
   "id": "7ac55212-fc76-4d11-b266-2cb8f495dfee",
   "metadata": {},
   "outputs": [
    {
     "data": {
      "text/html": [
       "<div>\n",
       "<style scoped>\n",
       "    .dataframe tbody tr th:only-of-type {\n",
       "        vertical-align: middle;\n",
       "    }\n",
       "\n",
       "    .dataframe tbody tr th {\n",
       "        vertical-align: top;\n",
       "    }\n",
       "\n",
       "    .dataframe thead th {\n",
       "        text-align: right;\n",
       "    }\n",
       "</style>\n",
       "<table border=\"1\" class=\"dataframe\">\n",
       "  <thead>\n",
       "    <tr style=\"text-align: right;\">\n",
       "      <th></th>\n",
       "      <th>age</th>\n",
       "      <th>demogweight</th>\n",
       "      <th>capital-gain</th>\n",
       "      <th>capital-loss</th>\n",
       "      <th>hours-per-week</th>\n",
       "      <th>workclass_?</th>\n",
       "      <th>workclass_Federal-gov</th>\n",
       "      <th>workclass_Local-gov</th>\n",
       "      <th>workclass_Never-worked</th>\n",
       "      <th>workclass_Private</th>\n",
       "      <th>...</th>\n",
       "      <th>native-country_Portugal</th>\n",
       "      <th>native-country_Puerto-Rico</th>\n",
       "      <th>native-country_Scotland</th>\n",
       "      <th>native-country_South</th>\n",
       "      <th>native-country_Taiwan</th>\n",
       "      <th>native-country_Thailand</th>\n",
       "      <th>native-country_Trinadad&amp;Tobago</th>\n",
       "      <th>native-country_United-States</th>\n",
       "      <th>native-country_Vietnam</th>\n",
       "      <th>native-country_Yugoslavia</th>\n",
       "    </tr>\n",
       "  </thead>\n",
       "  <tbody>\n",
       "    <tr>\n",
       "      <th>0</th>\n",
       "      <td>44</td>\n",
       "      <td>162028</td>\n",
       "      <td>0</td>\n",
       "      <td>0</td>\n",
       "      <td>44</td>\n",
       "      <td>0</td>\n",
       "      <td>0</td>\n",
       "      <td>0</td>\n",
       "      <td>0</td>\n",
       "      <td>1</td>\n",
       "      <td>...</td>\n",
       "      <td>0</td>\n",
       "      <td>0</td>\n",
       "      <td>0</td>\n",
       "      <td>0</td>\n",
       "      <td>0</td>\n",
       "      <td>0</td>\n",
       "      <td>0</td>\n",
       "      <td>1</td>\n",
       "      <td>0</td>\n",
       "      <td>0</td>\n",
       "    </tr>\n",
       "    <tr>\n",
       "      <th>1</th>\n",
       "      <td>20</td>\n",
       "      <td>197997</td>\n",
       "      <td>0</td>\n",
       "      <td>0</td>\n",
       "      <td>40</td>\n",
       "      <td>0</td>\n",
       "      <td>0</td>\n",
       "      <td>0</td>\n",
       "      <td>0</td>\n",
       "      <td>1</td>\n",
       "      <td>...</td>\n",
       "      <td>0</td>\n",
       "      <td>0</td>\n",
       "      <td>0</td>\n",
       "      <td>0</td>\n",
       "      <td>0</td>\n",
       "      <td>0</td>\n",
       "      <td>0</td>\n",
       "      <td>1</td>\n",
       "      <td>0</td>\n",
       "      <td>0</td>\n",
       "    </tr>\n",
       "    <tr>\n",
       "      <th>2</th>\n",
       "      <td>46</td>\n",
       "      <td>98350</td>\n",
       "      <td>0</td>\n",
       "      <td>0</td>\n",
       "      <td>37</td>\n",
       "      <td>0</td>\n",
       "      <td>0</td>\n",
       "      <td>0</td>\n",
       "      <td>0</td>\n",
       "      <td>1</td>\n",
       "      <td>...</td>\n",
       "      <td>0</td>\n",
       "      <td>0</td>\n",
       "      <td>0</td>\n",
       "      <td>0</td>\n",
       "      <td>0</td>\n",
       "      <td>0</td>\n",
       "      <td>0</td>\n",
       "      <td>0</td>\n",
       "      <td>0</td>\n",
       "      <td>0</td>\n",
       "    </tr>\n",
       "    <tr>\n",
       "      <th>3</th>\n",
       "      <td>39</td>\n",
       "      <td>165848</td>\n",
       "      <td>0</td>\n",
       "      <td>0</td>\n",
       "      <td>50</td>\n",
       "      <td>0</td>\n",
       "      <td>0</td>\n",
       "      <td>0</td>\n",
       "      <td>0</td>\n",
       "      <td>1</td>\n",
       "      <td>...</td>\n",
       "      <td>0</td>\n",
       "      <td>0</td>\n",
       "      <td>0</td>\n",
       "      <td>0</td>\n",
       "      <td>0</td>\n",
       "      <td>0</td>\n",
       "      <td>0</td>\n",
       "      <td>1</td>\n",
       "      <td>0</td>\n",
       "      <td>0</td>\n",
       "    </tr>\n",
       "    <tr>\n",
       "      <th>4</th>\n",
       "      <td>34</td>\n",
       "      <td>178615</td>\n",
       "      <td>0</td>\n",
       "      <td>0</td>\n",
       "      <td>40</td>\n",
       "      <td>0</td>\n",
       "      <td>0</td>\n",
       "      <td>0</td>\n",
       "      <td>0</td>\n",
       "      <td>1</td>\n",
       "      <td>...</td>\n",
       "      <td>0</td>\n",
       "      <td>0</td>\n",
       "      <td>0</td>\n",
       "      <td>0</td>\n",
       "      <td>0</td>\n",
       "      <td>0</td>\n",
       "      <td>0</td>\n",
       "      <td>1</td>\n",
       "      <td>0</td>\n",
       "      <td>0</td>\n",
       "    </tr>\n",
       "  </tbody>\n",
       "</table>\n",
       "<p>5 rows × 106 columns</p>\n",
       "</div>"
      ],
      "text/plain": [
       "   age  demogweight  capital-gain  capital-loss  hours-per-week  workclass_?  \\\n",
       "0   44       162028             0             0              44            0   \n",
       "1   20       197997             0             0              40            0   \n",
       "2   46        98350             0             0              37            0   \n",
       "3   39       165848             0             0              50            0   \n",
       "4   34       178615             0             0              40            0   \n",
       "\n",
       "   workclass_Federal-gov  workclass_Local-gov  workclass_Never-worked  \\\n",
       "0                      0                    0                       0   \n",
       "1                      0                    0                       0   \n",
       "2                      0                    0                       0   \n",
       "3                      0                    0                       0   \n",
       "4                      0                    0                       0   \n",
       "\n",
       "   workclass_Private  ...  native-country_Portugal  \\\n",
       "0                  1  ...                        0   \n",
       "1                  1  ...                        0   \n",
       "2                  1  ...                        0   \n",
       "3                  1  ...                        0   \n",
       "4                  1  ...                        0   \n",
       "\n",
       "   native-country_Puerto-Rico  native-country_Scotland  native-country_South  \\\n",
       "0                           0                        0                     0   \n",
       "1                           0                        0                     0   \n",
       "2                           0                        0                     0   \n",
       "3                           0                        0                     0   \n",
       "4                           0                        0                     0   \n",
       "\n",
       "   native-country_Taiwan  native-country_Thailand  \\\n",
       "0                      0                        0   \n",
       "1                      0                        0   \n",
       "2                      0                        0   \n",
       "3                      0                        0   \n",
       "4                      0                        0   \n",
       "\n",
       "   native-country_Trinadad&Tobago  native-country_United-States  \\\n",
       "0                               0                             1   \n",
       "1                               0                             1   \n",
       "2                               0                             0   \n",
       "3                               0                             1   \n",
       "4                               0                             1   \n",
       "\n",
       "   native-country_Vietnam  native-country_Yugoslavia  \n",
       "0                       0                          0  \n",
       "1                       0                          0  \n",
       "2                       0                          0  \n",
       "3                       0                          0  \n",
       "4                       0                          0  \n",
       "\n",
       "[5 rows x 106 columns]"
      ]
     },
     "execution_count": 315,
     "metadata": {},
     "output_type": "execute_result"
    }
   ],
   "source": [
    "df_test_dum.head()"
   ]
  },
  {
   "cell_type": "code",
   "execution_count": 316,
   "id": "93f22c4c-4f17-4134-a363-e8d263d10cf4",
   "metadata": {},
   "outputs": [],
   "source": [
    "train_dum_lst = list(X.columns)"
   ]
  },
  {
   "cell_type": "code",
   "execution_count": 317,
   "id": "f6d9bb2b-8cde-4040-8088-dc969673e3cb",
   "metadata": {},
   "outputs": [],
   "source": [
    "test_dum_lst = list(df_test_dum.columns)"
   ]
  },
  {
   "cell_type": "code",
   "execution_count": 318,
   "id": "df8b9ef2-4516-4759-bdc6-73daef347361",
   "metadata": {},
   "outputs": [
    {
     "data": {
      "text/plain": [
       "(107, 106)"
      ]
     },
     "execution_count": 318,
     "metadata": {},
     "output_type": "execute_result"
    }
   ],
   "source": [
    "len(train_dum_lst), len(test_dum_lst)"
   ]
  },
  {
   "cell_type": "code",
   "execution_count": 319,
   "id": "1c82246e-ff98-423c-9b7c-2f1e83aa6f74",
   "metadata": {},
   "outputs": [
    {
     "data": {
      "text/plain": [
       "['native-country_Holand-Netherlands']"
      ]
     },
     "execution_count": 319,
     "metadata": {},
     "output_type": "execute_result"
    }
   ],
   "source": [
    "list(set.difference(set(train_dum_lst),set(test_dum_lst)))"
   ]
  },
  {
   "cell_type": "code",
   "execution_count": 320,
   "id": "e1ce9479-8177-41d7-a941-26e5d2c756cd",
   "metadata": {},
   "outputs": [],
   "source": [
    "cols = list(set.difference(set(train_dum_lst),set(test_dum_lst)))"
   ]
  },
  {
   "cell_type": "code",
   "execution_count": 321,
   "id": "738bf084-ce46-4938-8ca8-7956ff4d29bc",
   "metadata": {},
   "outputs": [],
   "source": [
    "df_test_dum[cols] = np.array([0]*df_test_dum.shape[0])"
   ]
  },
  {
   "cell_type": "markdown",
   "id": "a69fff10-a777-4c28-81f5-6649fad76991",
   "metadata": {},
   "source": [
    "Test dataset also should be transformed according to the training data distribution since we assume that we don't know about the test data distribution during prediction. "
   ]
  },
  {
   "cell_type": "code",
   "execution_count": 322,
   "id": "ffb73ff2-c638-4260-850c-e09b791a0236",
   "metadata": {},
   "outputs": [
    {
     "data": {
      "text/plain": [
       "(7561, 107)"
      ]
     },
     "execution_count": 322,
     "metadata": {},
     "output_type": "execute_result"
    }
   ],
   "source": [
    "df_test_dum.shape"
   ]
  },
  {
   "cell_type": "code",
   "execution_count": 323,
   "id": "f90e2ea8-964f-4af2-af66-7408364d832f",
   "metadata": {},
   "outputs": [
    {
     "data": {
      "text/html": [
       "<div>\n",
       "<style scoped>\n",
       "    .dataframe tbody tr th:only-of-type {\n",
       "        vertical-align: middle;\n",
       "    }\n",
       "\n",
       "    .dataframe tbody tr th {\n",
       "        vertical-align: top;\n",
       "    }\n",
       "\n",
       "    .dataframe thead th {\n",
       "        text-align: right;\n",
       "    }\n",
       "</style>\n",
       "<table border=\"1\" class=\"dataframe\">\n",
       "  <thead>\n",
       "    <tr style=\"text-align: right;\">\n",
       "      <th></th>\n",
       "      <th>age</th>\n",
       "      <th>demogweight</th>\n",
       "      <th>capital-gain</th>\n",
       "      <th>capital-loss</th>\n",
       "      <th>hours-per-week</th>\n",
       "      <th>workclass_?</th>\n",
       "      <th>workclass_Federal-gov</th>\n",
       "      <th>workclass_Local-gov</th>\n",
       "      <th>workclass_Never-worked</th>\n",
       "      <th>workclass_Private</th>\n",
       "      <th>...</th>\n",
       "      <th>native-country_Puerto-Rico</th>\n",
       "      <th>native-country_Scotland</th>\n",
       "      <th>native-country_South</th>\n",
       "      <th>native-country_Taiwan</th>\n",
       "      <th>native-country_Thailand</th>\n",
       "      <th>native-country_Trinadad&amp;Tobago</th>\n",
       "      <th>native-country_United-States</th>\n",
       "      <th>native-country_Vietnam</th>\n",
       "      <th>native-country_Yugoslavia</th>\n",
       "      <th>native-country_Holand-Netherlands</th>\n",
       "    </tr>\n",
       "  </thead>\n",
       "  <tbody>\n",
       "    <tr>\n",
       "      <th>0</th>\n",
       "      <td>44</td>\n",
       "      <td>162028</td>\n",
       "      <td>0</td>\n",
       "      <td>0</td>\n",
       "      <td>44</td>\n",
       "      <td>0</td>\n",
       "      <td>0</td>\n",
       "      <td>0</td>\n",
       "      <td>0</td>\n",
       "      <td>1</td>\n",
       "      <td>...</td>\n",
       "      <td>0</td>\n",
       "      <td>0</td>\n",
       "      <td>0</td>\n",
       "      <td>0</td>\n",
       "      <td>0</td>\n",
       "      <td>0</td>\n",
       "      <td>1</td>\n",
       "      <td>0</td>\n",
       "      <td>0</td>\n",
       "      <td>0</td>\n",
       "    </tr>\n",
       "    <tr>\n",
       "      <th>1</th>\n",
       "      <td>20</td>\n",
       "      <td>197997</td>\n",
       "      <td>0</td>\n",
       "      <td>0</td>\n",
       "      <td>40</td>\n",
       "      <td>0</td>\n",
       "      <td>0</td>\n",
       "      <td>0</td>\n",
       "      <td>0</td>\n",
       "      <td>1</td>\n",
       "      <td>...</td>\n",
       "      <td>0</td>\n",
       "      <td>0</td>\n",
       "      <td>0</td>\n",
       "      <td>0</td>\n",
       "      <td>0</td>\n",
       "      <td>0</td>\n",
       "      <td>1</td>\n",
       "      <td>0</td>\n",
       "      <td>0</td>\n",
       "      <td>0</td>\n",
       "    </tr>\n",
       "    <tr>\n",
       "      <th>2</th>\n",
       "      <td>46</td>\n",
       "      <td>98350</td>\n",
       "      <td>0</td>\n",
       "      <td>0</td>\n",
       "      <td>37</td>\n",
       "      <td>0</td>\n",
       "      <td>0</td>\n",
       "      <td>0</td>\n",
       "      <td>0</td>\n",
       "      <td>1</td>\n",
       "      <td>...</td>\n",
       "      <td>0</td>\n",
       "      <td>0</td>\n",
       "      <td>0</td>\n",
       "      <td>0</td>\n",
       "      <td>0</td>\n",
       "      <td>0</td>\n",
       "      <td>0</td>\n",
       "      <td>0</td>\n",
       "      <td>0</td>\n",
       "      <td>0</td>\n",
       "    </tr>\n",
       "    <tr>\n",
       "      <th>3</th>\n",
       "      <td>39</td>\n",
       "      <td>165848</td>\n",
       "      <td>0</td>\n",
       "      <td>0</td>\n",
       "      <td>50</td>\n",
       "      <td>0</td>\n",
       "      <td>0</td>\n",
       "      <td>0</td>\n",
       "      <td>0</td>\n",
       "      <td>1</td>\n",
       "      <td>...</td>\n",
       "      <td>0</td>\n",
       "      <td>0</td>\n",
       "      <td>0</td>\n",
       "      <td>0</td>\n",
       "      <td>0</td>\n",
       "      <td>0</td>\n",
       "      <td>1</td>\n",
       "      <td>0</td>\n",
       "      <td>0</td>\n",
       "      <td>0</td>\n",
       "    </tr>\n",
       "    <tr>\n",
       "      <th>4</th>\n",
       "      <td>34</td>\n",
       "      <td>178615</td>\n",
       "      <td>0</td>\n",
       "      <td>0</td>\n",
       "      <td>40</td>\n",
       "      <td>0</td>\n",
       "      <td>0</td>\n",
       "      <td>0</td>\n",
       "      <td>0</td>\n",
       "      <td>1</td>\n",
       "      <td>...</td>\n",
       "      <td>0</td>\n",
       "      <td>0</td>\n",
       "      <td>0</td>\n",
       "      <td>0</td>\n",
       "      <td>0</td>\n",
       "      <td>0</td>\n",
       "      <td>1</td>\n",
       "      <td>0</td>\n",
       "      <td>0</td>\n",
       "      <td>0</td>\n",
       "    </tr>\n",
       "  </tbody>\n",
       "</table>\n",
       "<p>5 rows × 107 columns</p>\n",
       "</div>"
      ],
      "text/plain": [
       "   age  demogweight  capital-gain  capital-loss  hours-per-week  workclass_?  \\\n",
       "0   44       162028             0             0              44            0   \n",
       "1   20       197997             0             0              40            0   \n",
       "2   46        98350             0             0              37            0   \n",
       "3   39       165848             0             0              50            0   \n",
       "4   34       178615             0             0              40            0   \n",
       "\n",
       "   workclass_Federal-gov  workclass_Local-gov  workclass_Never-worked  \\\n",
       "0                      0                    0                       0   \n",
       "1                      0                    0                       0   \n",
       "2                      0                    0                       0   \n",
       "3                      0                    0                       0   \n",
       "4                      0                    0                       0   \n",
       "\n",
       "   workclass_Private  ...  native-country_Puerto-Rico  \\\n",
       "0                  1  ...                           0   \n",
       "1                  1  ...                           0   \n",
       "2                  1  ...                           0   \n",
       "3                  1  ...                           0   \n",
       "4                  1  ...                           0   \n",
       "\n",
       "   native-country_Scotland  native-country_South  native-country_Taiwan  \\\n",
       "0                        0                     0                      0   \n",
       "1                        0                     0                      0   \n",
       "2                        0                     0                      0   \n",
       "3                        0                     0                      0   \n",
       "4                        0                     0                      0   \n",
       "\n",
       "   native-country_Thailand  native-country_Trinadad&Tobago  \\\n",
       "0                        0                               0   \n",
       "1                        0                               0   \n",
       "2                        0                               0   \n",
       "3                        0                               0   \n",
       "4                        0                               0   \n",
       "\n",
       "   native-country_United-States  native-country_Vietnam  \\\n",
       "0                             1                       0   \n",
       "1                             1                       0   \n",
       "2                             0                       0   \n",
       "3                             1                       0   \n",
       "4                             1                       0   \n",
       "\n",
       "   native-country_Yugoslavia  native-country_Holand-Netherlands  \n",
       "0                          0                                  0  \n",
       "1                          0                                  0  \n",
       "2                          0                                  0  \n",
       "3                          0                                  0  \n",
       "4                          0                                  0  \n",
       "\n",
       "[5 rows x 107 columns]"
      ]
     },
     "execution_count": 323,
     "metadata": {},
     "output_type": "execute_result"
    }
   ],
   "source": [
    "df_test_dum.head()"
   ]
  },
  {
   "cell_type": "code",
   "execution_count": 324,
   "id": "36e03cc5-2e2d-4122-b2d5-1b3d9c51caf0",
   "metadata": {},
   "outputs": [],
   "source": [
    "df_test_dum = df_test_dum[X.columns]"
   ]
  },
  {
   "cell_type": "code",
   "execution_count": 325,
   "id": "03916807-a568-4291-9284-9d6e4032255a",
   "metadata": {},
   "outputs": [],
   "source": [
    "scaled_X_test = scaler2.transform(df_test_dum)"
   ]
  },
  {
   "cell_type": "code",
   "execution_count": 326,
   "id": "140f1552-fc09-4ced-be61-f1a66cae8343",
   "metadata": {},
   "outputs": [],
   "source": [
    "y_pred_test = best_model.predict(scaled_X_test)"
   ]
  },
  {
   "cell_type": "code",
   "execution_count": 327,
   "id": "20115f01-ea04-4c81-9d41-648846274224",
   "metadata": {},
   "outputs": [
    {
     "data": {
      "text/plain": [
       "array([[0],\n",
       "       [0],\n",
       "       [0],\n",
       "       ...,\n",
       "       [0],\n",
       "       [0],\n",
       "       [1]])"
      ]
     },
     "execution_count": 327,
     "metadata": {},
     "output_type": "execute_result"
    }
   ],
   "source": [
    "y_pred_test"
   ]
  },
  {
   "cell_type": "code",
   "execution_count": 329,
   "id": "52b9e045-5ddd-4160-bb55-e350cc4bb311",
   "metadata": {},
   "outputs": [],
   "source": [
    "np.savetxt(\"Team8Prediction.txt\",y_pred_test)"
   ]
  },
  {
   "cell_type": "markdown",
   "id": "38cb829c-237c-4d67-90c9-bff4793a0019",
   "metadata": {},
   "source": [
    "## Decision Tree-based model (for general discussion)\n",
    "- random forest"
   ]
  },
  {
   "cell_type": "code",
   "execution_count": 174,
   "id": "f339b7d3-e12e-4b2b-83f3-6bf2264bb7aa",
   "metadata": {},
   "outputs": [],
   "source": [
    "from sklearn.ensemble import RandomForestClassifier"
   ]
  },
  {
   "cell_type": "code",
   "execution_count": 175,
   "id": "fba3ece4-9db5-485f-ab6c-33b6b5ec17b8",
   "metadata": {},
   "outputs": [
    {
     "data": {
      "text/html": [
       "<div>\n",
       "<style scoped>\n",
       "    .dataframe tbody tr th:only-of-type {\n",
       "        vertical-align: middle;\n",
       "    }\n",
       "\n",
       "    .dataframe tbody tr th {\n",
       "        vertical-align: top;\n",
       "    }\n",
       "\n",
       "    .dataframe thead th {\n",
       "        text-align: right;\n",
       "    }\n",
       "</style>\n",
       "<table border=\"1\" class=\"dataframe\">\n",
       "  <thead>\n",
       "    <tr style=\"text-align: right;\">\n",
       "      <th></th>\n",
       "      <th>age</th>\n",
       "      <th>demogweight</th>\n",
       "      <th>capital-gain</th>\n",
       "      <th>capital-loss</th>\n",
       "      <th>hours-per-week</th>\n",
       "      <th>workclass_?</th>\n",
       "      <th>workclass_Federal-gov</th>\n",
       "      <th>workclass_Local-gov</th>\n",
       "      <th>workclass_Never-worked</th>\n",
       "      <th>workclass_Private</th>\n",
       "      <th>...</th>\n",
       "      <th>native-country_Portugal</th>\n",
       "      <th>native-country_Puerto-Rico</th>\n",
       "      <th>native-country_Scotland</th>\n",
       "      <th>native-country_South</th>\n",
       "      <th>native-country_Taiwan</th>\n",
       "      <th>native-country_Thailand</th>\n",
       "      <th>native-country_Trinadad&amp;Tobago</th>\n",
       "      <th>native-country_United-States</th>\n",
       "      <th>native-country_Vietnam</th>\n",
       "      <th>native-country_Yugoslavia</th>\n",
       "    </tr>\n",
       "  </thead>\n",
       "  <tbody>\n",
       "    <tr>\n",
       "      <th>0</th>\n",
       "      <td>39</td>\n",
       "      <td>77516</td>\n",
       "      <td>2174</td>\n",
       "      <td>0</td>\n",
       "      <td>40</td>\n",
       "      <td>0</td>\n",
       "      <td>0</td>\n",
       "      <td>0</td>\n",
       "      <td>0</td>\n",
       "      <td>0</td>\n",
       "      <td>...</td>\n",
       "      <td>0</td>\n",
       "      <td>0</td>\n",
       "      <td>0</td>\n",
       "      <td>0</td>\n",
       "      <td>0</td>\n",
       "      <td>0</td>\n",
       "      <td>0</td>\n",
       "      <td>1</td>\n",
       "      <td>0</td>\n",
       "      <td>0</td>\n",
       "    </tr>\n",
       "    <tr>\n",
       "      <th>1</th>\n",
       "      <td>50</td>\n",
       "      <td>83311</td>\n",
       "      <td>0</td>\n",
       "      <td>0</td>\n",
       "      <td>13</td>\n",
       "      <td>0</td>\n",
       "      <td>0</td>\n",
       "      <td>0</td>\n",
       "      <td>0</td>\n",
       "      <td>0</td>\n",
       "      <td>...</td>\n",
       "      <td>0</td>\n",
       "      <td>0</td>\n",
       "      <td>0</td>\n",
       "      <td>0</td>\n",
       "      <td>0</td>\n",
       "      <td>0</td>\n",
       "      <td>0</td>\n",
       "      <td>1</td>\n",
       "      <td>0</td>\n",
       "      <td>0</td>\n",
       "    </tr>\n",
       "    <tr>\n",
       "      <th>2</th>\n",
       "      <td>38</td>\n",
       "      <td>215646</td>\n",
       "      <td>0</td>\n",
       "      <td>0</td>\n",
       "      <td>40</td>\n",
       "      <td>0</td>\n",
       "      <td>0</td>\n",
       "      <td>0</td>\n",
       "      <td>0</td>\n",
       "      <td>1</td>\n",
       "      <td>...</td>\n",
       "      <td>0</td>\n",
       "      <td>0</td>\n",
       "      <td>0</td>\n",
       "      <td>0</td>\n",
       "      <td>0</td>\n",
       "      <td>0</td>\n",
       "      <td>0</td>\n",
       "      <td>1</td>\n",
       "      <td>0</td>\n",
       "      <td>0</td>\n",
       "    </tr>\n",
       "    <tr>\n",
       "      <th>3</th>\n",
       "      <td>53</td>\n",
       "      <td>234721</td>\n",
       "      <td>0</td>\n",
       "      <td>0</td>\n",
       "      <td>40</td>\n",
       "      <td>0</td>\n",
       "      <td>0</td>\n",
       "      <td>0</td>\n",
       "      <td>0</td>\n",
       "      <td>1</td>\n",
       "      <td>...</td>\n",
       "      <td>0</td>\n",
       "      <td>0</td>\n",
       "      <td>0</td>\n",
       "      <td>0</td>\n",
       "      <td>0</td>\n",
       "      <td>0</td>\n",
       "      <td>0</td>\n",
       "      <td>1</td>\n",
       "      <td>0</td>\n",
       "      <td>0</td>\n",
       "    </tr>\n",
       "    <tr>\n",
       "      <th>4</th>\n",
       "      <td>28</td>\n",
       "      <td>338409</td>\n",
       "      <td>0</td>\n",
       "      <td>0</td>\n",
       "      <td>40</td>\n",
       "      <td>0</td>\n",
       "      <td>0</td>\n",
       "      <td>0</td>\n",
       "      <td>0</td>\n",
       "      <td>1</td>\n",
       "      <td>...</td>\n",
       "      <td>0</td>\n",
       "      <td>0</td>\n",
       "      <td>0</td>\n",
       "      <td>0</td>\n",
       "      <td>0</td>\n",
       "      <td>0</td>\n",
       "      <td>0</td>\n",
       "      <td>0</td>\n",
       "      <td>0</td>\n",
       "      <td>0</td>\n",
       "    </tr>\n",
       "  </tbody>\n",
       "</table>\n",
       "<p>5 rows × 107 columns</p>\n",
       "</div>"
      ],
      "text/plain": [
       "   age  demogweight  capital-gain  capital-loss  hours-per-week  workclass_?  \\\n",
       "0   39        77516          2174             0              40            0   \n",
       "1   50        83311             0             0              13            0   \n",
       "2   38       215646             0             0              40            0   \n",
       "3   53       234721             0             0              40            0   \n",
       "4   28       338409             0             0              40            0   \n",
       "\n",
       "   workclass_Federal-gov  workclass_Local-gov  workclass_Never-worked  \\\n",
       "0                      0                    0                       0   \n",
       "1                      0                    0                       0   \n",
       "2                      0                    0                       0   \n",
       "3                      0                    0                       0   \n",
       "4                      0                    0                       0   \n",
       "\n",
       "   workclass_Private  ...  native-country_Portugal  \\\n",
       "0                  0  ...                        0   \n",
       "1                  0  ...                        0   \n",
       "2                  1  ...                        0   \n",
       "3                  1  ...                        0   \n",
       "4                  1  ...                        0   \n",
       "\n",
       "   native-country_Puerto-Rico  native-country_Scotland  native-country_South  \\\n",
       "0                           0                        0                     0   \n",
       "1                           0                        0                     0   \n",
       "2                           0                        0                     0   \n",
       "3                           0                        0                     0   \n",
       "4                           0                        0                     0   \n",
       "\n",
       "   native-country_Taiwan  native-country_Thailand  \\\n",
       "0                      0                        0   \n",
       "1                      0                        0   \n",
       "2                      0                        0   \n",
       "3                      0                        0   \n",
       "4                      0                        0   \n",
       "\n",
       "   native-country_Trinadad&Tobago  native-country_United-States  \\\n",
       "0                               0                             1   \n",
       "1                               0                             1   \n",
       "2                               0                             1   \n",
       "3                               0                             1   \n",
       "4                               0                             0   \n",
       "\n",
       "   native-country_Vietnam  native-country_Yugoslavia  \n",
       "0                       0                          0  \n",
       "1                       0                          0  \n",
       "2                       0                          0  \n",
       "3                       0                          0  \n",
       "4                       0                          0  \n",
       "\n",
       "[5 rows x 107 columns]"
      ]
     },
     "execution_count": 175,
     "metadata": {},
     "output_type": "execute_result"
    }
   ],
   "source": [
    "X.head()"
   ]
  },
  {
   "cell_type": "code",
   "execution_count": 176,
   "id": "e3031c72-5252-470c-91be-ca73e64b291a",
   "metadata": {},
   "outputs": [],
   "source": [
    "rf_clf = RandomForestClassifier()"
   ]
  },
  {
   "cell_type": "code",
   "execution_count": 177,
   "id": "30134a00-cdc5-453a-b613-f5234fd529ce",
   "metadata": {},
   "outputs": [
    {
     "data": {
      "text/plain": [
       "RandomForestClassifier()"
      ]
     },
     "execution_count": 177,
     "metadata": {},
     "output_type": "execute_result"
    }
   ],
   "source": [
    "rf_clf.fit(X,y)"
   ]
  },
  {
   "cell_type": "code",
   "execution_count": 390,
   "id": "f238efae-90f4-401b-a024-1a90e9428f46",
   "metadata": {},
   "outputs": [],
   "source": [
    "y_pred_rf = rf_clf.predict(X)"
   ]
  },
  {
   "cell_type": "code",
   "execution_count": 179,
   "id": "8376550d-5f76-44c4-b20d-5e26315f5d37",
   "metadata": {},
   "outputs": [
    {
     "data": {
      "text/plain": [
       "0.99992"
      ]
     },
     "execution_count": 179,
     "metadata": {},
     "output_type": "execute_result"
    }
   ],
   "source": [
    "accuracy_score(y,y_pred_rf)"
   ]
  },
  {
   "cell_type": "code",
   "execution_count": 180,
   "id": "737c11b9-2937-4148-b0ac-19fb35ec96a5",
   "metadata": {},
   "outputs": [
    {
     "data": {
      "text/plain": [
       "0.9998328877005347"
      ]
     },
     "execution_count": 180,
     "metadata": {},
     "output_type": "execute_result"
    }
   ],
   "source": [
    "roc_auc_score(y,y_pred_rf)"
   ]
  },
  {
   "cell_type": "code",
   "execution_count": 182,
   "id": "b380b7e5-4ee2-42de-8872-899e2aa7b50f",
   "metadata": {},
   "outputs": [
    {
     "data": {
      "text/plain": [
       "array([[19016,     0],\n",
       "       [    2,  5982]], dtype=int64)"
      ]
     },
     "execution_count": 182,
     "metadata": {},
     "output_type": "execute_result"
    }
   ],
   "source": [
    "confusion_matrix(y,y_pred_rf)"
   ]
  },
  {
   "cell_type": "markdown",
   "id": "70a3e038-55e6-4f92-9a1a-a82ef9d9feb6",
   "metadata": {},
   "source": [
    "Do notice that random forest may have the risk of overfitting here. "
   ]
  },
  {
   "cell_type": "code",
   "execution_count": null,
   "id": "9a7587cf-a5fc-4968-bc4f-0ca7cf381d2c",
   "metadata": {},
   "outputs": [],
   "source": []
  }
 ],
 "metadata": {
  "kernelspec": {
   "display_name": "Python 3",
   "language": "python",
   "name": "python3"
  },
  "language_info": {
   "codemirror_mode": {
    "name": "ipython",
    "version": 3
   },
   "file_extension": ".py",
   "mimetype": "text/x-python",
   "name": "python",
   "nbconvert_exporter": "python",
   "pygments_lexer": "ipython3",
   "version": "3.8.8"
  }
 },
 "nbformat": 4,
 "nbformat_minor": 5
}
